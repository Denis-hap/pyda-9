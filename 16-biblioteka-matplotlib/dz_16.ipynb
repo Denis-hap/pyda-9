{
 "cells": [
  {
   "cell_type": "code",
   "execution_count": 309,
   "metadata": {},
   "outputs": [],
   "source": [
    "from pylab import rcParams\n",
    "\n",
    "# импортируем нужные библиотеки\n",
    "import pandas as pd\n",
    "import matplotlib.pyplot as plt\n",
    "import seaborn as sns"
   ]
  },
  {
   "cell_type": "code",
   "execution_count": null,
   "metadata": {},
   "outputs": [],
   "source": []
  },
  {
   "cell_type": "code",
   "execution_count": 435,
   "metadata": {},
   "outputs": [
    {
     "data": {
      "text/html": [
       "<div>\n",
       "<style scoped>\n",
       "    .dataframe tbody tr th:only-of-type {\n",
       "        vertical-align: middle;\n",
       "    }\n",
       "\n",
       "    .dataframe tbody tr th {\n",
       "        vertical-align: top;\n",
       "    }\n",
       "\n",
       "    .dataframe thead th {\n",
       "        text-align: right;\n",
       "    }\n",
       "</style>\n",
       "<table border=\"1\" class=\"dataframe\">\n",
       "  <thead>\n",
       "    <tr style=\"text-align: right;\">\n",
       "      <th></th>\n",
       "      <th>vendor_id</th>\n",
       "      <th>id</th>\n",
       "      <th>pickup_datetime</th>\n",
       "      <th>passenger_count</th>\n",
       "      <th>pickup_longitude</th>\n",
       "      <th>pickup_latitude</th>\n",
       "      <th>dropoff_longitude</th>\n",
       "      <th>dropoff_latitude</th>\n",
       "      <th>store_and_fwd_flag</th>\n",
       "    </tr>\n",
       "  </thead>\n",
       "  <tbody>\n",
       "    <tr>\n",
       "      <th>0</th>\n",
       "      <td>1</td>\n",
       "      <td>290760</td>\n",
       "      <td>290760</td>\n",
       "      <td>290760</td>\n",
       "      <td>290760</td>\n",
       "      <td>290760</td>\n",
       "      <td>290760</td>\n",
       "      <td>290760</td>\n",
       "      <td>290760</td>\n",
       "    </tr>\n",
       "    <tr>\n",
       "      <th>1</th>\n",
       "      <td>2</td>\n",
       "      <td>334374</td>\n",
       "      <td>334374</td>\n",
       "      <td>334374</td>\n",
       "      <td>334374</td>\n",
       "      <td>334374</td>\n",
       "      <td>334374</td>\n",
       "      <td>334374</td>\n",
       "      <td>334374</td>\n",
       "    </tr>\n",
       "  </tbody>\n",
       "</table>\n",
       "</div>"
      ],
      "text/plain": [
       "   vendor_id      id  pickup_datetime  passenger_count  pickup_longitude  \\\n",
       "0          1  290760           290760           290760            290760   \n",
       "1          2  334374           334374           334374            334374   \n",
       "\n",
       "   pickup_latitude  dropoff_longitude  dropoff_latitude  store_and_fwd_flag  \n",
       "0           290760             290760            290760              290760  \n",
       "1           334374             334374            334374              334374  "
      ]
     },
     "execution_count": 435,
     "metadata": {},
     "output_type": "execute_result"
    }
   ],
   "source": [
    "data_tax = pd.read_csv('test.csv')\n",
    "# data_tax\n",
    "data_tax_bar = data_tax.groupby('vendor_id').count().reset_index()\n",
    "data_tax_bar"
   ]
  },
  {
   "cell_type": "code",
   "execution_count": null,
   "metadata": {},
   "outputs": [],
   "source": []
  },
  {
   "cell_type": "markdown",
   "metadata": {},
   "source": [
    "Построим столбчатую диаграму и посмотрим у какого перевозчика больше поездок."
   ]
  },
  {
   "cell_type": "code",
   "execution_count": 466,
   "metadata": {},
   "outputs": [
    {
     "data": {
      "image/png": "[encoded data removed]",
      "text/plain": [
       "<Figure size 432x288 with 1 Axes>"
      ]
     },
     "metadata": {
      "needs_background": "light"
     },
     "output_type": "display_data"
    }
   ],
   "source": [
    "plt.bar(data_tax_bar['vendor_id'], data_tax_bar['passenger_count'])\n",
    "plt.xlabel('Перевозчикb')\n",
    "plt.ylabel('Поездки')\n",
    "plt.title('Число поездок на перевозчика')\n",
    "plt.show()"
   ]
  },
  {
   "cell_type": "markdown",
   "metadata": {},
   "source": [
    "Построим круговую диагрумму с соотношением перевозок первого и второго перевозчика."
   ]
  },
  {
   "cell_type": "code",
   "execution_count": 289,
   "metadata": {},
   "outputs": [
    {
     "data": {
      "text/html": [
       "<div>\n",
       "<style scoped>\n",
       "    .dataframe tbody tr th:only-of-type {\n",
       "        vertical-align: middle;\n",
       "    }\n",
       "\n",
       "    .dataframe tbody tr th {\n",
       "        vertical-align: top;\n",
       "    }\n",
       "\n",
       "    .dataframe thead th {\n",
       "        text-align: right;\n",
       "    }\n",
       "</style>\n",
       "<table border=\"1\" class=\"dataframe\">\n",
       "  <thead>\n",
       "    <tr style=\"text-align: right;\">\n",
       "      <th></th>\n",
       "      <th>vendor_id</th>\n",
       "      <th>id</th>\n",
       "      <th>pickup_datetime</th>\n",
       "      <th>passenger_count</th>\n",
       "      <th>pickup_longitude</th>\n",
       "      <th>pickup_latitude</th>\n",
       "      <th>dropoff_longitude</th>\n",
       "      <th>dropoff_latitude</th>\n",
       "      <th>store_and_fwd_flag</th>\n",
       "      <th>percent</th>\n",
       "    </tr>\n",
       "  </thead>\n",
       "  <tbody>\n",
       "    <tr>\n",
       "      <th>0</th>\n",
       "      <td>1</td>\n",
       "      <td>290760</td>\n",
       "      <td>290760</td>\n",
       "      <td>290760</td>\n",
       "      <td>290760</td>\n",
       "      <td>290760</td>\n",
       "      <td>290760</td>\n",
       "      <td>290760</td>\n",
       "      <td>290760</td>\n",
       "      <td>46.511628</td>\n",
       "    </tr>\n",
       "    <tr>\n",
       "      <th>1</th>\n",
       "      <td>2</td>\n",
       "      <td>334374</td>\n",
       "      <td>334374</td>\n",
       "      <td>334374</td>\n",
       "      <td>334374</td>\n",
       "      <td>334374</td>\n",
       "      <td>334374</td>\n",
       "      <td>334374</td>\n",
       "      <td>334374</td>\n",
       "      <td>53.488372</td>\n",
       "    </tr>\n",
       "  </tbody>\n",
       "</table>\n",
       "</div>"
      ],
      "text/plain": [
       "   vendor_id      id  pickup_datetime  passenger_count  pickup_longitude  \\\n",
       "0          1  290760           290760           290760            290760   \n",
       "1          2  334374           334374           334374            334374   \n",
       "\n",
       "   pickup_latitude  dropoff_longitude  dropoff_latitude  store_and_fwd_flag  \\\n",
       "0           290760             290760            290760              290760   \n",
       "1           334374             334374            334374              334374   \n",
       "\n",
       "     percent  \n",
       "0  46.511628  \n",
       "1  53.488372  "
      ]
     },
     "execution_count": 289,
     "metadata": {},
     "output_type": "execute_result"
    }
   ],
   "source": [
    "def percent(percent_):\n",
    "    \n",
    "    one = 100 / data_tax_barh['passenger_count'].sum() \n",
    "    \n",
    "    return percent_ * one\n",
    "\n",
    "data_tax_bar['percent'] = data_tax_bar['passenger_count'].apply(percent)\n",
    "data_tax_bar"
   ]
  },
  {
   "cell_type": "code",
   "execution_count": 442,
   "metadata": {},
   "outputs": [
    {
     "data": {
      "text/plain": [
       "Text(0.5, 1.0, 'Число поездок на перевозчика')"
      ]
     },
     "execution_count": 442,
     "metadata": {},
     "output_type": "execute_result"
    },
    {
     "data": {
      "image/png": "[encoded data removed]",
      "text/plain": [
       "<Figure size 432x288 with 1 Axes>"
      ]
     },
     "metadata": {},
     "output_type": "display_data"
    }
   ],
   "source": [
    "data_tax_bar['passenger_count'].plot(kind='pie',y='vendor_id')\n",
    "plt.title('Число поездок на перевозчика')\n",
    "\n"
   ]
  },
  {
   "cell_type": "code",
   "execution_count": null,
   "metadata": {},
   "outputs": [],
   "source": []
  },
  {
   "cell_type": "markdown",
   "metadata": {},
   "source": [
    "Выведем число поездок и в зависимости от числа пассажиров."
   ]
  },
  {
   "cell_type": "code",
   "execution_count": 350,
   "metadata": {},
   "outputs": [
    {
     "data": {
      "text/html": [
       "<div>\n",
       "<style scoped>\n",
       "    .dataframe tbody tr th:only-of-type {\n",
       "        vertical-align: middle;\n",
       "    }\n",
       "\n",
       "    .dataframe tbody tr th {\n",
       "        vertical-align: top;\n",
       "    }\n",
       "\n",
       "    .dataframe thead th {\n",
       "        text-align: right;\n",
       "    }\n",
       "</style>\n",
       "<table border=\"1\" class=\"dataframe\">\n",
       "  <thead>\n",
       "    <tr style=\"text-align: right;\">\n",
       "      <th></th>\n",
       "      <th>passenger_count</th>\n",
       "      <th>id</th>\n",
       "      <th>vendor_id</th>\n",
       "      <th>pickup_datetime</th>\n",
       "      <th>pickup_longitude</th>\n",
       "      <th>pickup_latitude</th>\n",
       "      <th>dropoff_longitude</th>\n",
       "      <th>dropoff_latitude</th>\n",
       "      <th>store_and_fwd_flag</th>\n",
       "    </tr>\n",
       "  </thead>\n",
       "  <tbody>\n",
       "    <tr>\n",
       "      <th>0</th>\n",
       "      <td>0</td>\n",
       "      <td>23</td>\n",
       "      <td>23</td>\n",
       "      <td>23</td>\n",
       "      <td>23</td>\n",
       "      <td>23</td>\n",
       "      <td>23</td>\n",
       "      <td>23</td>\n",
       "      <td>23</td>\n",
       "    </tr>\n",
       "    <tr>\n",
       "      <th>1</th>\n",
       "      <td>1</td>\n",
       "      <td>443447</td>\n",
       "      <td>443447</td>\n",
       "      <td>443447</td>\n",
       "      <td>443447</td>\n",
       "      <td>443447</td>\n",
       "      <td>443447</td>\n",
       "      <td>443447</td>\n",
       "      <td>443447</td>\n",
       "    </tr>\n",
       "    <tr>\n",
       "      <th>2</th>\n",
       "      <td>2</td>\n",
       "      <td>90027</td>\n",
       "      <td>90027</td>\n",
       "      <td>90027</td>\n",
       "      <td>90027</td>\n",
       "      <td>90027</td>\n",
       "      <td>90027</td>\n",
       "      <td>90027</td>\n",
       "      <td>90027</td>\n",
       "    </tr>\n",
       "    <tr>\n",
       "      <th>3</th>\n",
       "      <td>3</td>\n",
       "      <td>25686</td>\n",
       "      <td>25686</td>\n",
       "      <td>25686</td>\n",
       "      <td>25686</td>\n",
       "      <td>25686</td>\n",
       "      <td>25686</td>\n",
       "      <td>25686</td>\n",
       "      <td>25686</td>\n",
       "    </tr>\n",
       "    <tr>\n",
       "      <th>4</th>\n",
       "      <td>4</td>\n",
       "      <td>12017</td>\n",
       "      <td>12017</td>\n",
       "      <td>12017</td>\n",
       "      <td>12017</td>\n",
       "      <td>12017</td>\n",
       "      <td>12017</td>\n",
       "      <td>12017</td>\n",
       "      <td>12017</td>\n",
       "    </tr>\n",
       "    <tr>\n",
       "      <th>5</th>\n",
       "      <td>5</td>\n",
       "      <td>33411</td>\n",
       "      <td>33411</td>\n",
       "      <td>33411</td>\n",
       "      <td>33411</td>\n",
       "      <td>33411</td>\n",
       "      <td>33411</td>\n",
       "      <td>33411</td>\n",
       "      <td>33411</td>\n",
       "    </tr>\n",
       "    <tr>\n",
       "      <th>6</th>\n",
       "      <td>6</td>\n",
       "      <td>20521</td>\n",
       "      <td>20521</td>\n",
       "      <td>20521</td>\n",
       "      <td>20521</td>\n",
       "      <td>20521</td>\n",
       "      <td>20521</td>\n",
       "      <td>20521</td>\n",
       "      <td>20521</td>\n",
       "    </tr>\n",
       "    <tr>\n",
       "      <th>7</th>\n",
       "      <td>9</td>\n",
       "      <td>2</td>\n",
       "      <td>2</td>\n",
       "      <td>2</td>\n",
       "      <td>2</td>\n",
       "      <td>2</td>\n",
       "      <td>2</td>\n",
       "      <td>2</td>\n",
       "      <td>2</td>\n",
       "    </tr>\n",
       "  </tbody>\n",
       "</table>\n",
       "</div>"
      ],
      "text/plain": [
       "   passenger_count      id  vendor_id  pickup_datetime  pickup_longitude  \\\n",
       "0                0      23         23               23                23   \n",
       "1                1  443447     443447           443447            443447   \n",
       "2                2   90027      90027            90027             90027   \n",
       "3                3   25686      25686            25686             25686   \n",
       "4                4   12017      12017            12017             12017   \n",
       "5                5   33411      33411            33411             33411   \n",
       "6                6   20521      20521            20521             20521   \n",
       "7                9       2          2                2                 2   \n",
       "\n",
       "   pickup_latitude  dropoff_longitude  dropoff_latitude  store_and_fwd_flag  \n",
       "0               23                 23                23                  23  \n",
       "1           443447             443447            443447              443447  \n",
       "2            90027              90027             90027               90027  \n",
       "3            25686              25686             25686               25686  \n",
       "4            12017              12017             12017               12017  \n",
       "5            33411              33411             33411               33411  \n",
       "6            20521              20521             20521               20521  \n",
       "7                2                  2                 2                   2  "
      ]
     },
     "execution_count": 350,
     "metadata": {},
     "output_type": "execute_result"
    }
   ],
   "source": [
    "data_tax_passenger_count = data_tax.groupby(['passenger_count']).count().reset_index()\n",
    "data_tax_passenger_count"
   ]
  },
  {
   "cell_type": "code",
   "execution_count": 352,
   "metadata": {},
   "outputs": [
    {
     "data": {
      "text/plain": [
       "<BarContainer object of 8 artists>"
      ]
     },
     "execution_count": 352,
     "metadata": {},
     "output_type": "execute_result"
    },
    {
     "data": {
      "image/png": "[encoded data removed]",
      "text/plain": [
       "<Figure size 432x288 with 1 Axes>"
      ]
     },
     "metadata": {
      "needs_background": "light"
     },
     "output_type": "display_data"
    }
   ],
   "source": [
    "plt.bar(data_tax_passenger_count['passenger_count'], data_tax_passenger_count['vendor_id'])"
   ]
  },
  {
   "cell_type": "markdown",
   "metadata": {},
   "source": [
    "Построим распределение числа поездок и в зависимости от числа пассажиров."
   ]
  },
  {
   "cell_type": "code",
   "execution_count": 353,
   "metadata": {},
   "outputs": [
    {
     "data": {
      "text/plain": [
       "<matplotlib.axes._subplots.AxesSubplot at 0x2575279f508>"
      ]
     },
     "execution_count": 353,
     "metadata": {},
     "output_type": "execute_result"
    },
    {
     "data": {
      "image/png": "[encoded data removed]",
      "text/plain": [
       "<Figure size 432x288 with 1 Axes>"
      ]
     },
     "metadata": {
      "needs_background": "light"
     },
     "output_type": "display_data"
    }
   ],
   "source": [
    "sns.distplot(data_tax.passenger_count)"
   ]
  },
  {
   "cell_type": "code",
   "execution_count": null,
   "metadata": {},
   "outputs": [],
   "source": []
  },
  {
   "cell_type": "code",
   "execution_count": 354,
   "metadata": {},
   "outputs": [
    {
     "data": {
      "text/html": [
       "<div>\n",
       "<style scoped>\n",
       "    .dataframe tbody tr th:only-of-type {\n",
       "        vertical-align: middle;\n",
       "    }\n",
       "\n",
       "    .dataframe tbody tr th {\n",
       "        vertical-align: top;\n",
       "    }\n",
       "\n",
       "    .dataframe thead th {\n",
       "        text-align: right;\n",
       "    }\n",
       "</style>\n",
       "<table border=\"1\" class=\"dataframe\">\n",
       "  <thead>\n",
       "    <tr style=\"text-align: right;\">\n",
       "      <th></th>\n",
       "      <th>Unnamed: 0</th>\n",
       "      <th>Player</th>\n",
       "      <th>height</th>\n",
       "      <th>weight</th>\n",
       "      <th>collage</th>\n",
       "      <th>born</th>\n",
       "      <th>birth_city</th>\n",
       "      <th>birth_state</th>\n",
       "    </tr>\n",
       "  </thead>\n",
       "  <tbody>\n",
       "    <tr>\n",
       "      <th>0</th>\n",
       "      <td>0</td>\n",
       "      <td>Curly Armstrong</td>\n",
       "      <td>180.0</td>\n",
       "      <td>77.0</td>\n",
       "      <td>Indiana University</td>\n",
       "      <td>1918.0</td>\n",
       "      <td>NaN</td>\n",
       "      <td>NaN</td>\n",
       "    </tr>\n",
       "    <tr>\n",
       "      <th>1</th>\n",
       "      <td>1</td>\n",
       "      <td>Cliff Barker</td>\n",
       "      <td>188.0</td>\n",
       "      <td>83.0</td>\n",
       "      <td>University of Kentucky</td>\n",
       "      <td>1921.0</td>\n",
       "      <td>Yorktown</td>\n",
       "      <td>Indiana</td>\n",
       "    </tr>\n",
       "    <tr>\n",
       "      <th>2</th>\n",
       "      <td>2</td>\n",
       "      <td>Leo Barnhorst</td>\n",
       "      <td>193.0</td>\n",
       "      <td>86.0</td>\n",
       "      <td>University of Notre Dame</td>\n",
       "      <td>1924.0</td>\n",
       "      <td>NaN</td>\n",
       "      <td>NaN</td>\n",
       "    </tr>\n",
       "    <tr>\n",
       "      <th>3</th>\n",
       "      <td>3</td>\n",
       "      <td>Ed Bartels</td>\n",
       "      <td>196.0</td>\n",
       "      <td>88.0</td>\n",
       "      <td>North Carolina State University</td>\n",
       "      <td>1925.0</td>\n",
       "      <td>NaN</td>\n",
       "      <td>NaN</td>\n",
       "    </tr>\n",
       "    <tr>\n",
       "      <th>4</th>\n",
       "      <td>4</td>\n",
       "      <td>Ralph Beard</td>\n",
       "      <td>178.0</td>\n",
       "      <td>79.0</td>\n",
       "      <td>University of Kentucky</td>\n",
       "      <td>1927.0</td>\n",
       "      <td>Hardinsburg</td>\n",
       "      <td>Kentucky</td>\n",
       "    </tr>\n",
       "  </tbody>\n",
       "</table>\n",
       "</div>"
      ],
      "text/plain": [
       "   Unnamed: 0           Player  height  weight  \\\n",
       "0           0  Curly Armstrong   180.0    77.0   \n",
       "1           1     Cliff Barker   188.0    83.0   \n",
       "2           2    Leo Barnhorst   193.0    86.0   \n",
       "3           3       Ed Bartels   196.0    88.0   \n",
       "4           4      Ralph Beard   178.0    79.0   \n",
       "\n",
       "                           collage    born   birth_city birth_state  \n",
       "0               Indiana University  1918.0          NaN         NaN  \n",
       "1           University of Kentucky  1921.0     Yorktown     Indiana  \n",
       "2         University of Notre Dame  1924.0          NaN         NaN  \n",
       "3  North Carolina State University  1925.0          NaN         NaN  \n",
       "4           University of Kentucky  1927.0  Hardinsburg    Kentucky  "
      ]
     },
     "execution_count": 354,
     "metadata": {},
     "output_type": "execute_result"
    }
   ],
   "source": [
    "data_players = pd.read_csv('datasets_1358_30676_Players.csv')\n",
    "\n",
    "data_players.head()"
   ]
  },
  {
   "cell_type": "markdown",
   "metadata": {},
   "source": [
    "Построим график, в котором отразим, сколько университетов имеет от 5 до 90 игроков.\n",
    "\n",
    "Т.е. в 30 университетов имеет по 5 игроков, и только 5 университетов имеют по 30 игроков. "
   ]
  },
  {
   "cell_type": "code",
   "execution_count": null,
   "metadata": {},
   "outputs": [],
   "source": []
  },
  {
   "cell_type": "code",
   "execution_count": 362,
   "metadata": {},
   "outputs": [
    {
     "data": {
      "text/html": [
       "<div>\n",
       "<style scoped>\n",
       "    .dataframe tbody tr th:only-of-type {\n",
       "        vertical-align: middle;\n",
       "    }\n",
       "\n",
       "    .dataframe tbody tr th {\n",
       "        vertical-align: top;\n",
       "    }\n",
       "\n",
       "    .dataframe thead th {\n",
       "        text-align: right;\n",
       "    }\n",
       "</style>\n",
       "<table border=\"1\" class=\"dataframe\">\n",
       "  <thead>\n",
       "    <tr style=\"text-align: right;\">\n",
       "      <th></th>\n",
       "      <th>collage</th>\n",
       "      <th>Unnamed: 0</th>\n",
       "      <th>Player</th>\n",
       "      <th>height</th>\n",
       "      <th>weight</th>\n",
       "      <th>born</th>\n",
       "      <th>birth_city</th>\n",
       "      <th>birth_state</th>\n",
       "    </tr>\n",
       "  </thead>\n",
       "  <tbody>\n",
       "    <tr>\n",
       "      <th>9</th>\n",
       "      <td>Arizona State University</td>\n",
       "      <td>21</td>\n",
       "      <td>21</td>\n",
       "      <td>21</td>\n",
       "      <td>21</td>\n",
       "      <td>21</td>\n",
       "      <td>20</td>\n",
       "      <td>20</td>\n",
       "    </tr>\n",
       "    <tr>\n",
       "      <th>11</th>\n",
       "      <td>Auburn University</td>\n",
       "      <td>16</td>\n",
       "      <td>16</td>\n",
       "      <td>16</td>\n",
       "      <td>16</td>\n",
       "      <td>16</td>\n",
       "      <td>16</td>\n",
       "      <td>16</td>\n",
       "    </tr>\n",
       "    <tr>\n",
       "      <th>21</th>\n",
       "      <td>Baylor University</td>\n",
       "      <td>11</td>\n",
       "      <td>11</td>\n",
       "      <td>11</td>\n",
       "      <td>11</td>\n",
       "      <td>11</td>\n",
       "      <td>10</td>\n",
       "      <td>10</td>\n",
       "    </tr>\n",
       "    <tr>\n",
       "      <th>29</th>\n",
       "      <td>Boston College</td>\n",
       "      <td>18</td>\n",
       "      <td>18</td>\n",
       "      <td>18</td>\n",
       "      <td>18</td>\n",
       "      <td>18</td>\n",
       "      <td>17</td>\n",
       "      <td>17</td>\n",
       "    </tr>\n",
       "    <tr>\n",
       "      <th>31</th>\n",
       "      <td>Bowling Green State University</td>\n",
       "      <td>15</td>\n",
       "      <td>15</td>\n",
       "      <td>15</td>\n",
       "      <td>15</td>\n",
       "      <td>15</td>\n",
       "      <td>10</td>\n",
       "      <td>10</td>\n",
       "    </tr>\n",
       "    <tr>\n",
       "      <th>...</th>\n",
       "      <td>...</td>\n",
       "      <td>...</td>\n",
       "      <td>...</td>\n",
       "      <td>...</td>\n",
       "      <td>...</td>\n",
       "      <td>...</td>\n",
       "      <td>...</td>\n",
       "      <td>...</td>\n",
       "    </tr>\n",
       "    <tr>\n",
       "      <th>401</th>\n",
       "      <td>West Virginia University</td>\n",
       "      <td>14</td>\n",
       "      <td>14</td>\n",
       "      <td>14</td>\n",
       "      <td>14</td>\n",
       "      <td>14</td>\n",
       "      <td>12</td>\n",
       "      <td>12</td>\n",
       "    </tr>\n",
       "    <tr>\n",
       "      <th>407</th>\n",
       "      <td>Western Kentucky University</td>\n",
       "      <td>24</td>\n",
       "      <td>24</td>\n",
       "      <td>24</td>\n",
       "      <td>24</td>\n",
       "      <td>24</td>\n",
       "      <td>14</td>\n",
       "      <td>14</td>\n",
       "    </tr>\n",
       "    <tr>\n",
       "      <th>408</th>\n",
       "      <td>Western Michigan University</td>\n",
       "      <td>6</td>\n",
       "      <td>6</td>\n",
       "      <td>6</td>\n",
       "      <td>6</td>\n",
       "      <td>6</td>\n",
       "      <td>6</td>\n",
       "      <td>6</td>\n",
       "    </tr>\n",
       "    <tr>\n",
       "      <th>411</th>\n",
       "      <td>Wichita State University</td>\n",
       "      <td>11</td>\n",
       "      <td>11</td>\n",
       "      <td>11</td>\n",
       "      <td>11</td>\n",
       "      <td>11</td>\n",
       "      <td>10</td>\n",
       "      <td>10</td>\n",
       "    </tr>\n",
       "    <tr>\n",
       "      <th>418</th>\n",
       "      <td>Xavier University</td>\n",
       "      <td>16</td>\n",
       "      <td>16</td>\n",
       "      <td>16</td>\n",
       "      <td>16</td>\n",
       "      <td>16</td>\n",
       "      <td>14</td>\n",
       "      <td>14</td>\n",
       "    </tr>\n",
       "  </tbody>\n",
       "</table>\n",
       "<p>162 rows × 8 columns</p>\n",
       "</div>"
      ],
      "text/plain": [
       "                            collage  Unnamed: 0  Player  height  weight  born  \\\n",
       "9          Arizona State University          21      21      21      21    21   \n",
       "11                Auburn University          16      16      16      16    16   \n",
       "21                Baylor University          11      11      11      11    11   \n",
       "29                   Boston College          18      18      18      18    18   \n",
       "31   Bowling Green State University          15      15      15      15    15   \n",
       "..                              ...         ...     ...     ...     ...   ...   \n",
       "401        West Virginia University          14      14      14      14    14   \n",
       "407     Western Kentucky University          24      24      24      24    24   \n",
       "408     Western Michigan University           6       6       6       6     6   \n",
       "411        Wichita State University          11      11      11      11    11   \n",
       "418               Xavier University          16      16      16      16    16   \n",
       "\n",
       "     birth_city  birth_state  \n",
       "9            20           20  \n",
       "11           16           16  \n",
       "21           10           10  \n",
       "29           17           17  \n",
       "31           10           10  \n",
       "..          ...          ...  \n",
       "401          12           12  \n",
       "407          14           14  \n",
       "408           6            6  \n",
       "411          10           10  \n",
       "418          14           14  \n",
       "\n",
       "[162 rows x 8 columns]"
      ]
     },
     "execution_count": 362,
     "metadata": {},
     "output_type": "execute_result"
    }
   ],
   "source": [
    "df_player_college = data_players.groupby('collage').count().reset_index()\n",
    "\n",
    "df_player_college_1 = df_player_college[df_player_college['Player'] > 5]\n",
    "df_player_college_1\n",
    "# sns.jointplot(x='collage', y='birth_city', \n",
    "#               data=date_players, kind='scatter')"
   ]
  },
  {
   "cell_type": "code",
   "execution_count": 444,
   "metadata": {},
   "outputs": [
    {
     "data": {
      "text/plain": [
       "<matplotlib.axes._subplots.AxesSubplot at 0x25773822f48>"
      ]
     },
     "execution_count": 444,
     "metadata": {},
     "output_type": "execute_result"
    },
    {
     "data": {
      "image/png": "[encoded data removed]",
      "text/plain": [
       "<Figure size 432x288 with 1 Axes>"
      ]
     },
     "metadata": {
      "needs_background": "light"
     },
     "output_type": "display_data"
    }
   ],
   "source": [
    "df_player_college_1.Player.hist(bins=50)"
   ]
  },
  {
   "cell_type": "markdown",
   "metadata": {},
   "source": [
    "Построим box plot по росту за весь период"
   ]
  },
  {
   "cell_type": "code",
   "execution_count": 445,
   "metadata": {},
   "outputs": [
    {
     "data": {
      "text/plain": [
       "<matplotlib.axes._subplots.AxesSubplot at 0x25773709648>"
      ]
     },
     "execution_count": 445,
     "metadata": {},
     "output_type": "execute_result"
    },
    {
     "data": {
      "image/png": "[encoded data removed]",
      "text/plain": [
       "<Figure size 432x288 with 1 Axes>"
      ]
     },
     "metadata": {
      "needs_background": "light"
     },
     "output_type": "display_data"
    }
   ],
   "source": [
    "data_players['height'].plot(kind='box')"
   ]
  },
  {
   "cell_type": "markdown",
   "metadata": {},
   "source": [
    "Построим box plot по росту за 1997 год"
   ]
  },
  {
   "cell_type": "code",
   "execution_count": 463,
   "metadata": {},
   "outputs": [
    {
     "data": {
      "text/plain": [
       "<matplotlib.axes._subplots.AxesSubplot at 0x25772033a48>"
      ]
     },
     "execution_count": 463,
     "metadata": {},
     "output_type": "execute_result"
    },
    {
     "data": {
      "image/png": "[encoded data removed]",
      "text/plain": [
       "<Figure size 432x288 with 1 Axes>"
      ]
     },
     "metadata": {
      "needs_background": "light"
     },
     "output_type": "display_data"
    }
   ],
   "source": [
    "data_players_1997 = data_players[data_players['born'] > 1996]\n",
    "data_players_1997['height'].plot(kind='box')"
   ]
  },
  {
   "cell_type": "code",
   "execution_count": null,
   "metadata": {},
   "outputs": [],
   "source": []
  },
  {
   "cell_type": "code",
   "execution_count": null,
   "metadata": {},
   "outputs": [],
   "source": []
  },
  {
   "cell_type": "markdown",
   "metadata": {},
   "source": [
    " График распределения игоров по университетам и их роста, но кроме явного среднего роста от 190 до 210 на нем ничего не видно =)"
   ]
  },
  {
   "cell_type": "code",
   "execution_count": 74,
   "metadata": {},
   "outputs": [
    {
     "data": {
      "text/html": [
       "<div>\n",
       "<style scoped>\n",
       "    .dataframe tbody tr th:only-of-type {\n",
       "        vertical-align: middle;\n",
       "    }\n",
       "\n",
       "    .dataframe tbody tr th {\n",
       "        vertical-align: top;\n",
       "    }\n",
       "\n",
       "    .dataframe thead th {\n",
       "        text-align: right;\n",
       "    }\n",
       "</style>\n",
       "<table border=\"1\" class=\"dataframe\">\n",
       "  <thead>\n",
       "    <tr style=\"text-align: right;\">\n",
       "      <th></th>\n",
       "      <th>collage</th>\n",
       "      <th>height</th>\n",
       "    </tr>\n",
       "  </thead>\n",
       "  <tbody>\n",
       "    <tr>\n",
       "      <th>0</th>\n",
       "      <td>Acadia University</td>\n",
       "      <td>188.000000</td>\n",
       "    </tr>\n",
       "    <tr>\n",
       "      <th>1</th>\n",
       "      <td>Alabama A&amp;M University</td>\n",
       "      <td>211.000000</td>\n",
       "    </tr>\n",
       "    <tr>\n",
       "      <th>2</th>\n",
       "      <td>Alabama State University</td>\n",
       "      <td>198.000000</td>\n",
       "    </tr>\n",
       "    <tr>\n",
       "      <th>3</th>\n",
       "      <td>Albany State University</td>\n",
       "      <td>207.250000</td>\n",
       "    </tr>\n",
       "    <tr>\n",
       "      <th>4</th>\n",
       "      <td>Alcorn State University</td>\n",
       "      <td>200.000000</td>\n",
       "    </tr>\n",
       "    <tr>\n",
       "      <th>...</th>\n",
       "      <td>...</td>\n",
       "      <td>...</td>\n",
       "    </tr>\n",
       "    <tr>\n",
       "      <th>417</th>\n",
       "      <td>Wright State University</td>\n",
       "      <td>205.500000</td>\n",
       "    </tr>\n",
       "    <tr>\n",
       "      <th>418</th>\n",
       "      <td>Xavier University</td>\n",
       "      <td>198.312500</td>\n",
       "    </tr>\n",
       "    <tr>\n",
       "      <th>419</th>\n",
       "      <td>Xavier University of Louisiana</td>\n",
       "      <td>195.333333</td>\n",
       "    </tr>\n",
       "    <tr>\n",
       "      <th>420</th>\n",
       "      <td>Yale University</td>\n",
       "      <td>190.000000</td>\n",
       "    </tr>\n",
       "    <tr>\n",
       "      <th>421</th>\n",
       "      <td>Youngstown State University</td>\n",
       "      <td>193.000000</td>\n",
       "    </tr>\n",
       "  </tbody>\n",
       "</table>\n",
       "<p>422 rows × 2 columns</p>\n",
       "</div>"
      ],
      "text/plain": [
       "                            collage      height\n",
       "0                 Acadia University  188.000000\n",
       "1            Alabama A&M University  211.000000\n",
       "2          Alabama State University  198.000000\n",
       "3           Albany State University  207.250000\n",
       "4           Alcorn State University  200.000000\n",
       "..                              ...         ...\n",
       "417         Wright State University  205.500000\n",
       "418               Xavier University  198.312500\n",
       "419  Xavier University of Louisiana  195.333333\n",
       "420                 Yale University  190.000000\n",
       "421     Youngstown State University  193.000000\n",
       "\n",
       "[422 rows x 2 columns]"
      ]
     },
     "execution_count": 74,
     "metadata": {},
     "output_type": "execute_result"
    }
   ],
   "source": [
    "df_player_college_mean = data_players.groupby('collage')[['height']].mean().reset_index()\n",
    "df_player_college_mean"
   ]
  },
  {
   "cell_type": "code",
   "execution_count": 360,
   "metadata": {},
   "outputs": [
    {
     "data": {
      "application/vnd.plotly.v1+json": {
       "config": {
        "linkText": "Export to plot.ly",
        "plotlyServerURL": "https://plot.ly",
        "showLink": false
       },
       "data": [
        {
         "mode": "markers",
         "type": "scatter",
         "x": [
          188,
          211,
          198,
          207.25,
          200,
          188,
          196,
          203,
          185,
          198.57142857142858,
          190,
          199.8125,
          204.5,
          206.33333333333334,
          211,
          208.5,
          208,
          198.8,
          196,
          199.5,
          221,
          197.54545454545453,
          203,
          190,
          190,
          196,
          196,
          208,
          199.66666666666666,
          194.72222222222223,
          201,
          194.93333333333334,
          198.57142857142858,
          204.21052631578948,
          175,
          188,
          211,
          189,
          193,
          185,
          203,
          200.77777777777777,
          196.7,
          197.72222222222223,
          200.25,
          193,
          180,
          183,
          192.5,
          185,
          197.66666666666666,
          213.5,
          202.28571428571428,
          211,
          216,
          193,
          184,
          190,
          198,
          202.75,
          194.4,
          198,
          190,
          218,
          202,
          190.11111111111111,
          194.14285714285714,
          200.75,
          205.5,
          209.5,
          201.27272727272728,
          197.5,
          198.6,
          197.23333333333332,
          193,
          205.5,
          194.6153846153846,
          190.5,
          199.23214285714286,
          193.28571428571428,
          198,
          188,
          170,
          200,
          201.5,
          191.83333333333334,
          191.77777777777777,
          198,
          196,
          193,
          201,
          206,
          183,
          206.75,
          192,
          198.59375,
          194.66666666666666,
          198,
          183,
          198,
          196.5,
          198,
          192,
          201.55555555555554,
          202.48387096774192,
          199.17142857142858,
          195.66666666666666,
          198,
          200.71428571428572,
          199.9090909090909,
          209.5,
          193,
          192.5,
          204.5,
          206,
          194,
          198,
          193,
          201,
          188,
          180,
          203.14285714285714,
          200,
          211,
          213,
          189.4,
          197.85714285714286,
          190,
          194.33333333333334,
          198.95238095238096,
          200.6153846153846,
          194.75,
          201,
          193,
          196.44444444444446,
          210,
          205,
          198.5,
          198,
          188,
          196.47368421052633,
          199,
          188,
          190,
          206,
          203,
          208,
          188,
          196.55555555555554,
          201,
          201.9375,
          204,
          189,
          193.83333333333334,
          198,
          190.5,
          224,
          197.80645161290323,
          195.875,
          190,
          200,
          198,
          203,
          194,
          197.37777777777777,
          199.5,
          208,
          206,
          190,
          190,
          203,
          185,
          194.5,
          198,
          200.16666666666666,
          196,
          216,
          201,
          198,
          190,
          192,
          197.33333333333334,
          201,
          194.3846153846154,
          190.4,
          191,
          201.25,
          193,
          193,
          197.42857142857142,
          208,
          203,
          196.5,
          191.4,
          200.33333333333334,
          186.25,
          190,
          201,
          191.4,
          190.5,
          200.35897435897436,
          200.8,
          198,
          201,
          204,
          194.66666666666666,
          196.7826086956522,
          202.1,
          198.9,
          201.04347826086956,
          198,
          197.5,
          195.23529411764707,
          211,
          203,
          188,
          194.66666666666666,
          206,
          195,
          196.07407407407408,
          198.88,
          197.88888888888889,
          196,
          197.77777777777777,
          206,
          187.33333333333334,
          192.4,
          200.6,
          196.6,
          198,
          194,
          216,
          192,
          203.42857142857142,
          202.33333333333334,
          196.75,
          193.36363636363637,
          195.1818181818182,
          196,
          193,
          198,
          190,
          198,
          202.33333333333334,
          201,
          193.4,
          202.28571428571428,
          192.6,
          193.28571428571428,
          188,
          196.16666666666666,
          203,
          193,
          198.5,
          190,
          196,
          183,
          198,
          200.66666666666666,
          200.3469387755102,
          196.88888888888889,
          197.85714285714286,
          201.66666666666666,
          199.45454545454547,
          200,
          203.2,
          208.5,
          198,
          190,
          192,
          195.33333333333334,
          170,
          208,
          197,
          198.3,
          200.5,
          198,
          216,
          206,
          201,
          199.34782608695653,
          196.8,
          197.7906976744186,
          197.80769230769232,
          197.16666666666666,
          188,
          231,
          198.78571428571428,
          201.33333333333334,
          199.36046511627907,
          201.14285714285714,
          203,
          203,
          186.33333333333334,
          198.75,
          200,
          201.7037037037037,
          195.1875,
          195.66666666666666,
          197.35,
          196.75,
          203.3181818181818,
          198.625,
          211,
          195.33333333333334,
          199.8846153846154,
          202,
          201,
          195.4857142857143,
          200.63333333333333,
          200.3728813559322,
          197.62921348314606,
          192.85714285714286,
          194,
          197.45652173913044,
          208,
          200,
          192.25,
          201.85714285714286,
          196.88,
          197.7,
          199.97368421052633,
          198.1951219512195,
          208,
          200.5,
          196.26923076923077,
          198,
          199,
          196,
          197.63636363636363,
          191.5,
          199.76470588235293,
          203.8,
          205.91666666666666,
          196.14285714285714,
          199.2089552238806,
          193.83333333333334,
          208.5,
          205.5,
          183,
          206,
          197.09803921568627,
          198.78947368421052,
          195.65,
          194.1818181818182,
          204.7058823529412,
          195.25,
          190,
          193,
          202.33333333333334,
          185,
          193,
          199.71428571428572,
          200.16666666666666,
          201.10526315789474,
          208,
          201.6,
          197.90625,
          213,
          200.75,
          203,
          200.92,
          200.5,
          190,
          196.14814814814815,
          200.2,
          203,
          200,
          196,
          195.1,
          200.91304347826087,
          198.23809523809524,
          200.16666666666666,
          185,
          198.54166666666666,
          196.5,
          195.66666666666666,
          203,
          198,
          190,
          197.8181818181818,
          213,
          203,
          195.28571428571428,
          188,
          196.66666666666666,
          202.85714285714286,
          196.72222222222223,
          195.55555555555554,
          196,
          196,
          198,
          196,
          195.68965517241378,
          208,
          180,
          201,
          198,
          195.14285714285714,
          196.75,
          198.75,
          195.14285714285714,
          188,
          193,
          201,
          188.33333333333334,
          201,
          196.45833333333334,
          201.16666666666666,
          193,
          204.5,
          199.27272727272728,
          185,
          185,
          193,
          194,
          211,
          205.5,
          198.3125,
          195.33333333333334,
          190,
          193
         ],
         "y": [
          "Acadia University",
          "Alabama A&M University",
          "Alabama State University",
          "Albany State University",
          "Alcorn State University",
          "Alliance College",
          "American International College",
          "American University",
          "Appalachian State University",
          "Arizona State University",
          "Assumption College",
          "Auburn University",
          "Auburn University at Montgomery",
          "Augsburg College",
          "Augusta State University",
          "Augustana College (SD)",
          "Aurora University",
          "Austin Peay State University",
          "Averett University",
          "Ball State University",
          "Barton County Community College",
          "Baylor University",
          "Belmont Abbey College",
          "Belmont University",
          "Beloit College",
          "Bemidji State University",
          "Bethel College",
          "Blinn College",
          "Boise State University",
          "Boston College",
          "Boston University",
          "Bowling Green State University",
          "Bradley University",
          "Brigham Young University",
          "Brigham Young University Hawaii",
          "Brown University",
          "Bucknell University",
          "Butler University",
          "California Polytechnic State University, San Luis Obispo",
          "California State Polytechnic University, Pomona",
          "California State University, Bakersfield",
          "California State University, Fresno",
          "California State University, Fullerton",
          "California State University, Long Beach",
          "California State University, Los Angeles",
          "California State University, Northridge",
          "California University of Pennslyvania",
          "Campbell University",
          "Canisius College",
          "Catholic University of America",
          "Centenary College of Louisiana",
          "Central Connecticut State University",
          "Central Michigan University",
          "Central State University",
          "Cheyney University of Pennsylvania",
          "Christopher Newport University",
          "City College of New York",
          "City College of San Francisco",
          "Clark Atlanta University",
          "Clemson University",
          "Cleveland State University",
          "Colgate University",
          "College of Charleston",
          "College of Saint Rose",
          "College of William & Mary",
          "College of the Holy Cross",
          "Colorado State University",
          "Columbia University",
          "Coppin State University",
          "Cornell University",
          "Creighton University",
          "Dartmouth College",
          "Davidson College",
          "DePaul University",
          "Delaware State University",
          "Delta State University",
          "Drake University",
          "Drexel University",
          "Duke University",
          "Duquesne University",
          "East Carolina University",
          "East Central University",
          "East Tennessee State University",
          "East Texas State University",
          "Eastern Illinois University",
          "Eastern Kentucky University",
          "Eastern Michigan University",
          "Eastern New Mexico University",
          "Eastern Washington University",
          "Elizabeth City State University",
          "Elon University",
          "Fairfield University",
          "Fayetteville State University",
          "Florida Agricultural and Mechanical University",
          "Florida International University",
          "Florida State University",
          "Fordham University",
          "Fort Valley State University",
          "Franklin College",
          "Friendship Junior College",
          "Furman University",
          "Gardner-Webb University",
          "George Mason University",
          "George Washington University",
          "Georgetown University",
          "Georgia Institute of Technology",
          "Georgia Southern University",
          "Georgia State University",
          "Gonzaga University",
          "Grambling State University",
          "Grand Canyon University",
          "Guilford College",
          "Hamline University",
          "Hampton University",
          "Hardin-Simmons University",
          "Harvard University",
          "Hillsdale College",
          "Hofstra University",
          "Howard University",
          "Humboldt State University",
          "Huntington University",
          "Idaho State University",
          "Illinois State University",
          "Illinois Wesleyan University",
          "Indian Hills Community College",
          "Indiana State University",
          "Indiana University",
          "Indiana University-Purdue University Indianapolis",
          "Iona College",
          "Iowa State University",
          "Jackson State University",
          "Jacksonville University",
          "James Madison University",
          "Johnson C. Smith University",
          "Kansas State University",
          "Kent State University",
          "Kentucky State University",
          "Kentucky Wesleyan College",
          "Kenyon College",
          "King's College",
          "La Salle University",
          "Lamar University",
          "Lawrence Technological University",
          "LeMoyne College",
          "Lebanon Valley College",
          "Lewis University",
          "Liberty University",
          "Lincoln University of Missouri",
          "Long Island University",
          "Longwood University",
          "Louisiana State University",
          "Louisiana Tech University",
          "Loyola College in Maryland",
          "Loyola Marymount University",
          "Loyola University of Chicago",
          "Manhattan College",
          "Marist College",
          "Marquette University",
          "Marshall University",
          "Master's College",
          "McNeese State University",
          "Mercer University",
          "Meridian Community College",
          "Miami University",
          "Michigan State University",
          "Middle Tennessee State University",
          "Midland College",
          "Midwestern State University",
          "Miles College",
          "Millersville University of Pennsylvania",
          "Mississippi State University",
          "Mississippi Valley State University",
          "Missouri State University",
          "Monmouth University",
          "Morehead State University",
          "Morehouse College",
          "Morgan State University",
          "Mount San Antonio College",
          "Mount St. Mary's University",
          "Mount Union College",
          "Muhlenberg College",
          "Murray State University",
          "New Mexico Highlands University",
          "New Mexico State University",
          "New York University",
          "Niagara University",
          "Norfolk State University",
          "North Carolina Agricultural and Technical State University",
          "North Carolina Central University",
          "North Carolina State University",
          "North Park University",
          "Northeast Mississippi Community College",
          "Northeastern State University",
          "Northeastern University",
          "Northern Arizona University",
          "Northern Illinois University",
          "Northwestern Oklahoma State University",
          "Northwestern State University",
          "Northwestern University",
          "Oakland University",
          "Ohio State University",
          "Ohio University",
          "Ohio Wesleyan University",
          "Okaloosa-Walton Community College",
          "Oklahoma Baptist University",
          "Oklahoma City University",
          "Oklahoma State University",
          "Old Dominion University",
          "Oral Roberts University",
          "Oregon State University",
          "Ouachita Baptist University",
          "Pennsylvania State University",
          "Pepperdine University",
          "Pfeiffer University",
          "Phillips University",
          "Pikeville College",
          "Portland State University",
          "Prairie View A&M University",
          "Princeton University",
          "Providence College",
          "Purdue University",
          "Rice University",
          "Robert Morris University (IL)",
          "Rutgers University",
          "Saint Augustine's College",
          "Saint Francis University",
          "Saint Joseph's University",
          "Saint Louis University",
          "Saint Mary's College of California",
          "Saint Mary's University of Minnesota",
          "Saint Peter's College",
          "Saint Vincent College",
          "Sam Houston State University",
          "San Diego State University",
          "San Jose State University",
          "Santa Clara University",
          "Seattle University",
          "Seton Hall University",
          "Seward County Community College",
          "Shaw University",
          "Siena College",
          "Slippery Rock University of Pennsylvania",
          "South Carolina State University",
          "South Dakota State University",
          "Southeastern Oklahoma State University",
          "Southern Illinois University",
          "Southern Methodist University",
          "Southern University and A&M College",
          "St. Bonaventure University",
          "St. Francis College",
          "St. John's University",
          "St. Mary's University",
          "St. Thomas University",
          "Stanford University",
          "State University of New York College at Buffalo",
          "State University of New York at Potsdam",
          "State University of West Georgia",
          "Stephen F. Austin State University",
          "Stetson University",
          "Syracuse University",
          "Temple University",
          "Tennessee State University",
          "Tennessee Technological University",
          "Texas A&M University",
          "Texas Christian University",
          "Texas Southern University",
          "Texas State University",
          "Texas Tech University",
          "Texas Wesleyan University",
          "Thomas More College",
          "Towson University",
          "Trenton State University",
          "Trinity Valley Community College",
          "Truman State University",
          "Tulane University",
          "Tuskegee University",
          "United States Military Academy",
          "United States Naval Academy",
          "University at Buffalo, State University of New York",
          "University of Akron",
          "University of Alabama",
          "University of Alabama at Birmingham",
          "University of Arizona",
          "University of Arkansas",
          "University of Arkansas at Little Rock",
          "University of Baltimore",
          "University of Bridgeport",
          "University of California",
          "University of California, Irvine",
          "University of California, Los Angeles",
          "University of California, Santa Barbara",
          "University of Central Arkansas",
          "University of Central Oklahoma",
          "University of Charleston",
          "University of Cincinnati",
          "University of Colorado",
          "University of Connecticut",
          "University of Dayton",
          "University of Denver",
          "University of Detroit Mercy",
          "University of Evansville",
          "University of Florida",
          "University of Georgia",
          "University of Hartford",
          "University of Hawaii",
          "University of Houston",
          "University of Idaho",
          "University of Illinois at Chicago",
          "University of Illinois at Urbana-Champaign",
          "University of Iowa",
          "University of Kansas",
          "University of Kentucky",
          "University of Louisiana at Lafayette",
          "University of Louisiana at Monroe",
          "University of Louisville",
          "University of Maine",
          "University of Maryland",
          "University of Maryland Eastern Shore",
          "University of Massachusetts Amherst",
          "University of Memphis",
          "University of Miami",
          "University of Michigan",
          "University of Minnesota",
          "University of Minnesota Duluth",
          "University of Mississippi",
          "University of Missouri",
          "University of Missouri-Kansas City",
          "University of Montana",
          "University of Montevallo",
          "University of Nebraska",
          "University of Nebraska at Kearney",
          "University of Nevada, Las Vegas",
          "University of Nevada, Reno",
          "University of New Mexico",
          "University of New Orleans",
          "University of North Carolina",
          "University of North Carolina at Charlotte",
          "University of North Carolina at Wilmington",
          "University of North Dakota",
          "University of North Texas",
          "University of Northern Colorado",
          "University of Notre Dame",
          "University of Oklahoma",
          "University of Oregon",
          "University of Pennsylvania",
          "University of Pittsburgh",
          "University of Portland",
          "University of Puget Sound",
          "University of Rhode Island",
          "University of Richmond",
          "University of Rochester",
          "University of San Diego",
          "University of San Francisco",
          "University of South Alabama",
          "University of South Carolina",
          "University of South Carolina Upstate",
          "University of South Florida",
          "University of Southern California",
          "University of Southern Colorado",
          "University of Southern Mississippi",
          "University of Tampa",
          "University of Tennessee",
          "University of Tennessee at Chattanooga",
          "University of Tennessee at Martin",
          "University of Texas at Austin",
          "University of Texas at El Paso",
          "University of Texas at San Antonio",
          "University of Texas-Pan American",
          "University of Toledo",
          "University of Tulsa",
          "University of Utah",
          "University of Virginia",
          "University of Washington",
          "University of West Florida",
          "University of Wisconsin",
          "University of Wisconsin-Eau Claire",
          "University of Wisconsin-Green Bay",
          "University of Wisconsin-Parkside",
          "University of Wisconsin-River Falls",
          "University of Wisconsin-Stevens Point",
          "University of Wyoming",
          "University of the District of Columbia",
          "University of the Pacific",
          "Utah State University",
          "Utah Valley State College",
          "Valparaiso University",
          "Vanderbilt University",
          "Villanova University",
          "Virginia Commonwealth University",
          "Virginia Military Institute",
          "Virginia Polytechnic Institute and State University",
          "Virginia Union University",
          "Voorhees College",
          "Wake Forest University",
          "Walsh University",
          "Washington & Jefferson College",
          "Washington State University",
          "Wayne State University",
          "Weber State University",
          "West Texas A&M University",
          "West Virginia State University",
          "West Virginia University",
          "West Virginia University Institute of Technology",
          "West Virginia Wesleyan College",
          "Westchester CC",
          "Western Carolina University",
          "Western Illinois University",
          "Western Kentucky University",
          "Western Michigan University",
          "Wheaton College",
          "Whitworth",
          "Wichita State University",
          "Wilberforce University",
          "William Paterson University",
          "Wingate University",
          "Winston-Salem State University",
          "Wofford College",
          "Wright State University",
          "Xavier University",
          "Xavier University of Louisiana",
          "Yale University",
          "Youngstown State University"
         ]
        }
       ],
       "layout": {
        "template": {
         "data": {
          "bar": [
           {
            "error_x": {
             "color": "#2a3f5f"
            },
            "error_y": {
             "color": "#2a3f5f"
            },
            "marker": {
             "line": {
              "color": "#E5ECF6",
              "width": 0.5
             }
            },
            "type": "bar"
           }
          ],
          "barpolar": [
           {
            "marker": {
             "line": {
              "color": "#E5ECF6",
              "width": 0.5
             }
            },
            "type": "barpolar"
           }
          ],
          "carpet": [
           {
            "aaxis": {
             "endlinecolor": "#2a3f5f",
             "gridcolor": "white",
             "linecolor": "white",
             "minorgridcolor": "white",
             "startlinecolor": "#2a3f5f"
            },
            "baxis": {
             "endlinecolor": "#2a3f5f",
             "gridcolor": "white",
             "linecolor": "white",
             "minorgridcolor": "white",
             "startlinecolor": "#2a3f5f"
            },
            "type": "carpet"
           }
          ],
          "choropleth": [
           {
            "colorbar": {
             "outlinewidth": 0,
             "ticks": ""
            },
            "type": "choropleth"
           }
          ],
          "contour": [
           {
            "colorbar": {
             "outlinewidth": 0,
             "ticks": ""
            },
            "colorscale": [
             [
              0,
              "#0d0887"
             ],
             [
              0.1111111111111111,
              "#46039f"
             ],
             [
              0.2222222222222222,
              "#7201a8"
             ],
             [
              0.3333333333333333,
              "#9c179e"
             ],
             [
              0.4444444444444444,
              "#bd3786"
             ],
             [
              0.5555555555555556,
              "#d8576b"
             ],
             [
              0.6666666666666666,
              "#ed7953"
             ],
             [
              0.7777777777777778,
              "#fb9f3a"
             ],
             [
              0.8888888888888888,
              "#fdca26"
             ],
             [
              1,
              "#f0f921"
             ]
            ],
            "type": "contour"
           }
          ],
          "contourcarpet": [
           {
            "colorbar": {
             "outlinewidth": 0,
             "ticks": ""
            },
            "type": "contourcarpet"
           }
          ],
          "heatmap": [
           {
            "colorbar": {
             "outlinewidth": 0,
             "ticks": ""
            },
            "colorscale": [
             [
              0,
              "#0d0887"
             ],
             [
              0.1111111111111111,
              "#46039f"
             ],
             [
              0.2222222222222222,
              "#7201a8"
             ],
             [
              0.3333333333333333,
              "#9c179e"
             ],
             [
              0.4444444444444444,
              "#bd3786"
             ],
             [
              0.5555555555555556,
              "#d8576b"
             ],
             [
              0.6666666666666666,
              "#ed7953"
             ],
             [
              0.7777777777777778,
              "#fb9f3a"
             ],
             [
              0.8888888888888888,
              "#fdca26"
             ],
             [
              1,
              "#f0f921"
             ]
            ],
            "type": "heatmap"
           }
          ],
          "heatmapgl": [
           {
            "colorbar": {
             "outlinewidth": 0,
             "ticks": ""
            },
            "colorscale": [
             [
              0,
              "#0d0887"
             ],
             [
              0.1111111111111111,
              "#46039f"
             ],
             [
              0.2222222222222222,
              "#7201a8"
             ],
             [
              0.3333333333333333,
              "#9c179e"
             ],
             [
              0.4444444444444444,
              "#bd3786"
             ],
             [
              0.5555555555555556,
              "#d8576b"
             ],
             [
              0.6666666666666666,
              "#ed7953"
             ],
             [
              0.7777777777777778,
              "#fb9f3a"
             ],
             [
              0.8888888888888888,
              "#fdca26"
             ],
             [
              1,
              "#f0f921"
             ]
            ],
            "type": "heatmapgl"
           }
          ],
          "histogram": [
           {
            "marker": {
             "colorbar": {
              "outlinewidth": 0,
              "ticks": ""
             }
            },
            "type": "histogram"
           }
          ],
          "histogram2d": [
           {
            "colorbar": {
             "outlinewidth": 0,
             "ticks": ""
            },
            "colorscale": [
             [
              0,
              "#0d0887"
             ],
             [
              0.1111111111111111,
              "#46039f"
             ],
             [
              0.2222222222222222,
              "#7201a8"
             ],
             [
              0.3333333333333333,
              "#9c179e"
             ],
             [
              0.4444444444444444,
              "#bd3786"
             ],
             [
              0.5555555555555556,
              "#d8576b"
             ],
             [
              0.6666666666666666,
              "#ed7953"
             ],
             [
              0.7777777777777778,
              "#fb9f3a"
             ],
             [
              0.8888888888888888,
              "#fdca26"
             ],
             [
              1,
              "#f0f921"
             ]
            ],
            "type": "histogram2d"
           }
          ],
          "histogram2dcontour": [
           {
            "colorbar": {
             "outlinewidth": 0,
             "ticks": ""
            },
            "colorscale": [
             [
              0,
              "#0d0887"
             ],
             [
              0.1111111111111111,
              "#46039f"
             ],
             [
              0.2222222222222222,
              "#7201a8"
             ],
             [
              0.3333333333333333,
              "#9c179e"
             ],
             [
              0.4444444444444444,
              "#bd3786"
             ],
             [
              0.5555555555555556,
              "#d8576b"
             ],
             [
              0.6666666666666666,
              "#ed7953"
             ],
             [
              0.7777777777777778,
              "#fb9f3a"
             ],
             [
              0.8888888888888888,
              "#fdca26"
             ],
             [
              1,
              "#f0f921"
             ]
            ],
            "type": "histogram2dcontour"
           }
          ],
          "mesh3d": [
           {
            "colorbar": {
             "outlinewidth": 0,
             "ticks": ""
            },
            "type": "mesh3d"
           }
          ],
          "parcoords": [
           {
            "line": {
             "colorbar": {
              "outlinewidth": 0,
              "ticks": ""
             }
            },
            "type": "parcoords"
           }
          ],
          "pie": [
           {
            "automargin": true,
            "type": "pie"
           }
          ],
          "scatter": [
           {
            "marker": {
             "colorbar": {
              "outlinewidth": 0,
              "ticks": ""
             }
            },
            "type": "scatter"
           }
          ],
          "scatter3d": [
           {
            "line": {
             "colorbar": {
              "outlinewidth": 0,
              "ticks": ""
             }
            },
            "marker": {
             "colorbar": {
              "outlinewidth": 0,
              "ticks": ""
             }
            },
            "type": "scatter3d"
           }
          ],
          "scattercarpet": [
           {
            "marker": {
             "colorbar": {
              "outlinewidth": 0,
              "ticks": ""
             }
            },
            "type": "scattercarpet"
           }
          ],
          "scattergeo": [
           {
            "marker": {
             "colorbar": {
              "outlinewidth": 0,
              "ticks": ""
             }
            },
            "type": "scattergeo"
           }
          ],
          "scattergl": [
           {
            "marker": {
             "colorbar": {
              "outlinewidth": 0,
              "ticks": ""
             }
            },
            "type": "scattergl"
           }
          ],
          "scattermapbox": [
           {
            "marker": {
             "colorbar": {
              "outlinewidth": 0,
              "ticks": ""
             }
            },
            "type": "scattermapbox"
           }
          ],
          "scatterpolar": [
           {
            "marker": {
             "colorbar": {
              "outlinewidth": 0,
              "ticks": ""
             }
            },
            "type": "scatterpolar"
           }
          ],
          "scatterpolargl": [
           {
            "marker": {
             "colorbar": {
              "outlinewidth": 0,
              "ticks": ""
             }
            },
            "type": "scatterpolargl"
           }
          ],
          "scatterternary": [
           {
            "marker": {
             "colorbar": {
              "outlinewidth": 0,
              "ticks": ""
             }
            },
            "type": "scatterternary"
           }
          ],
          "surface": [
           {
            "colorbar": {
             "outlinewidth": 0,
             "ticks": ""
            },
            "colorscale": [
             [
              0,
              "#0d0887"
             ],
             [
              0.1111111111111111,
              "#46039f"
             ],
             [
              0.2222222222222222,
              "#7201a8"
             ],
             [
              0.3333333333333333,
              "#9c179e"
             ],
             [
              0.4444444444444444,
              "#bd3786"
             ],
             [
              0.5555555555555556,
              "#d8576b"
             ],
             [
              0.6666666666666666,
              "#ed7953"
             ],
             [
              0.7777777777777778,
              "#fb9f3a"
             ],
             [
              0.8888888888888888,
              "#fdca26"
             ],
             [
              1,
              "#f0f921"
             ]
            ],
            "type": "surface"
           }
          ],
          "table": [
           {
            "cells": {
             "fill": {
              "color": "#EBF0F8"
             },
             "line": {
              "color": "white"
             }
            },
            "header": {
             "fill": {
              "color": "#C8D4E3"
             },
             "line": {
              "color": "white"
             }
            },
            "type": "table"
           }
          ]
         },
         "layout": {
          "annotationdefaults": {
           "arrowcolor": "#2a3f5f",
           "arrowhead": 0,
           "arrowwidth": 1
          },
          "coloraxis": {
           "colorbar": {
            "outlinewidth": 0,
            "ticks": ""
           }
          },
          "colorscale": {
           "diverging": [
            [
             0,
             "#8e0152"
            ],
            [
             0.1,
             "#c51b7d"
            ],
            [
             0.2,
             "#de77ae"
            ],
            [
             0.3,
             "#f1b6da"
            ],
            [
             0.4,
             "#fde0ef"
            ],
            [
             0.5,
             "#f7f7f7"
            ],
            [
             0.6,
             "#e6f5d0"
            ],
            [
             0.7,
             "#b8e186"
            ],
            [
             0.8,
             "#7fbc41"
            ],
            [
             0.9,
             "#4d9221"
            ],
            [
             1,
             "#276419"
            ]
           ],
           "sequential": [
            [
             0,
             "#0d0887"
            ],
            [
             0.1111111111111111,
             "#46039f"
            ],
            [
             0.2222222222222222,
             "#7201a8"
            ],
            [
             0.3333333333333333,
             "#9c179e"
            ],
            [
             0.4444444444444444,
             "#bd3786"
            ],
            [
             0.5555555555555556,
             "#d8576b"
            ],
            [
             0.6666666666666666,
             "#ed7953"
            ],
            [
             0.7777777777777778,
             "#fb9f3a"
            ],
            [
             0.8888888888888888,
             "#fdca26"
            ],
            [
             1,
             "#f0f921"
            ]
           ],
           "sequentialminus": [
            [
             0,
             "#0d0887"
            ],
            [
             0.1111111111111111,
             "#46039f"
            ],
            [
             0.2222222222222222,
             "#7201a8"
            ],
            [
             0.3333333333333333,
             "#9c179e"
            ],
            [
             0.4444444444444444,
             "#bd3786"
            ],
            [
             0.5555555555555556,
             "#d8576b"
            ],
            [
             0.6666666666666666,
             "#ed7953"
            ],
            [
             0.7777777777777778,
             "#fb9f3a"
            ],
            [
             0.8888888888888888,
             "#fdca26"
            ],
            [
             1,
             "#f0f921"
            ]
           ]
          },
          "colorway": [
           "#636efa",
           "#EF553B",
           "#00cc96",
           "#ab63fa",
           "#FFA15A",
           "#19d3f3",
           "#FF6692",
           "#B6E880",
           "#FF97FF",
           "#FECB52"
          ],
          "font": {
           "color": "#2a3f5f"
          },
          "geo": {
           "bgcolor": "white",
           "lakecolor": "white",
           "landcolor": "#E5ECF6",
           "showlakes": true,
           "showland": true,
           "subunitcolor": "white"
          },
          "hoverlabel": {
           "align": "left"
          },
          "hovermode": "closest",
          "mapbox": {
           "style": "light"
          },
          "paper_bgcolor": "white",
          "plot_bgcolor": "#E5ECF6",
          "polar": {
           "angularaxis": {
            "gridcolor": "white",
            "linecolor": "white",
            "ticks": ""
           },
           "bgcolor": "#E5ECF6",
           "radialaxis": {
            "gridcolor": "white",
            "linecolor": "white",
            "ticks": ""
           }
          },
          "scene": {
           "xaxis": {
            "backgroundcolor": "#E5ECF6",
            "gridcolor": "white",
            "gridwidth": 2,
            "linecolor": "white",
            "showbackground": true,
            "ticks": "",
            "zerolinecolor": "white"
           },
           "yaxis": {
            "backgroundcolor": "#E5ECF6",
            "gridcolor": "white",
            "gridwidth": 2,
            "linecolor": "white",
            "showbackground": true,
            "ticks": "",
            "zerolinecolor": "white"
           },
           "zaxis": {
            "backgroundcolor": "#E5ECF6",
            "gridcolor": "white",
            "gridwidth": 2,
            "linecolor": "white",
            "showbackground": true,
            "ticks": "",
            "zerolinecolor": "white"
           }
          },
          "shapedefaults": {
           "line": {
            "color": "#2a3f5f"
           }
          },
          "ternary": {
           "aaxis": {
            "gridcolor": "white",
            "linecolor": "white",
            "ticks": ""
           },
           "baxis": {
            "gridcolor": "white",
            "linecolor": "white",
            "ticks": ""
           },
           "bgcolor": "#E5ECF6",
           "caxis": {
            "gridcolor": "white",
            "linecolor": "white",
            "ticks": ""
           }
          },
          "title": {
           "x": 0.05
          },
          "xaxis": {
           "automargin": true,
           "gridcolor": "white",
           "linecolor": "white",
           "ticks": "",
           "title": {
            "standoff": 15
           },
           "zerolinecolor": "white",
           "zerolinewidth": 2
          },
          "yaxis": {
           "automargin": true,
           "gridcolor": "white",
           "linecolor": "white",
           "ticks": "",
           "title": {
            "standoff": 15
           },
           "zerolinecolor": "white",
           "zerolinewidth": 2
          }
         }
        },
        "xaxis": {
         "title": {
          "text": "height"
         }
        },
        "yaxis": {
         "title": {
          "text": "university"
         }
        }
       }
      },
      "text/html": [
       "<div>\n",
       "        \n",
       "        \n",
       "            <div id=\"23b4bed3-efb1-49dd-ae65-0b5526d2dfe8\" class=\"plotly-graph-div\" style=\"height:525px; width:100%;\"></div>\n",
       "            <script type=\"text/javascript\">\n",
       "                require([\"plotly\"], function(Plotly) {\n",
       "                    window.PLOTLYENV=window.PLOTLYENV || {};\n",
       "                    \n",
       "                if (document.getElementById(\"23b4bed3-efb1-49dd-ae65-0b5526d2dfe8\")) {\n",
       "                    Plotly.newPlot(\n",
       "                        '23b4bed3-efb1-49dd-ae65-0b5526d2dfe8',\n",
       "                        [{\"mode\": \"markers\", \"type\": \"scatter\", \"x\": [188.0, 211.0, 198.0, 207.25, 200.0, 188.0, 196.0, 203.0, 185.0, 198.57142857142858, 190.0, 199.8125, 204.5, 206.33333333333334, 211.0, 208.5, 208.0, 198.8, 196.0, 199.5, 221.0, 197.54545454545453, 203.0, 190.0, 190.0, 196.0, 196.0, 208.0, 199.66666666666666, 194.72222222222223, 201.0, 194.93333333333334, 198.57142857142858, 204.21052631578948, 175.0, 188.0, 211.0, 189.0, 193.0, 185.0, 203.0, 200.77777777777777, 196.7, 197.72222222222223, 200.25, 193.0, 180.0, 183.0, 192.5, 185.0, 197.66666666666666, 213.5, 202.28571428571428, 211.0, 216.0, 193.0, 184.0, 190.0, 198.0, 202.75, 194.4, 198.0, 190.0, 218.0, 202.0, 190.11111111111111, 194.14285714285714, 200.75, 205.5, 209.5, 201.27272727272728, 197.5, 198.6, 197.23333333333332, 193.0, 205.5, 194.6153846153846, 190.5, 199.23214285714286, 193.28571428571428, 198.0, 188.0, 170.0, 200.0, 201.5, 191.83333333333334, 191.77777777777777, 198.0, 196.0, 193.0, 201.0, 206.0, 183.0, 206.75, 192.0, 198.59375, 194.66666666666666, 198.0, 183.0, 198.0, 196.5, 198.0, 192.0, 201.55555555555554, 202.48387096774192, 199.17142857142858, 195.66666666666666, 198.0, 200.71428571428572, 199.9090909090909, 209.5, 193.0, 192.5, 204.5, 206.0, 194.0, 198.0, 193.0, 201.0, 188.0, 180.0, 203.14285714285714, 200.0, 211.0, 213.0, 189.4, 197.85714285714286, 190.0, 194.33333333333334, 198.95238095238096, 200.6153846153846, 194.75, 201.0, 193.0, 196.44444444444446, 210.0, 205.0, 198.5, 198.0, 188.0, 196.47368421052633, 199.0, 188.0, 190.0, 206.0, 203.0, 208.0, 188.0, 196.55555555555554, 201.0, 201.9375, 204.0, 189.0, 193.83333333333334, 198.0, 190.5, 224.0, 197.80645161290323, 195.875, 190.0, 200.0, 198.0, 203.0, 194.0, 197.37777777777777, 199.5, 208.0, 206.0, 190.0, 190.0, 203.0, 185.0, 194.5, 198.0, 200.16666666666666, 196.0, 216.0, 201.0, 198.0, 190.0, 192.0, 197.33333333333334, 201.0, 194.3846153846154, 190.4, 191.0, 201.25, 193.0, 193.0, 197.42857142857142, 208.0, 203.0, 196.5, 191.4, 200.33333333333334, 186.25, 190.0, 201.0, 191.4, 190.5, 200.35897435897436, 200.8, 198.0, 201.0, 204.0, 194.66666666666666, 196.7826086956522, 202.1, 198.9, 201.04347826086956, 198.0, 197.5, 195.23529411764707, 211.0, 203.0, 188.0, 194.66666666666666, 206.0, 195.0, 196.07407407407408, 198.88, 197.88888888888889, 196.0, 197.77777777777777, 206.0, 187.33333333333334, 192.4, 200.6, 196.6, 198.0, 194.0, 216.0, 192.0, 203.42857142857142, 202.33333333333334, 196.75, 193.36363636363637, 195.1818181818182, 196.0, 193.0, 198.0, 190.0, 198.0, 202.33333333333334, 201.0, 193.4, 202.28571428571428, 192.6, 193.28571428571428, 188.0, 196.16666666666666, 203.0, 193.0, 198.5, 190.0, 196.0, 183.0, 198.0, 200.66666666666666, 200.3469387755102, 196.88888888888889, 197.85714285714286, 201.66666666666666, 199.45454545454547, 200.0, 203.2, 208.5, 198.0, 190.0, 192.0, 195.33333333333334, 170.0, 208.0, 197.0, 198.3, 200.5, 198.0, 216.0, 206.0, 201.0, 199.34782608695653, 196.8, 197.7906976744186, 197.80769230769232, 197.16666666666666, 188.0, 231.0, 198.78571428571428, 201.33333333333334, 199.36046511627907, 201.14285714285714, 203.0, 203.0, 186.33333333333334, 198.75, 200.0, 201.7037037037037, 195.1875, 195.66666666666666, 197.35, 196.75, 203.3181818181818, 198.625, 211.0, 195.33333333333334, 199.8846153846154, 202.0, 201.0, 195.4857142857143, 200.63333333333333, 200.3728813559322, 197.62921348314606, 192.85714285714286, 194.0, 197.45652173913044, 208.0, 200.0, 192.25, 201.85714285714286, 196.88, 197.7, 199.97368421052633, 198.1951219512195, 208.0, 200.5, 196.26923076923077, 198.0, 199.0, 196.0, 197.63636363636363, 191.5, 199.76470588235293, 203.8, 205.91666666666666, 196.14285714285714, 199.2089552238806, 193.83333333333334, 208.5, 205.5, 183.0, 206.0, 197.09803921568627, 198.78947368421052, 195.65, 194.1818181818182, 204.7058823529412, 195.25, 190.0, 193.0, 202.33333333333334, 185.0, 193.0, 199.71428571428572, 200.16666666666666, 201.10526315789474, 208.0, 201.6, 197.90625, 213.0, 200.75, 203.0, 200.92, 200.5, 190.0, 196.14814814814815, 200.2, 203.0, 200.0, 196.0, 195.1, 200.91304347826087, 198.23809523809524, 200.16666666666666, 185.0, 198.54166666666666, 196.5, 195.66666666666666, 203.0, 198.0, 190.0, 197.8181818181818, 213.0, 203.0, 195.28571428571428, 188.0, 196.66666666666666, 202.85714285714286, 196.72222222222223, 195.55555555555554, 196.0, 196.0, 198.0, 196.0, 195.68965517241378, 208.0, 180.0, 201.0, 198.0, 195.14285714285714, 196.75, 198.75, 195.14285714285714, 188.0, 193.0, 201.0, 188.33333333333334, 201.0, 196.45833333333334, 201.16666666666666, 193.0, 204.5, 199.27272727272728, 185.0, 185.0, 193.0, 194.0, 211.0, 205.5, 198.3125, 195.33333333333334, 190.0, 193.0], \"y\": [\"Acadia University\", \"Alabama A&M University\", \"Alabama State University\", \"Albany State University\", \"Alcorn State University\", \"Alliance College\", \"American International College\", \"American University\", \"Appalachian State University\", \"Arizona State University\", \"Assumption College\", \"Auburn University\", \"Auburn University at Montgomery\", \"Augsburg College\", \"Augusta State University\", \"Augustana College (SD)\", \"Aurora University\", \"Austin Peay State University\", \"Averett University\", \"Ball State University\", \"Barton County Community College\", \"Baylor University\", \"Belmont Abbey College\", \"Belmont University\", \"Beloit College\", \"Bemidji State University\", \"Bethel College\", \"Blinn College\", \"Boise State University\", \"Boston College\", \"Boston University\", \"Bowling Green State University\", \"Bradley University\", \"Brigham Young University\", \"Brigham Young University Hawaii\", \"Brown University\", \"Bucknell University\", \"Butler University\", \"California Polytechnic State University, San Luis Obispo\", \"California State Polytechnic University, Pomona\", \"California State University, Bakersfield\", \"California State University, Fresno\", \"California State University, Fullerton\", \"California State University, Long Beach\", \"California State University, Los Angeles\", \"California State University, Northridge\", \"California University of Pennslyvania\", \"Campbell University\", \"Canisius College\", \"Catholic University of America\", \"Centenary College of Louisiana\", \"Central Connecticut State University\", \"Central Michigan University\", \"Central State University\", \"Cheyney University of Pennsylvania\", \"Christopher Newport University\", \"City College of New York\", \"City College of San Francisco\", \"Clark Atlanta University\", \"Clemson University\", \"Cleveland State University\", \"Colgate University\", \"College of Charleston\", \"College of Saint Rose\", \"College of William & Mary\", \"College of the Holy Cross\", \"Colorado State University\", \"Columbia University\", \"Coppin State University\", \"Cornell University\", \"Creighton University\", \"Dartmouth College\", \"Davidson College\", \"DePaul University\", \"Delaware State University\", \"Delta State University\", \"Drake University\", \"Drexel University\", \"Duke University\", \"Duquesne University\", \"East Carolina University\", \"East Central University\", \"East Tennessee State University\", \"East Texas State University\", \"Eastern Illinois University\", \"Eastern Kentucky University\", \"Eastern Michigan University\", \"Eastern New Mexico University\", \"Eastern Washington University\", \"Elizabeth City State University\", \"Elon University\", \"Fairfield University\", \"Fayetteville State University\", \"Florida Agricultural and Mechanical University\", \"Florida International University\", \"Florida State University\", \"Fordham University\", \"Fort Valley State University\", \"Franklin College\", \"Friendship Junior College\", \"Furman University\", \"Gardner-Webb University\", \"George Mason University\", \"George Washington University\", \"Georgetown University\", \"Georgia Institute of Technology\", \"Georgia Southern University\", \"Georgia State University\", \"Gonzaga University\", \"Grambling State University\", \"Grand Canyon University\", \"Guilford College\", \"Hamline University\", \"Hampton University\", \"Hardin-Simmons University\", \"Harvard University\", \"Hillsdale College\", \"Hofstra University\", \"Howard University\", \"Humboldt State University\", \"Huntington University\", \"Idaho State University\", \"Illinois State University\", \"Illinois Wesleyan University\", \"Indian Hills Community College\", \"Indiana State University\", \"Indiana University\", \"Indiana University-Purdue University Indianapolis\", \"Iona College\", \"Iowa State University\", \"Jackson State University\", \"Jacksonville University\", \"James Madison University\", \"Johnson C. Smith University\", \"Kansas State University\", \"Kent State University\", \"Kentucky State University\", \"Kentucky Wesleyan College\", \"Kenyon College\", \"King's College\", \"La Salle University\", \"Lamar University\", \"Lawrence Technological University\", \"LeMoyne College\", \"Lebanon Valley College\", \"Lewis University\", \"Liberty University\", \"Lincoln University of Missouri\", \"Long Island University\", \"Longwood University\", \"Louisiana State University\", \"Louisiana Tech University\", \"Loyola College in Maryland\", \"Loyola Marymount University\", \"Loyola University of Chicago\", \"Manhattan College\", \"Marist College\", \"Marquette University\", \"Marshall University\", \"Master's College\", \"McNeese State University\", \"Mercer University\", \"Meridian Community College\", \"Miami University\", \"Michigan State University\", \"Middle Tennessee State University\", \"Midland College\", \"Midwestern State University\", \"Miles College\", \"Millersville University of Pennsylvania\", \"Mississippi State University\", \"Mississippi Valley State University\", \"Missouri State University\", \"Monmouth University\", \"Morehead State University\", \"Morehouse College\", \"Morgan State University\", \"Mount San Antonio College\", \"Mount St. Mary's University\", \"Mount Union College\", \"Muhlenberg College\", \"Murray State University\", \"New Mexico Highlands University\", \"New Mexico State University\", \"New York University\", \"Niagara University\", \"Norfolk State University\", \"North Carolina Agricultural and Technical State University\", \"North Carolina Central University\", \"North Carolina State University\", \"North Park University\", \"Northeast Mississippi Community College\", \"Northeastern State University\", \"Northeastern University\", \"Northern Arizona University\", \"Northern Illinois University\", \"Northwestern Oklahoma State University\", \"Northwestern State University\", \"Northwestern University\", \"Oakland University\", \"Ohio State University\", \"Ohio University\", \"Ohio Wesleyan University\", \"Okaloosa-Walton Community College\", \"Oklahoma Baptist University\", \"Oklahoma City University\", \"Oklahoma State University\", \"Old Dominion University\", \"Oral Roberts University\", \"Oregon State University\", \"Ouachita Baptist University\", \"Pennsylvania State University\", \"Pepperdine University\", \"Pfeiffer University\", \"Phillips University\", \"Pikeville College\", \"Portland State University\", \"Prairie View A&M University\", \"Princeton University\", \"Providence College\", \"Purdue University\", \"Rice University\", \"Robert Morris University (IL)\", \"Rutgers University\", \"Saint Augustine's College\", \"Saint Francis University\", \"Saint Joseph's University\", \"Saint Louis University\", \"Saint Mary's College of California\", \"Saint Mary's University of Minnesota\", \"Saint Peter's College\", \"Saint Vincent College\", \"Sam Houston State University\", \"San Diego State University\", \"San Jose State University\", \"Santa Clara University\", \"Seattle University\", \"Seton Hall University\", \"Seward County Community College\", \"Shaw University\", \"Siena College\", \"Slippery Rock University of Pennsylvania\", \"South Carolina State University\", \"South Dakota State University\", \"Southeastern Oklahoma State University\", \"Southern Illinois University\", \"Southern Methodist University\", \"Southern University and A&M College\", \"St. Bonaventure University\", \"St. Francis College\", \"St. John's University\", \"St. Mary's University\", \"St. Thomas University\", \"Stanford University\", \"State University of New York College at Buffalo\", \"State University of New York at Potsdam\", \"State University of West Georgia\", \"Stephen F. Austin State University\", \"Stetson University\", \"Syracuse University\", \"Temple University\", \"Tennessee State University\", \"Tennessee Technological University\", \"Texas A&M University\", \"Texas Christian University\", \"Texas Southern University\", \"Texas State University\", \"Texas Tech University\", \"Texas Wesleyan University\", \"Thomas More College\", \"Towson University\", \"Trenton State University\", \"Trinity Valley Community College\", \"Truman State University\", \"Tulane University\", \"Tuskegee University\", \"United States Military Academy\", \"United States Naval Academy\", \"University at Buffalo, State University of New York\", \"University of Akron\", \"University of Alabama\", \"University of Alabama at Birmingham\", \"University of Arizona\", \"University of Arkansas\", \"University of Arkansas at Little Rock\", \"University of Baltimore\", \"University of Bridgeport\", \"University of California\", \"University of California, Irvine\", \"University of California, Los Angeles\", \"University of California, Santa Barbara\", \"University of Central Arkansas\", \"University of Central Oklahoma\", \"University of Charleston\", \"University of Cincinnati\", \"University of Colorado\", \"University of Connecticut\", \"University of Dayton\", \"University of Denver\", \"University of Detroit Mercy\", \"University of Evansville\", \"University of Florida\", \"University of Georgia\", \"University of Hartford\", \"University of Hawaii\", \"University of Houston\", \"University of Idaho\", \"University of Illinois at Chicago\", \"University of Illinois at Urbana-Champaign\", \"University of Iowa\", \"University of Kansas\", \"University of Kentucky\", \"University of Louisiana at Lafayette\", \"University of Louisiana at Monroe\", \"University of Louisville\", \"University of Maine\", \"University of Maryland\", \"University of Maryland Eastern Shore\", \"University of Massachusetts Amherst\", \"University of Memphis\", \"University of Miami\", \"University of Michigan\", \"University of Minnesota\", \"University of Minnesota Duluth\", \"University of Mississippi\", \"University of Missouri\", \"University of Missouri-Kansas City\", \"University of Montana\", \"University of Montevallo\", \"University of Nebraska\", \"University of Nebraska at Kearney\", \"University of Nevada, Las Vegas\", \"University of Nevada, Reno\", \"University of New Mexico\", \"University of New Orleans\", \"University of North Carolina\", \"University of North Carolina at Charlotte\", \"University of North Carolina at Wilmington\", \"University of North Dakota\", \"University of North Texas\", \"University of Northern Colorado\", \"University of Notre Dame\", \"University of Oklahoma\", \"University of Oregon\", \"University of Pennsylvania\", \"University of Pittsburgh\", \"University of Portland\", \"University of Puget Sound\", \"University of Rhode Island\", \"University of Richmond\", \"University of Rochester\", \"University of San Diego\", \"University of San Francisco\", \"University of South Alabama\", \"University of South Carolina\", \"University of South Carolina Upstate\", \"University of South Florida\", \"University of Southern California\", \"University of Southern Colorado\", \"University of Southern Mississippi\", \"University of Tampa\", \"University of Tennessee\", \"University of Tennessee at Chattanooga\", \"University of Tennessee at Martin\", \"University of Texas at Austin\", \"University of Texas at El Paso\", \"University of Texas at San Antonio\", \"University of Texas-Pan American\", \"University of Toledo\", \"University of Tulsa\", \"University of Utah\", \"University of Virginia\", \"University of Washington\", \"University of West Florida\", \"University of Wisconsin\", \"University of Wisconsin-Eau Claire\", \"University of Wisconsin-Green Bay\", \"University of Wisconsin-Parkside\", \"University of Wisconsin-River Falls\", \"University of Wisconsin-Stevens Point\", \"University of Wyoming\", \"University of the District of Columbia\", \"University of the Pacific\", \"Utah State University\", \"Utah Valley State College\", \"Valparaiso University\", \"Vanderbilt University\", \"Villanova University\", \"Virginia Commonwealth University\", \"Virginia Military Institute\", \"Virginia Polytechnic Institute and State University\", \"Virginia Union University\", \"Voorhees College\", \"Wake Forest University\", \"Walsh University\", \"Washington & Jefferson College\", \"Washington State University\", \"Wayne State University\", \"Weber State University\", \"West Texas A&M University\", \"West Virginia State University\", \"West Virginia University\", \"West Virginia University Institute of Technology\", \"West Virginia Wesleyan College\", \"Westchester CC\", \"Western Carolina University\", \"Western Illinois University\", \"Western Kentucky University\", \"Western Michigan University\", \"Wheaton College\", \"Whitworth\", \"Wichita State University\", \"Wilberforce University\", \"William Paterson University\", \"Wingate University\", \"Winston-Salem State University\", \"Wofford College\", \"Wright State University\", \"Xavier University\", \"Xavier University of Louisiana\", \"Yale University\", \"Youngstown State University\"]}],\n",
       "                        {\"template\": {\"data\": {\"bar\": [{\"error_x\": {\"color\": \"#2a3f5f\"}, \"error_y\": {\"color\": \"#2a3f5f\"}, \"marker\": {\"line\": {\"color\": \"#E5ECF6\", \"width\": 0.5}}, \"type\": \"bar\"}], \"barpolar\": [{\"marker\": {\"line\": {\"color\": \"#E5ECF6\", \"width\": 0.5}}, \"type\": \"barpolar\"}], \"carpet\": [{\"aaxis\": {\"endlinecolor\": \"#2a3f5f\", \"gridcolor\": \"white\", \"linecolor\": \"white\", \"minorgridcolor\": \"white\", \"startlinecolor\": \"#2a3f5f\"}, \"baxis\": {\"endlinecolor\": \"#2a3f5f\", \"gridcolor\": \"white\", \"linecolor\": \"white\", \"minorgridcolor\": \"white\", \"startlinecolor\": \"#2a3f5f\"}, \"type\": \"carpet\"}], \"choropleth\": [{\"colorbar\": {\"outlinewidth\": 0, \"ticks\": \"\"}, \"type\": \"choropleth\"}], \"contour\": [{\"colorbar\": {\"outlinewidth\": 0, \"ticks\": \"\"}, \"colorscale\": [[0.0, \"#0d0887\"], [0.1111111111111111, \"#46039f\"], [0.2222222222222222, \"#7201a8\"], [0.3333333333333333, \"#9c179e\"], [0.4444444444444444, \"#bd3786\"], [0.5555555555555556, \"#d8576b\"], [0.6666666666666666, \"#ed7953\"], [0.7777777777777778, \"#fb9f3a\"], [0.8888888888888888, \"#fdca26\"], [1.0, \"#f0f921\"]], \"type\": \"contour\"}], \"contourcarpet\": [{\"colorbar\": {\"outlinewidth\": 0, \"ticks\": \"\"}, \"type\": \"contourcarpet\"}], \"heatmap\": [{\"colorbar\": {\"outlinewidth\": 0, \"ticks\": \"\"}, \"colorscale\": [[0.0, \"#0d0887\"], [0.1111111111111111, \"#46039f\"], [0.2222222222222222, \"#7201a8\"], [0.3333333333333333, \"#9c179e\"], [0.4444444444444444, \"#bd3786\"], [0.5555555555555556, \"#d8576b\"], [0.6666666666666666, \"#ed7953\"], [0.7777777777777778, \"#fb9f3a\"], [0.8888888888888888, \"#fdca26\"], [1.0, \"#f0f921\"]], \"type\": \"heatmap\"}], \"heatmapgl\": [{\"colorbar\": {\"outlinewidth\": 0, \"ticks\": \"\"}, \"colorscale\": [[0.0, \"#0d0887\"], [0.1111111111111111, \"#46039f\"], [0.2222222222222222, \"#7201a8\"], [0.3333333333333333, \"#9c179e\"], [0.4444444444444444, \"#bd3786\"], [0.5555555555555556, \"#d8576b\"], [0.6666666666666666, \"#ed7953\"], [0.7777777777777778, \"#fb9f3a\"], [0.8888888888888888, \"#fdca26\"], [1.0, \"#f0f921\"]], \"type\": \"heatmapgl\"}], \"histogram\": [{\"marker\": {\"colorbar\": {\"outlinewidth\": 0, \"ticks\": \"\"}}, \"type\": \"histogram\"}], \"histogram2d\": [{\"colorbar\": {\"outlinewidth\": 0, \"ticks\": \"\"}, \"colorscale\": [[0.0, \"#0d0887\"], [0.1111111111111111, \"#46039f\"], [0.2222222222222222, \"#7201a8\"], [0.3333333333333333, \"#9c179e\"], [0.4444444444444444, \"#bd3786\"], [0.5555555555555556, \"#d8576b\"], [0.6666666666666666, \"#ed7953\"], [0.7777777777777778, \"#fb9f3a\"], [0.8888888888888888, \"#fdca26\"], [1.0, \"#f0f921\"]], \"type\": \"histogram2d\"}], \"histogram2dcontour\": [{\"colorbar\": {\"outlinewidth\": 0, \"ticks\": \"\"}, \"colorscale\": [[0.0, \"#0d0887\"], [0.1111111111111111, \"#46039f\"], [0.2222222222222222, \"#7201a8\"], [0.3333333333333333, \"#9c179e\"], [0.4444444444444444, \"#bd3786\"], [0.5555555555555556, \"#d8576b\"], [0.6666666666666666, \"#ed7953\"], [0.7777777777777778, \"#fb9f3a\"], [0.8888888888888888, \"#fdca26\"], [1.0, \"#f0f921\"]], \"type\": \"histogram2dcontour\"}], \"mesh3d\": [{\"colorbar\": {\"outlinewidth\": 0, \"ticks\": \"\"}, \"type\": \"mesh3d\"}], \"parcoords\": [{\"line\": {\"colorbar\": {\"outlinewidth\": 0, \"ticks\": \"\"}}, \"type\": \"parcoords\"}], \"pie\": [{\"automargin\": true, \"type\": \"pie\"}], \"scatter\": [{\"marker\": {\"colorbar\": {\"outlinewidth\": 0, \"ticks\": \"\"}}, \"type\": \"scatter\"}], \"scatter3d\": [{\"line\": {\"colorbar\": {\"outlinewidth\": 0, \"ticks\": \"\"}}, \"marker\": {\"colorbar\": {\"outlinewidth\": 0, \"ticks\": \"\"}}, \"type\": \"scatter3d\"}], \"scattercarpet\": [{\"marker\": {\"colorbar\": {\"outlinewidth\": 0, \"ticks\": \"\"}}, \"type\": \"scattercarpet\"}], \"scattergeo\": [{\"marker\": {\"colorbar\": {\"outlinewidth\": 0, \"ticks\": \"\"}}, \"type\": \"scattergeo\"}], \"scattergl\": [{\"marker\": {\"colorbar\": {\"outlinewidth\": 0, \"ticks\": \"\"}}, \"type\": \"scattergl\"}], \"scattermapbox\": [{\"marker\": {\"colorbar\": {\"outlinewidth\": 0, \"ticks\": \"\"}}, \"type\": \"scattermapbox\"}], \"scatterpolar\": [{\"marker\": {\"colorbar\": {\"outlinewidth\": 0, \"ticks\": \"\"}}, \"type\": \"scatterpolar\"}], \"scatterpolargl\": [{\"marker\": {\"colorbar\": {\"outlinewidth\": 0, \"ticks\": \"\"}}, \"type\": \"scatterpolargl\"}], \"scatterternary\": [{\"marker\": {\"colorbar\": {\"outlinewidth\": 0, \"ticks\": \"\"}}, \"type\": \"scatterternary\"}], \"surface\": [{\"colorbar\": {\"outlinewidth\": 0, \"ticks\": \"\"}, \"colorscale\": [[0.0, \"#0d0887\"], [0.1111111111111111, \"#46039f\"], [0.2222222222222222, \"#7201a8\"], [0.3333333333333333, \"#9c179e\"], [0.4444444444444444, \"#bd3786\"], [0.5555555555555556, \"#d8576b\"], [0.6666666666666666, \"#ed7953\"], [0.7777777777777778, \"#fb9f3a\"], [0.8888888888888888, \"#fdca26\"], [1.0, \"#f0f921\"]], \"type\": \"surface\"}], \"table\": [{\"cells\": {\"fill\": {\"color\": \"#EBF0F8\"}, \"line\": {\"color\": \"white\"}}, \"header\": {\"fill\": {\"color\": \"#C8D4E3\"}, \"line\": {\"color\": \"white\"}}, \"type\": \"table\"}]}, \"layout\": {\"annotationdefaults\": {\"arrowcolor\": \"#2a3f5f\", \"arrowhead\": 0, \"arrowwidth\": 1}, \"coloraxis\": {\"colorbar\": {\"outlinewidth\": 0, \"ticks\": \"\"}}, \"colorscale\": {\"diverging\": [[0, \"#8e0152\"], [0.1, \"#c51b7d\"], [0.2, \"#de77ae\"], [0.3, \"#f1b6da\"], [0.4, \"#fde0ef\"], [0.5, \"#f7f7f7\"], [0.6, \"#e6f5d0\"], [0.7, \"#b8e186\"], [0.8, \"#7fbc41\"], [0.9, \"#4d9221\"], [1, \"#276419\"]], \"sequential\": [[0.0, \"#0d0887\"], [0.1111111111111111, \"#46039f\"], [0.2222222222222222, \"#7201a8\"], [0.3333333333333333, \"#9c179e\"], [0.4444444444444444, \"#bd3786\"], [0.5555555555555556, \"#d8576b\"], [0.6666666666666666, \"#ed7953\"], [0.7777777777777778, \"#fb9f3a\"], [0.8888888888888888, \"#fdca26\"], [1.0, \"#f0f921\"]], \"sequentialminus\": [[0.0, \"#0d0887\"], [0.1111111111111111, \"#46039f\"], [0.2222222222222222, \"#7201a8\"], [0.3333333333333333, \"#9c179e\"], [0.4444444444444444, \"#bd3786\"], [0.5555555555555556, \"#d8576b\"], [0.6666666666666666, \"#ed7953\"], [0.7777777777777778, \"#fb9f3a\"], [0.8888888888888888, \"#fdca26\"], [1.0, \"#f0f921\"]]}, \"colorway\": [\"#636efa\", \"#EF553B\", \"#00cc96\", \"#ab63fa\", \"#FFA15A\", \"#19d3f3\", \"#FF6692\", \"#B6E880\", \"#FF97FF\", \"#FECB52\"], \"font\": {\"color\": \"#2a3f5f\"}, \"geo\": {\"bgcolor\": \"white\", \"lakecolor\": \"white\", \"landcolor\": \"#E5ECF6\", \"showlakes\": true, \"showland\": true, \"subunitcolor\": \"white\"}, \"hoverlabel\": {\"align\": \"left\"}, \"hovermode\": \"closest\", \"mapbox\": {\"style\": \"light\"}, \"paper_bgcolor\": \"white\", \"plot_bgcolor\": \"#E5ECF6\", \"polar\": {\"angularaxis\": {\"gridcolor\": \"white\", \"linecolor\": \"white\", \"ticks\": \"\"}, \"bgcolor\": \"#E5ECF6\", \"radialaxis\": {\"gridcolor\": \"white\", \"linecolor\": \"white\", \"ticks\": \"\"}}, \"scene\": {\"xaxis\": {\"backgroundcolor\": \"#E5ECF6\", \"gridcolor\": \"white\", \"gridwidth\": 2, \"linecolor\": \"white\", \"showbackground\": true, \"ticks\": \"\", \"zerolinecolor\": \"white\"}, \"yaxis\": {\"backgroundcolor\": \"#E5ECF6\", \"gridcolor\": \"white\", \"gridwidth\": 2, \"linecolor\": \"white\", \"showbackground\": true, \"ticks\": \"\", \"zerolinecolor\": \"white\"}, \"zaxis\": {\"backgroundcolor\": \"#E5ECF6\", \"gridcolor\": \"white\", \"gridwidth\": 2, \"linecolor\": \"white\", \"showbackground\": true, \"ticks\": \"\", \"zerolinecolor\": \"white\"}}, \"shapedefaults\": {\"line\": {\"color\": \"#2a3f5f\"}}, \"ternary\": {\"aaxis\": {\"gridcolor\": \"white\", \"linecolor\": \"white\", \"ticks\": \"\"}, \"baxis\": {\"gridcolor\": \"white\", \"linecolor\": \"white\", \"ticks\": \"\"}, \"bgcolor\": \"#E5ECF6\", \"caxis\": {\"gridcolor\": \"white\", \"linecolor\": \"white\", \"ticks\": \"\"}}, \"title\": {\"x\": 0.05}, \"xaxis\": {\"automargin\": true, \"gridcolor\": \"white\", \"linecolor\": \"white\", \"ticks\": \"\", \"title\": {\"standoff\": 15}, \"zerolinecolor\": \"white\", \"zerolinewidth\": 2}, \"yaxis\": {\"automargin\": true, \"gridcolor\": \"white\", \"linecolor\": \"white\", \"ticks\": \"\", \"title\": {\"standoff\": 15}, \"zerolinecolor\": \"white\", \"zerolinewidth\": 2}}}, \"xaxis\": {\"title\": {\"text\": \"height\"}}, \"yaxis\": {\"title\": {\"text\": \"university\"}}},\n",
       "                        {\"responsive\": true}\n",
       "                    ).then(function(){\n",
       "                            \n",
       "var gd = document.getElementById('23b4bed3-efb1-49dd-ae65-0b5526d2dfe8');\n",
       "var x = new MutationObserver(function (mutations, observer) {{\n",
       "        var display = window.getComputedStyle(gd).display;\n",
       "        if (!display || display === 'none') {{\n",
       "            console.log([gd, 'removed!']);\n",
       "            Plotly.purge(gd);\n",
       "            observer.disconnect();\n",
       "        }}\n",
       "}});\n",
       "\n",
       "// Listen for the removal of the full notebook cells\n",
       "var notebookContainer = gd.closest('#notebook-container');\n",
       "if (notebookContainer) {{\n",
       "    x.observe(notebookContainer, {childList: true});\n",
       "}}\n",
       "\n",
       "// Listen for the clearing of the current output cell\n",
       "var outputEl = gd.closest('.output');\n",
       "if (outputEl) {{\n",
       "    x.observe(outputEl, {childList: true});\n",
       "}}\n",
       "\n",
       "                        })\n",
       "                };\n",
       "                });\n",
       "            </script>\n",
       "        </div>"
      ]
     },
     "metadata": {},
     "output_type": "display_data"
    }
   ],
   "source": [
    "trace0 = go.Scatter(\n",
    "    x=df_player_college_mean.height,\n",
    "    y=df_player_college_mean.collage,\n",
    "    mode = 'markers'\n",
    ") \n",
    "\n",
    "data = [trace0]\n",
    "layout = { 'yaxis': {'title': 'university'}, \n",
    "          'xaxis': {'title': 'height'}}\n",
    "\n",
    "fig = go.Figure(data=data, layout=layout)\n",
    "\n",
    "iplot(fig, show_link=False)"
   ]
  },
  {
   "attachments": {
    "image.png": {
     "image/png": "[encoded data removed]"
    }
   },
   "cell_type": "markdown",
   "metadata": {},
   "source": [
    "![image.png](attachment:image.png)"
   ]
  },
  {
   "cell_type": "code",
   "execution_count": 59,
   "metadata": {},
   "outputs": [
    {
     "data": {
      "text/html": [
       "        <script type=\"text/javascript\">\n",
       "        window.PlotlyConfig = {MathJaxConfig: 'local'};\n",
       "        if (window.MathJax) {MathJax.Hub.Config({SVG: {font: \"STIX-Web\"}});}\n",
       "        if (typeof require !== 'undefined') {\n",
       "        require.undef(\"plotly\");\n",
       "        requirejs.config({\n",
       "            paths: {\n",
       "                'plotly': ['https://cdn.plot.ly/plotly-latest.min']\n",
       "            }\n",
       "        });\n",
       "        require(['plotly'], function(Plotly) {\n",
       "            window._Plotly = Plotly;\n",
       "        });\n",
       "        }\n",
       "        </script>\n",
       "        "
      ]
     },
     "metadata": {},
     "output_type": "display_data"
    }
   ],
   "source": [
    "from plotly.offline import init_notebook_mode, iplot\n",
    "import plotly\n",
    "import plotly.graph_objs as go\n",
    "\n",
    "init_notebook_mode(connected=True)"
   ]
  },
  {
   "cell_type": "markdown",
   "metadata": {},
   "source": [
    "Расчет средней высоты спортсменнов в зависимости от года. \n",
    "\n",
    "Из построеного графика видно, что средняя высота играков увеличивалась до 60-х готов. "
   ]
  },
  {
   "cell_type": "code",
   "execution_count": 384,
   "metadata": {},
   "outputs": [
    {
     "data": {
      "text/html": [
       "<div>\n",
       "<style scoped>\n",
       "    .dataframe tbody tr th:only-of-type {\n",
       "        vertical-align: middle;\n",
       "    }\n",
       "\n",
       "    .dataframe tbody tr th {\n",
       "        vertical-align: top;\n",
       "    }\n",
       "\n",
       "    .dataframe thead th {\n",
       "        text-align: right;\n",
       "    }\n",
       "</style>\n",
       "<table border=\"1\" class=\"dataframe\">\n",
       "  <thead>\n",
       "    <tr style=\"text-align: right;\">\n",
       "      <th></th>\n",
       "      <th>born</th>\n",
       "      <th>height</th>\n",
       "    </tr>\n",
       "  </thead>\n",
       "  <tbody>\n",
       "    <tr>\n",
       "      <th>0</th>\n",
       "      <td>1913.0</td>\n",
       "      <td>185.000000</td>\n",
       "    </tr>\n",
       "    <tr>\n",
       "      <th>1</th>\n",
       "      <td>1914.0</td>\n",
       "      <td>180.000000</td>\n",
       "    </tr>\n",
       "    <tr>\n",
       "      <th>2</th>\n",
       "      <td>1915.0</td>\n",
       "      <td>198.000000</td>\n",
       "    </tr>\n",
       "    <tr>\n",
       "      <th>3</th>\n",
       "      <td>1917.0</td>\n",
       "      <td>189.333333</td>\n",
       "    </tr>\n",
       "    <tr>\n",
       "      <th>4</th>\n",
       "      <td>1918.0</td>\n",
       "      <td>186.200000</td>\n",
       "    </tr>\n",
       "    <tr>\n",
       "      <th>...</th>\n",
       "      <td>...</td>\n",
       "      <td>...</td>\n",
       "    </tr>\n",
       "    <tr>\n",
       "      <th>79</th>\n",
       "      <td>1993.0</td>\n",
       "      <td>199.920000</td>\n",
       "    </tr>\n",
       "    <tr>\n",
       "      <th>80</th>\n",
       "      <td>1994.0</td>\n",
       "      <td>199.829268</td>\n",
       "    </tr>\n",
       "    <tr>\n",
       "      <th>81</th>\n",
       "      <td>1995.0</td>\n",
       "      <td>204.258065</td>\n",
       "    </tr>\n",
       "    <tr>\n",
       "      <th>82</th>\n",
       "      <td>1996.0</td>\n",
       "      <td>200.789474</td>\n",
       "    </tr>\n",
       "    <tr>\n",
       "      <th>83</th>\n",
       "      <td>1997.0</td>\n",
       "      <td>210.400000</td>\n",
       "    </tr>\n",
       "  </tbody>\n",
       "</table>\n",
       "<p>84 rows × 2 columns</p>\n",
       "</div>"
      ],
      "text/plain": [
       "      born      height\n",
       "0   1913.0  185.000000\n",
       "1   1914.0  180.000000\n",
       "2   1915.0  198.000000\n",
       "3   1917.0  189.333333\n",
       "4   1918.0  186.200000\n",
       "..     ...         ...\n",
       "79  1993.0  199.920000\n",
       "80  1994.0  199.829268\n",
       "81  1995.0  204.258065\n",
       "82  1996.0  200.789474\n",
       "83  1997.0  210.400000\n",
       "\n",
       "[84 rows x 2 columns]"
      ]
     },
     "execution_count": 384,
     "metadata": {},
     "output_type": "execute_result"
    }
   ],
   "source": [
    "data_players_mean_born_height = data_players.groupby('born')[['height']].mean().reset_index()\n",
    "data_players_mean_born_height"
   ]
  },
  {
   "cell_type": "code",
   "execution_count": 385,
   "metadata": {},
   "outputs": [
    {
     "data": {
      "application/vnd.plotly.v1+json": {
       "config": {
        "linkText": "Export to plot.ly",
        "plotlyServerURL": "https://plot.ly",
        "showLink": false
       },
       "data": [
        {
         "mode": "markers",
         "type": "scatter",
         "x": [
          1913,
          1914,
          1915,
          1917,
          1918,
          1919,
          1920,
          1921,
          1922,
          1923,
          1924,
          1925,
          1926,
          1927,
          1928,
          1929,
          1930,
          1931,
          1932,
          1933,
          1934,
          1935,
          1936,
          1937,
          1938,
          1939,
          1940,
          1941,
          1942,
          1943,
          1944,
          1945,
          1946,
          1947,
          1948,
          1949,
          1950,
          1951,
          1952,
          1953,
          1954,
          1955,
          1956,
          1957,
          1958,
          1959,
          1960,
          1961,
          1962,
          1963,
          1964,
          1965,
          1966,
          1967,
          1968,
          1969,
          1970,
          1971,
          1972,
          1973,
          1974,
          1975,
          1976,
          1977,
          1978,
          1979,
          1980,
          1981,
          1982,
          1983,
          1984,
          1985,
          1986,
          1987,
          1988,
          1989,
          1990,
          1991,
          1992,
          1993,
          1994,
          1995,
          1996,
          1997
         ],
         "y": [
          185,
          180,
          198,
          189.33333333333334,
          186.2,
          192.71428571428572,
          189.83333333333334,
          189.56521739130434,
          190.23684210526315,
          190.6969696969697,
          194.39285714285714,
          193.23076923076923,
          190.14285714285714,
          193.35294117647058,
          190.63829787234042,
          192.83333333333334,
          194.69230769230768,
          194.42857142857142,
          196.28571428571428,
          195.79310344827587,
          196.2,
          194.04347826086956,
          195.41379310344828,
          196.89473684210526,
          194.84848484848484,
          194.25806451612902,
          197.42424242424244,
          198.42857142857142,
          197.57142857142858,
          197.90322580645162,
          197.59574468085106,
          195.32608695652175,
          197,
          196.06521739130434,
          197.30985915492957,
          197.5,
          198.1551724137931,
          197.84745762711864,
          199.88,
          197.66071428571428,
          198.58,
          197.9078947368421,
          198.4090909090909,
          200.9206349206349,
          198.96825396825398,
          199.84126984126985,
          201.2608695652174,
          199,
          201.39705882352942,
          199.06349206349208,
          201.11688311688312,
          198.45070422535213,
          199.17391304347825,
          199.63013698630138,
          199.55405405405406,
          200.27397260273972,
          200.02380952380952,
          200.39622641509433,
          200.66666666666666,
          200.05633802816902,
          199.19607843137254,
          199.01470588235293,
          201.82539682539684,
          202.41509433962264,
          198.88888888888889,
          199.75438596491227,
          201.47540983606558,
          201.70909090909092,
          199.93548387096774,
          199.56140350877192,
          201.17808219178082,
          203.4,
          201.54285714285714,
          201,
          201.84931506849315,
          201.42857142857142,
          201.44776119402985,
          198.72857142857143,
          199.85714285714286,
          199.92,
          199.82926829268294,
          204.25806451612902,
          200.78947368421052,
          210.4
         ]
        }
       ],
       "layout": {
        "template": {
         "data": {
          "bar": [
           {
            "error_x": {
             "color": "#2a3f5f"
            },
            "error_y": {
             "color": "#2a3f5f"
            },
            "marker": {
             "line": {
              "color": "#E5ECF6",
              "width": 0.5
             }
            },
            "type": "bar"
           }
          ],
          "barpolar": [
           {
            "marker": {
             "line": {
              "color": "#E5ECF6",
              "width": 0.5
             }
            },
            "type": "barpolar"
           }
          ],
          "carpet": [
           {
            "aaxis": {
             "endlinecolor": "#2a3f5f",
             "gridcolor": "white",
             "linecolor": "white",
             "minorgridcolor": "white",
             "startlinecolor": "#2a3f5f"
            },
            "baxis": {
             "endlinecolor": "#2a3f5f",
             "gridcolor": "white",
             "linecolor": "white",
             "minorgridcolor": "white",
             "startlinecolor": "#2a3f5f"
            },
            "type": "carpet"
           }
          ],
          "choropleth": [
           {
            "colorbar": {
             "outlinewidth": 0,
             "ticks": ""
            },
            "type": "choropleth"
           }
          ],
          "contour": [
           {
            "colorbar": {
             "outlinewidth": 0,
             "ticks": ""
            },
            "colorscale": [
             [
              0,
              "#0d0887"
             ],
             [
              0.1111111111111111,
              "#46039f"
             ],
             [
              0.2222222222222222,
              "#7201a8"
             ],
             [
              0.3333333333333333,
              "#9c179e"
             ],
             [
              0.4444444444444444,
              "#bd3786"
             ],
             [
              0.5555555555555556,
              "#d8576b"
             ],
             [
              0.6666666666666666,
              "#ed7953"
             ],
             [
              0.7777777777777778,
              "#fb9f3a"
             ],
             [
              0.8888888888888888,
              "#fdca26"
             ],
             [
              1,
              "#f0f921"
             ]
            ],
            "type": "contour"
           }
          ],
          "contourcarpet": [
           {
            "colorbar": {
             "outlinewidth": 0,
             "ticks": ""
            },
            "type": "contourcarpet"
           }
          ],
          "heatmap": [
           {
            "colorbar": {
             "outlinewidth": 0,
             "ticks": ""
            },
            "colorscale": [
             [
              0,
              "#0d0887"
             ],
             [
              0.1111111111111111,
              "#46039f"
             ],
             [
              0.2222222222222222,
              "#7201a8"
             ],
             [
              0.3333333333333333,
              "#9c179e"
             ],
             [
              0.4444444444444444,
              "#bd3786"
             ],
             [
              0.5555555555555556,
              "#d8576b"
             ],
             [
              0.6666666666666666,
              "#ed7953"
             ],
             [
              0.7777777777777778,
              "#fb9f3a"
             ],
             [
              0.8888888888888888,
              "#fdca26"
             ],
             [
              1,
              "#f0f921"
             ]
            ],
            "type": "heatmap"
           }
          ],
          "heatmapgl": [
           {
            "colorbar": {
             "outlinewidth": 0,
             "ticks": ""
            },
            "colorscale": [
             [
              0,
              "#0d0887"
             ],
             [
              0.1111111111111111,
              "#46039f"
             ],
             [
              0.2222222222222222,
              "#7201a8"
             ],
             [
              0.3333333333333333,
              "#9c179e"
             ],
             [
              0.4444444444444444,
              "#bd3786"
             ],
             [
              0.5555555555555556,
              "#d8576b"
             ],
             [
              0.6666666666666666,
              "#ed7953"
             ],
             [
              0.7777777777777778,
              "#fb9f3a"
             ],
             [
              0.8888888888888888,
              "#fdca26"
             ],
             [
              1,
              "#f0f921"
             ]
            ],
            "type": "heatmapgl"
           }
          ],
          "histogram": [
           {
            "marker": {
             "colorbar": {
              "outlinewidth": 0,
              "ticks": ""
             }
            },
            "type": "histogram"
           }
          ],
          "histogram2d": [
           {
            "colorbar": {
             "outlinewidth": 0,
             "ticks": ""
            },
            "colorscale": [
             [
              0,
              "#0d0887"
             ],
             [
              0.1111111111111111,
              "#46039f"
             ],
             [
              0.2222222222222222,
              "#7201a8"
             ],
             [
              0.3333333333333333,
              "#9c179e"
             ],
             [
              0.4444444444444444,
              "#bd3786"
             ],
             [
              0.5555555555555556,
              "#d8576b"
             ],
             [
              0.6666666666666666,
              "#ed7953"
             ],
             [
              0.7777777777777778,
              "#fb9f3a"
             ],
             [
              0.8888888888888888,
              "#fdca26"
             ],
             [
              1,
              "#f0f921"
             ]
            ],
            "type": "histogram2d"
           }
          ],
          "histogram2dcontour": [
           {
            "colorbar": {
             "outlinewidth": 0,
             "ticks": ""
            },
            "colorscale": [
             [
              0,
              "#0d0887"
             ],
             [
              0.1111111111111111,
              "#46039f"
             ],
             [
              0.2222222222222222,
              "#7201a8"
             ],
             [
              0.3333333333333333,
              "#9c179e"
             ],
             [
              0.4444444444444444,
              "#bd3786"
             ],
             [
              0.5555555555555556,
              "#d8576b"
             ],
             [
              0.6666666666666666,
              "#ed7953"
             ],
             [
              0.7777777777777778,
              "#fb9f3a"
             ],
             [
              0.8888888888888888,
              "#fdca26"
             ],
             [
              1,
              "#f0f921"
             ]
            ],
            "type": "histogram2dcontour"
           }
          ],
          "mesh3d": [
           {
            "colorbar": {
             "outlinewidth": 0,
             "ticks": ""
            },
            "type": "mesh3d"
           }
          ],
          "parcoords": [
           {
            "line": {
             "colorbar": {
              "outlinewidth": 0,
              "ticks": ""
             }
            },
            "type": "parcoords"
           }
          ],
          "pie": [
           {
            "automargin": true,
            "type": "pie"
           }
          ],
          "scatter": [
           {
            "marker": {
             "colorbar": {
              "outlinewidth": 0,
              "ticks": ""
             }
            },
            "type": "scatter"
           }
          ],
          "scatter3d": [
           {
            "line": {
             "colorbar": {
              "outlinewidth": 0,
              "ticks": ""
             }
            },
            "marker": {
             "colorbar": {
              "outlinewidth": 0,
              "ticks": ""
             }
            },
            "type": "scatter3d"
           }
          ],
          "scattercarpet": [
           {
            "marker": {
             "colorbar": {
              "outlinewidth": 0,
              "ticks": ""
             }
            },
            "type": "scattercarpet"
           }
          ],
          "scattergeo": [
           {
            "marker": {
             "colorbar": {
              "outlinewidth": 0,
              "ticks": ""
             }
            },
            "type": "scattergeo"
           }
          ],
          "scattergl": [
           {
            "marker": {
             "colorbar": {
              "outlinewidth": 0,
              "ticks": ""
             }
            },
            "type": "scattergl"
           }
          ],
          "scattermapbox": [
           {
            "marker": {
             "colorbar": {
              "outlinewidth": 0,
              "ticks": ""
             }
            },
            "type": "scattermapbox"
           }
          ],
          "scatterpolar": [
           {
            "marker": {
             "colorbar": {
              "outlinewidth": 0,
              "ticks": ""
             }
            },
            "type": "scatterpolar"
           }
          ],
          "scatterpolargl": [
           {
            "marker": {
             "colorbar": {
              "outlinewidth": 0,
              "ticks": ""
             }
            },
            "type": "scatterpolargl"
           }
          ],
          "scatterternary": [
           {
            "marker": {
             "colorbar": {
              "outlinewidth": 0,
              "ticks": ""
             }
            },
            "type": "scatterternary"
           }
          ],
          "surface": [
           {
            "colorbar": {
             "outlinewidth": 0,
             "ticks": ""
            },
            "colorscale": [
             [
              0,
              "#0d0887"
             ],
             [
              0.1111111111111111,
              "#46039f"
             ],
             [
              0.2222222222222222,
              "#7201a8"
             ],
             [
              0.3333333333333333,
              "#9c179e"
             ],
             [
              0.4444444444444444,
              "#bd3786"
             ],
             [
              0.5555555555555556,
              "#d8576b"
             ],
             [
              0.6666666666666666,
              "#ed7953"
             ],
             [
              0.7777777777777778,
              "#fb9f3a"
             ],
             [
              0.8888888888888888,
              "#fdca26"
             ],
             [
              1,
              "#f0f921"
             ]
            ],
            "type": "surface"
           }
          ],
          "table": [
           {
            "cells": {
             "fill": {
              "color": "#EBF0F8"
             },
             "line": {
              "color": "white"
             }
            },
            "header": {
             "fill": {
              "color": "#C8D4E3"
             },
             "line": {
              "color": "white"
             }
            },
            "type": "table"
           }
          ]
         },
         "layout": {
          "annotationdefaults": {
           "arrowcolor": "#2a3f5f",
           "arrowhead": 0,
           "arrowwidth": 1
          },
          "coloraxis": {
           "colorbar": {
            "outlinewidth": 0,
            "ticks": ""
           }
          },
          "colorscale": {
           "diverging": [
            [
             0,
             "#8e0152"
            ],
            [
             0.1,
             "#c51b7d"
            ],
            [
             0.2,
             "#de77ae"
            ],
            [
             0.3,
             "#f1b6da"
            ],
            [
             0.4,
             "#fde0ef"
            ],
            [
             0.5,
             "#f7f7f7"
            ],
            [
             0.6,
             "#e6f5d0"
            ],
            [
             0.7,
             "#b8e186"
            ],
            [
             0.8,
             "#7fbc41"
            ],
            [
             0.9,
             "#4d9221"
            ],
            [
             1,
             "#276419"
            ]
           ],
           "sequential": [
            [
             0,
             "#0d0887"
            ],
            [
             0.1111111111111111,
             "#46039f"
            ],
            [
             0.2222222222222222,
             "#7201a8"
            ],
            [
             0.3333333333333333,
             "#9c179e"
            ],
            [
             0.4444444444444444,
             "#bd3786"
            ],
            [
             0.5555555555555556,
             "#d8576b"
            ],
            [
             0.6666666666666666,
             "#ed7953"
            ],
            [
             0.7777777777777778,
             "#fb9f3a"
            ],
            [
             0.8888888888888888,
             "#fdca26"
            ],
            [
             1,
             "#f0f921"
            ]
           ],
           "sequentialminus": [
            [
             0,
             "#0d0887"
            ],
            [
             0.1111111111111111,
             "#46039f"
            ],
            [
             0.2222222222222222,
             "#7201a8"
            ],
            [
             0.3333333333333333,
             "#9c179e"
            ],
            [
             0.4444444444444444,
             "#bd3786"
            ],
            [
             0.5555555555555556,
             "#d8576b"
            ],
            [
             0.6666666666666666,
             "#ed7953"
            ],
            [
             0.7777777777777778,
             "#fb9f3a"
            ],
            [
             0.8888888888888888,
             "#fdca26"
            ],
            [
             1,
             "#f0f921"
            ]
           ]
          },
          "colorway": [
           "#636efa",
           "#EF553B",
           "#00cc96",
           "#ab63fa",
           "#FFA15A",
           "#19d3f3",
           "#FF6692",
           "#B6E880",
           "#FF97FF",
           "#FECB52"
          ],
          "font": {
           "color": "#2a3f5f"
          },
          "geo": {
           "bgcolor": "white",
           "lakecolor": "white",
           "landcolor": "#E5ECF6",
           "showlakes": true,
           "showland": true,
           "subunitcolor": "white"
          },
          "hoverlabel": {
           "align": "left"
          },
          "hovermode": "closest",
          "mapbox": {
           "style": "light"
          },
          "paper_bgcolor": "white",
          "plot_bgcolor": "#E5ECF6",
          "polar": {
           "angularaxis": {
            "gridcolor": "white",
            "linecolor": "white",
            "ticks": ""
           },
           "bgcolor": "#E5ECF6",
           "radialaxis": {
            "gridcolor": "white",
            "linecolor": "white",
            "ticks": ""
           }
          },
          "scene": {
           "xaxis": {
            "backgroundcolor": "#E5ECF6",
            "gridcolor": "white",
            "gridwidth": 2,
            "linecolor": "white",
            "showbackground": true,
            "ticks": "",
            "zerolinecolor": "white"
           },
           "yaxis": {
            "backgroundcolor": "#E5ECF6",
            "gridcolor": "white",
            "gridwidth": 2,
            "linecolor": "white",
            "showbackground": true,
            "ticks": "",
            "zerolinecolor": "white"
           },
           "zaxis": {
            "backgroundcolor": "#E5ECF6",
            "gridcolor": "white",
            "gridwidth": 2,
            "linecolor": "white",
            "showbackground": true,
            "ticks": "",
            "zerolinecolor": "white"
           }
          },
          "shapedefaults": {
           "line": {
            "color": "#2a3f5f"
           }
          },
          "ternary": {
           "aaxis": {
            "gridcolor": "white",
            "linecolor": "white",
            "ticks": ""
           },
           "baxis": {
            "gridcolor": "white",
            "linecolor": "white",
            "ticks": ""
           },
           "bgcolor": "#E5ECF6",
           "caxis": {
            "gridcolor": "white",
            "linecolor": "white",
            "ticks": ""
           }
          },
          "title": {
           "x": 0.05
          },
          "xaxis": {
           "automargin": true,
           "gridcolor": "white",
           "linecolor": "white",
           "ticks": "",
           "title": {
            "standoff": 15
           },
           "zerolinecolor": "white",
           "zerolinewidth": 2
          },
          "yaxis": {
           "automargin": true,
           "gridcolor": "white",
           "linecolor": "white",
           "ticks": "",
           "title": {
            "standoff": 15
           },
           "zerolinecolor": "white",
           "zerolinewidth": 2
          }
         }
        },
        "xaxis": {
         "title": {
          "text": "height"
         }
        },
        "yaxis": {
         "title": {
          "text": "university"
         }
        }
       }
      },
      "text/html": [
       "<div>\n",
       "        \n",
       "        \n",
       "            <div id=\"01d2ed9d-ea9c-46be-85da-778d7c461948\" class=\"plotly-graph-div\" style=\"height:525px; width:100%;\"></div>\n",
       "            <script type=\"text/javascript\">\n",
       "                require([\"plotly\"], function(Plotly) {\n",
       "                    window.PLOTLYENV=window.PLOTLYENV || {};\n",
       "                    \n",
       "                if (document.getElementById(\"01d2ed9d-ea9c-46be-85da-778d7c461948\")) {\n",
       "                    Plotly.newPlot(\n",
       "                        '01d2ed9d-ea9c-46be-85da-778d7c461948',\n",
       "                        [{\"mode\": \"markers\", \"type\": \"scatter\", \"x\": [1913.0, 1914.0, 1915.0, 1917.0, 1918.0, 1919.0, 1920.0, 1921.0, 1922.0, 1923.0, 1924.0, 1925.0, 1926.0, 1927.0, 1928.0, 1929.0, 1930.0, 1931.0, 1932.0, 1933.0, 1934.0, 1935.0, 1936.0, 1937.0, 1938.0, 1939.0, 1940.0, 1941.0, 1942.0, 1943.0, 1944.0, 1945.0, 1946.0, 1947.0, 1948.0, 1949.0, 1950.0, 1951.0, 1952.0, 1953.0, 1954.0, 1955.0, 1956.0, 1957.0, 1958.0, 1959.0, 1960.0, 1961.0, 1962.0, 1963.0, 1964.0, 1965.0, 1966.0, 1967.0, 1968.0, 1969.0, 1970.0, 1971.0, 1972.0, 1973.0, 1974.0, 1975.0, 1976.0, 1977.0, 1978.0, 1979.0, 1980.0, 1981.0, 1982.0, 1983.0, 1984.0, 1985.0, 1986.0, 1987.0, 1988.0, 1989.0, 1990.0, 1991.0, 1992.0, 1993.0, 1994.0, 1995.0, 1996.0, 1997.0], \"y\": [185.0, 180.0, 198.0, 189.33333333333334, 186.2, 192.71428571428572, 189.83333333333334, 189.56521739130434, 190.23684210526315, 190.6969696969697, 194.39285714285714, 193.23076923076923, 190.14285714285714, 193.35294117647058, 190.63829787234042, 192.83333333333334, 194.69230769230768, 194.42857142857142, 196.28571428571428, 195.79310344827587, 196.2, 194.04347826086956, 195.41379310344828, 196.89473684210526, 194.84848484848484, 194.25806451612902, 197.42424242424244, 198.42857142857142, 197.57142857142858, 197.90322580645162, 197.59574468085106, 195.32608695652175, 197.0, 196.06521739130434, 197.30985915492957, 197.5, 198.1551724137931, 197.84745762711864, 199.88, 197.66071428571428, 198.58, 197.9078947368421, 198.4090909090909, 200.9206349206349, 198.96825396825398, 199.84126984126985, 201.2608695652174, 199.0, 201.39705882352942, 199.06349206349208, 201.11688311688312, 198.45070422535213, 199.17391304347825, 199.63013698630138, 199.55405405405406, 200.27397260273972, 200.02380952380952, 200.39622641509433, 200.66666666666666, 200.05633802816902, 199.19607843137254, 199.01470588235293, 201.82539682539684, 202.41509433962264, 198.88888888888889, 199.75438596491227, 201.47540983606558, 201.70909090909092, 199.93548387096774, 199.56140350877192, 201.17808219178082, 203.4, 201.54285714285714, 201.0, 201.84931506849315, 201.42857142857142, 201.44776119402985, 198.72857142857143, 199.85714285714286, 199.92, 199.82926829268294, 204.25806451612902, 200.78947368421052, 210.4]}],\n",
       "                        {\"template\": {\"data\": {\"bar\": [{\"error_x\": {\"color\": \"#2a3f5f\"}, \"error_y\": {\"color\": \"#2a3f5f\"}, \"marker\": {\"line\": {\"color\": \"#E5ECF6\", \"width\": 0.5}}, \"type\": \"bar\"}], \"barpolar\": [{\"marker\": {\"line\": {\"color\": \"#E5ECF6\", \"width\": 0.5}}, \"type\": \"barpolar\"}], \"carpet\": [{\"aaxis\": {\"endlinecolor\": \"#2a3f5f\", \"gridcolor\": \"white\", \"linecolor\": \"white\", \"minorgridcolor\": \"white\", \"startlinecolor\": \"#2a3f5f\"}, \"baxis\": {\"endlinecolor\": \"#2a3f5f\", \"gridcolor\": \"white\", \"linecolor\": \"white\", \"minorgridcolor\": \"white\", \"startlinecolor\": \"#2a3f5f\"}, \"type\": \"carpet\"}], \"choropleth\": [{\"colorbar\": {\"outlinewidth\": 0, \"ticks\": \"\"}, \"type\": \"choropleth\"}], \"contour\": [{\"colorbar\": {\"outlinewidth\": 0, \"ticks\": \"\"}, \"colorscale\": [[0.0, \"#0d0887\"], [0.1111111111111111, \"#46039f\"], [0.2222222222222222, \"#7201a8\"], [0.3333333333333333, \"#9c179e\"], [0.4444444444444444, \"#bd3786\"], [0.5555555555555556, \"#d8576b\"], [0.6666666666666666, \"#ed7953\"], [0.7777777777777778, \"#fb9f3a\"], [0.8888888888888888, \"#fdca26\"], [1.0, \"#f0f921\"]], \"type\": \"contour\"}], \"contourcarpet\": [{\"colorbar\": {\"outlinewidth\": 0, \"ticks\": \"\"}, \"type\": \"contourcarpet\"}], \"heatmap\": [{\"colorbar\": {\"outlinewidth\": 0, \"ticks\": \"\"}, \"colorscale\": [[0.0, \"#0d0887\"], [0.1111111111111111, \"#46039f\"], [0.2222222222222222, \"#7201a8\"], [0.3333333333333333, \"#9c179e\"], [0.4444444444444444, \"#bd3786\"], [0.5555555555555556, \"#d8576b\"], [0.6666666666666666, \"#ed7953\"], [0.7777777777777778, \"#fb9f3a\"], [0.8888888888888888, \"#fdca26\"], [1.0, \"#f0f921\"]], \"type\": \"heatmap\"}], \"heatmapgl\": [{\"colorbar\": {\"outlinewidth\": 0, \"ticks\": \"\"}, \"colorscale\": [[0.0, \"#0d0887\"], [0.1111111111111111, \"#46039f\"], [0.2222222222222222, \"#7201a8\"], [0.3333333333333333, \"#9c179e\"], [0.4444444444444444, \"#bd3786\"], [0.5555555555555556, \"#d8576b\"], [0.6666666666666666, \"#ed7953\"], [0.7777777777777778, \"#fb9f3a\"], [0.8888888888888888, \"#fdca26\"], [1.0, \"#f0f921\"]], \"type\": \"heatmapgl\"}], \"histogram\": [{\"marker\": {\"colorbar\": {\"outlinewidth\": 0, \"ticks\": \"\"}}, \"type\": \"histogram\"}], \"histogram2d\": [{\"colorbar\": {\"outlinewidth\": 0, \"ticks\": \"\"}, \"colorscale\": [[0.0, \"#0d0887\"], [0.1111111111111111, \"#46039f\"], [0.2222222222222222, \"#7201a8\"], [0.3333333333333333, \"#9c179e\"], [0.4444444444444444, \"#bd3786\"], [0.5555555555555556, \"#d8576b\"], [0.6666666666666666, \"#ed7953\"], [0.7777777777777778, \"#fb9f3a\"], [0.8888888888888888, \"#fdca26\"], [1.0, \"#f0f921\"]], \"type\": \"histogram2d\"}], \"histogram2dcontour\": [{\"colorbar\": {\"outlinewidth\": 0, \"ticks\": \"\"}, \"colorscale\": [[0.0, \"#0d0887\"], [0.1111111111111111, \"#46039f\"], [0.2222222222222222, \"#7201a8\"], [0.3333333333333333, \"#9c179e\"], [0.4444444444444444, \"#bd3786\"], [0.5555555555555556, \"#d8576b\"], [0.6666666666666666, \"#ed7953\"], [0.7777777777777778, \"#fb9f3a\"], [0.8888888888888888, \"#fdca26\"], [1.0, \"#f0f921\"]], \"type\": \"histogram2dcontour\"}], \"mesh3d\": [{\"colorbar\": {\"outlinewidth\": 0, \"ticks\": \"\"}, \"type\": \"mesh3d\"}], \"parcoords\": [{\"line\": {\"colorbar\": {\"outlinewidth\": 0, \"ticks\": \"\"}}, \"type\": \"parcoords\"}], \"pie\": [{\"automargin\": true, \"type\": \"pie\"}], \"scatter\": [{\"marker\": {\"colorbar\": {\"outlinewidth\": 0, \"ticks\": \"\"}}, \"type\": \"scatter\"}], \"scatter3d\": [{\"line\": {\"colorbar\": {\"outlinewidth\": 0, \"ticks\": \"\"}}, \"marker\": {\"colorbar\": {\"outlinewidth\": 0, \"ticks\": \"\"}}, \"type\": \"scatter3d\"}], \"scattercarpet\": [{\"marker\": {\"colorbar\": {\"outlinewidth\": 0, \"ticks\": \"\"}}, \"type\": \"scattercarpet\"}], \"scattergeo\": [{\"marker\": {\"colorbar\": {\"outlinewidth\": 0, \"ticks\": \"\"}}, \"type\": \"scattergeo\"}], \"scattergl\": [{\"marker\": {\"colorbar\": {\"outlinewidth\": 0, \"ticks\": \"\"}}, \"type\": \"scattergl\"}], \"scattermapbox\": [{\"marker\": {\"colorbar\": {\"outlinewidth\": 0, \"ticks\": \"\"}}, \"type\": \"scattermapbox\"}], \"scatterpolar\": [{\"marker\": {\"colorbar\": {\"outlinewidth\": 0, \"ticks\": \"\"}}, \"type\": \"scatterpolar\"}], \"scatterpolargl\": [{\"marker\": {\"colorbar\": {\"outlinewidth\": 0, \"ticks\": \"\"}}, \"type\": \"scatterpolargl\"}], \"scatterternary\": [{\"marker\": {\"colorbar\": {\"outlinewidth\": 0, \"ticks\": \"\"}}, \"type\": \"scatterternary\"}], \"surface\": [{\"colorbar\": {\"outlinewidth\": 0, \"ticks\": \"\"}, \"colorscale\": [[0.0, \"#0d0887\"], [0.1111111111111111, \"#46039f\"], [0.2222222222222222, \"#7201a8\"], [0.3333333333333333, \"#9c179e\"], [0.4444444444444444, \"#bd3786\"], [0.5555555555555556, \"#d8576b\"], [0.6666666666666666, \"#ed7953\"], [0.7777777777777778, \"#fb9f3a\"], [0.8888888888888888, \"#fdca26\"], [1.0, \"#f0f921\"]], \"type\": \"surface\"}], \"table\": [{\"cells\": {\"fill\": {\"color\": \"#EBF0F8\"}, \"line\": {\"color\": \"white\"}}, \"header\": {\"fill\": {\"color\": \"#C8D4E3\"}, \"line\": {\"color\": \"white\"}}, \"type\": \"table\"}]}, \"layout\": {\"annotationdefaults\": {\"arrowcolor\": \"#2a3f5f\", \"arrowhead\": 0, \"arrowwidth\": 1}, \"coloraxis\": {\"colorbar\": {\"outlinewidth\": 0, \"ticks\": \"\"}}, \"colorscale\": {\"diverging\": [[0, \"#8e0152\"], [0.1, \"#c51b7d\"], [0.2, \"#de77ae\"], [0.3, \"#f1b6da\"], [0.4, \"#fde0ef\"], [0.5, \"#f7f7f7\"], [0.6, \"#e6f5d0\"], [0.7, \"#b8e186\"], [0.8, \"#7fbc41\"], [0.9, \"#4d9221\"], [1, \"#276419\"]], \"sequential\": [[0.0, \"#0d0887\"], [0.1111111111111111, \"#46039f\"], [0.2222222222222222, \"#7201a8\"], [0.3333333333333333, \"#9c179e\"], [0.4444444444444444, \"#bd3786\"], [0.5555555555555556, \"#d8576b\"], [0.6666666666666666, \"#ed7953\"], [0.7777777777777778, \"#fb9f3a\"], [0.8888888888888888, \"#fdca26\"], [1.0, \"#f0f921\"]], \"sequentialminus\": [[0.0, \"#0d0887\"], [0.1111111111111111, \"#46039f\"], [0.2222222222222222, \"#7201a8\"], [0.3333333333333333, \"#9c179e\"], [0.4444444444444444, \"#bd3786\"], [0.5555555555555556, \"#d8576b\"], [0.6666666666666666, \"#ed7953\"], [0.7777777777777778, \"#fb9f3a\"], [0.8888888888888888, \"#fdca26\"], [1.0, \"#f0f921\"]]}, \"colorway\": [\"#636efa\", \"#EF553B\", \"#00cc96\", \"#ab63fa\", \"#FFA15A\", \"#19d3f3\", \"#FF6692\", \"#B6E880\", \"#FF97FF\", \"#FECB52\"], \"font\": {\"color\": \"#2a3f5f\"}, \"geo\": {\"bgcolor\": \"white\", \"lakecolor\": \"white\", \"landcolor\": \"#E5ECF6\", \"showlakes\": true, \"showland\": true, \"subunitcolor\": \"white\"}, \"hoverlabel\": {\"align\": \"left\"}, \"hovermode\": \"closest\", \"mapbox\": {\"style\": \"light\"}, \"paper_bgcolor\": \"white\", \"plot_bgcolor\": \"#E5ECF6\", \"polar\": {\"angularaxis\": {\"gridcolor\": \"white\", \"linecolor\": \"white\", \"ticks\": \"\"}, \"bgcolor\": \"#E5ECF6\", \"radialaxis\": {\"gridcolor\": \"white\", \"linecolor\": \"white\", \"ticks\": \"\"}}, \"scene\": {\"xaxis\": {\"backgroundcolor\": \"#E5ECF6\", \"gridcolor\": \"white\", \"gridwidth\": 2, \"linecolor\": \"white\", \"showbackground\": true, \"ticks\": \"\", \"zerolinecolor\": \"white\"}, \"yaxis\": {\"backgroundcolor\": \"#E5ECF6\", \"gridcolor\": \"white\", \"gridwidth\": 2, \"linecolor\": \"white\", \"showbackground\": true, \"ticks\": \"\", \"zerolinecolor\": \"white\"}, \"zaxis\": {\"backgroundcolor\": \"#E5ECF6\", \"gridcolor\": \"white\", \"gridwidth\": 2, \"linecolor\": \"white\", \"showbackground\": true, \"ticks\": \"\", \"zerolinecolor\": \"white\"}}, \"shapedefaults\": {\"line\": {\"color\": \"#2a3f5f\"}}, \"ternary\": {\"aaxis\": {\"gridcolor\": \"white\", \"linecolor\": \"white\", \"ticks\": \"\"}, \"baxis\": {\"gridcolor\": \"white\", \"linecolor\": \"white\", \"ticks\": \"\"}, \"bgcolor\": \"#E5ECF6\", \"caxis\": {\"gridcolor\": \"white\", \"linecolor\": \"white\", \"ticks\": \"\"}}, \"title\": {\"x\": 0.05}, \"xaxis\": {\"automargin\": true, \"gridcolor\": \"white\", \"linecolor\": \"white\", \"ticks\": \"\", \"title\": {\"standoff\": 15}, \"zerolinecolor\": \"white\", \"zerolinewidth\": 2}, \"yaxis\": {\"automargin\": true, \"gridcolor\": \"white\", \"linecolor\": \"white\", \"ticks\": \"\", \"title\": {\"standoff\": 15}, \"zerolinecolor\": \"white\", \"zerolinewidth\": 2}}}, \"xaxis\": {\"title\": {\"text\": \"height\"}}, \"yaxis\": {\"title\": {\"text\": \"university\"}}},\n",
       "                        {\"responsive\": true}\n",
       "                    ).then(function(){\n",
       "                            \n",
       "var gd = document.getElementById('01d2ed9d-ea9c-46be-85da-778d7c461948');\n",
       "var x = new MutationObserver(function (mutations, observer) {{\n",
       "        var display = window.getComputedStyle(gd).display;\n",
       "        if (!display || display === 'none') {{\n",
       "            console.log([gd, 'removed!']);\n",
       "            Plotly.purge(gd);\n",
       "            observer.disconnect();\n",
       "        }}\n",
       "}});\n",
       "\n",
       "// Listen for the removal of the full notebook cells\n",
       "var notebookContainer = gd.closest('#notebook-container');\n",
       "if (notebookContainer) {{\n",
       "    x.observe(notebookContainer, {childList: true});\n",
       "}}\n",
       "\n",
       "// Listen for the clearing of the current output cell\n",
       "var outputEl = gd.closest('.output');\n",
       "if (outputEl) {{\n",
       "    x.observe(outputEl, {childList: true});\n",
       "}}\n",
       "\n",
       "                        })\n",
       "                };\n",
       "                });\n",
       "            </script>\n",
       "        </div>"
      ]
     },
     "metadata": {},
     "output_type": "display_data"
    }
   ],
   "source": [
    "\n",
    "trace0 = go.Scatter(\n",
    "    x=data_players_mean_born_height.born,\n",
    "    y=data_players_mean_born_height.height,\n",
    "    mode = 'markers'\n",
    ")\n",
    "\n",
    "data = [trace0]\n",
    "\n",
    "fig = go.Figure(data=data, layout=layout)\n",
    "\n",
    "iplot(fig, show_link=False)"
   ]
  },
  {
   "attachments": {
    "image.png": {
     "image/png": "[encoded data removed]"
    }
   },
   "cell_type": "markdown",
   "metadata": {},
   "source": [
    "![image.png](attachment:image.png)"
   ]
  },
  {
   "cell_type": "code",
   "execution_count": 478,
   "metadata": {},
   "outputs": [],
   "source": [
    "# # data_players_mean_born_collage = data_players.groupby('collage')[['born']]\n",
    "# # data_players_count_born_collage\n",
    "\n",
    "# data_players_mean_born_collage = data_players.groupby('collage')[['born']].mean()\n",
    "# data_players_count_born_collage = data_players.groupby('collage')[['born']].count().reset_index()\n",
    "# # data_players_height_born_collage = data_players.groupby('born')[['height']].mean()\n",
    "\n",
    "# ddf = data_players_mean_born_collage.join(data_players_count_born_collage)\n"
   ]
  },
  {
   "cell_type": "code",
   "execution_count": null,
   "metadata": {},
   "outputs": [],
   "source": []
  },
  {
   "cell_type": "code",
   "execution_count": 477,
   "metadata": {},
   "outputs": [],
   "source": [
    "# trace0 = go.Scatter(\n",
    "#     x=data_players_mean_born_height.born,\n",
    "#     y=data_players_mean_born_height.height,\n",
    "#     mode = 'markers+text',\n",
    "#     text = data_players_mean_born_height.index,\n",
    "#     marker = dict(\n",
    "#         size = data_players_itog.Player,\n",
    "\n",
    "#     )\n",
    "# )\n",
    "\n",
    "# data = [trace0]\n",
    "# layout = {\n",
    "#     'title': 'Statistics of video games genres',\n",
    "#     'xaxis': {'title': 'Critic Score'},\n",
    "#     'yaxis': {'title': 'User Score'}\n",
    "# }\n",
    "\n",
    "# fig = go.Figure(data=data, layout=layout)\n",
    "\n",
    "# iplot(fig, show_link=False)"
   ]
  },
  {
   "cell_type": "code",
   "execution_count": null,
   "metadata": {},
   "outputs": [],
   "source": []
  },
  {
   "cell_type": "code",
   "execution_count": null,
   "metadata": {},
   "outputs": [],
   "source": []
  },
  {
   "cell_type": "code",
   "execution_count": null,
   "metadata": {},
   "outputs": [],
   "source": []
  }
 ],
 "metadata": {
  "kernelspec": {
   "display_name": "Python 3",
   "language": "python",
   "name": "python3"
  },
  "language_info": {
   "codemirror_mode": {
    "name": "ipython",
    "version": 3
   },
   "file_extension": ".py",
   "mimetype": "text/x-python",
   "name": "python",
   "nbconvert_exporter": "python",
   "pygments_lexer": "ipython3",
   "version": "3.7.6"
  }
 },
 "nbformat": 4,
 "nbformat_minor": 4
}
