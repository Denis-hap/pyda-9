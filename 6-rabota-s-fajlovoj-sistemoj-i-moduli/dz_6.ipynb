{
 "cells": [
  {
   "cell_type": "code",
   "execution_count": 1,
   "metadata": {},
   "outputs": [],
   "source": [
    "import json"
   ]
  },
  {
   "cell_type": "code",
   "execution_count": 12,
   "metadata": {},
   "outputs": [],
   "source": [
    "parser_data = {}\n",
    "\n",
    "file_purchase_log = open('purchase_log.txt', 'r', encoding='utf-8')\n",
    "\n",
    "for i in file_purchase_log:\n",
    "    \n",
    "    cat = json.loads(i)\n",
    "    parser_data[cat['user_id']] = cat['category']\n",
    "\n",
    "file_purchase_log.close()     \n",
    "\n",
    "with open('visit_log.csv', 'r') as file_visit_log:\n",
    "    with open('funnel.csv', 'w') as file_write:\n",
    "        \n",
    "        for cat_buy in file_visit_log:\n",
    "        \n",
    "            cat_buy_param = file_visit_log.readline().strip().split(',')\n",
    "            \n",
    "            if cat_buy_param[0] in parser_data:\n",
    "                                \n",
    "                cat_buy_param.append(parser_data[cat_buy_param[0]])\n",
    "\n",
    "                file_write.write(json.dumps(cat_buy_param, ensure_ascii=False).strip('[').strip(']') + '\\n')\n",
    "                                             "
   ]
  },
  {
   "cell_type": "code",
   "execution_count": null,
   "metadata": {},
   "outputs": [],
   "source": [
    "\n",
    "    \n",
    "    "
   ]
  }
 ],
 "metadata": {
  "kernelspec": {
   "display_name": "Python 3",
   "language": "python",
   "name": "python3"
  },
  "language_info": {
   "codemirror_mode": {
    "name": "ipython",
    "version": 3
   },
   "file_extension": ".py",
   "mimetype": "text/x-python",
   "name": "python",
   "nbconvert_exporter": "python",
   "pygments_lexer": "ipython3",
   "version": "3.7.6"
  }
 },
 "nbformat": 4,
 "nbformat_minor": 4
}
