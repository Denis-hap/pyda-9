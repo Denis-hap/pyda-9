{
 "cells": [
  {
   "cell_type": "markdown",
   "metadata": {},
   "source": [
    "Задача 1. \n"
   ]
  },
  {
   "cell_type": "code",
   "execution_count": 580,
   "metadata": {},
   "outputs": [
    {
     "name": "stdout",
     "output_type": "stream",
     "text": [
      "testing\n",
      "\n",
      "        Введенное слово: testing\n",
      "        В нем 7 букв и это нечетное число\n",
      "        Вывод 1 символа:t\n",
      "        \n"
     ]
    }
   ],
   "source": [
    "word = str(input())\n",
    "\n",
    "word_len = int(len(word)/2)\n",
    "\n",
    "if len(word) % 2 == 0 :\n",
    "    # Себе на подумать. Не нравиться конструкция word[word_len - 1 : word_len + 1], какие могут быть альтернативы? \n",
    "    print(f\"\"\"\n",
    "        Введенное слово: {word}\n",
    "        В нем {len(word)} букв и это четное число\n",
    "        Вывод 2-х символов: {word[word_len - 1 : word_len + 1]} \n",
    "        \"\"\")     \n",
    "    \n",
    "else:\n",
    "    print(f\"\"\"\n",
    "        Введенное слово: {word}\n",
    "        В нем {len(word)} букв и это нечетное число\n",
    "        Вывод 1 символа:{word[word_len]}\n",
    "        \"\"\")"
   ]
  },
  {
   "cell_type": "markdown",
   "metadata": {},
   "source": [
    "Задача 2."
   ]
  },
  {
   "cell_type": "code",
   "execution_count": 193,
   "metadata": {},
   "outputs": [
    {
     "name": "stdout",
     "output_type": "stream",
     "text": [
      "Идеальные пары:\n",
      "Alex и Emma\n",
      "Arthur и Kate\n",
      "John и Kira\n",
      "Peter и Liza\n",
      "Richard и Trisha\n"
     ]
    }
   ],
   "source": [
    "boys = ['Peter', 'Alex', 'John', 'Arthur', 'Richard']\n",
    "girls = ['Kate', 'Liza', 'Kira', 'Emma', 'Trisha']\n",
    "\n",
    "couples = zip(sorted(boys),sorted(girls))\n",
    "\n",
    "\n",
    "if len(boys) != len(girls):\n",
    "    print('Кто-то не получит пару!')\n",
    "    \n",
    "else:\n",
    "    print ('Идеальные пары:'')\n",
    "    while couples:\n",
    "        coupl, *couples = couples\n",
    "        print (f\"{coupl[0]} и {coupl[1]}\")\n",
    "      \n",
    "\n"
   ]
  },
  {
   "cell_type": "markdown",
   "metadata": {},
   "source": [
    "Задача 3"
   ]
  },
  {
   "cell_type": "code",
   "execution_count": 282,
   "metadata": {},
   "outputs": [
    {
     "name": "stdout",
     "output_type": "stream",
     "text": [
      "Thailand - 24 C\n",
      "Germany - 14 C\n",
      "Russia - 4 C\n",
      "Poland - 12 C\n"
     ]
    }
   ],
   "source": [
    "countries_temperature = [\n",
    " ['Thailand', [75.2, 77, 78.8, 73.4, 68, 75.2, 77]],\n",
    " ['Germany', [57.2, 55.4, 59, 59, 53.6, 55.4, 57.2]],\n",
    " ['Russia', [35.6, 37.4, 39.2, 41, 42.8, 39.2, 35.6]],\n",
    " ['Poland', [50, 50, 53.6, 57.2, 55.4, 55.4, 51.8]],\n",
    "]\n",
    "\n",
    "\n",
    "for country in countries_temperature:\n",
    "    average_temperature = 0\n",
    "    \n",
    "    for temp in country[1]:\n",
    "        average_temperature += (temp-32)/1.8   \n",
    "\n",
    "    average_temperature = average_temperature / len(country[1])\n",
    "\n",
    "    print (f\"{country[0]} - {round(average_temperature)} C\")\n",
    "    \n",
    "\n"
   ]
  },
  {
   "cell_type": "markdown",
   "metadata": {},
   "source": [
    "Задача 4"
   ]
  },
  {
   "cell_type": "code",
   "execution_count": 583,
   "metadata": {},
   "outputs": [
    {
     "name": "stdout",
     "output_type": "stream",
     "text": [
      "23.25\n"
     ]
    }
   ],
   "source": [
    "stream = [\n",
    "    '2018-01-01,user1,3',\n",
    "    '2018-01-07,user1,4',\n",
    "    '2018-03-29,user1,1',\n",
    "    '2018-01-05,user2,7',\n",
    "    '2018-06-14,user3,4',\n",
    "    '2018-07-02,user3,10',\n",
    "    '2018-03-21,user4,19',\n",
    "    '2018-03-22,user4,4',\n",
    "    '2018-04-22,user4,8',\n",
    "    '2018-05-03,user4,9',\n",
    "    '2018-05-11,user4,11',\n",
    "    '2018-04-04,user1,13',\n",
    "]\n",
    "\n",
    "\n",
    "stream[0]\n",
    "\n",
    "i = 0 # Не понял, как избавиться от данного индекса\n",
    "\n",
    "user = [0,] # Не понятно, как начать записть без очистки элемента\n",
    "\n",
    "for user_counter in stream:\n",
    "\n",
    "# В данном варианте ID пользователя может идти не по порядку \n",
    "    if (stream[i][(stream[0].index(',')) + 1:(stream[0].rindex(','))]) not in user:\n",
    "        \n",
    "        user += [stream[i][(stream[0].index(',')) + 1:(stream[0].rindex(','))]]\n",
    "        user[0] += int(stream[i][(stream[0].rindex(',')) + 1:])\n",
    "\n",
    "    else:\n",
    "         user[0] += int(stream[i][(stream[0].rindex(',')) + 1:])\n",
    "\n",
    "    i += 1\n",
    "\n",
    "print(user[0] / (len(user) - 1))\n",
    "\n"
   ]
  },
  {
   "cell_type": "markdown",
   "metadata": {},
   "source": [
    "Задача 4 (Первая версия - можно не проверять, излишнее усложнение)"
   ]
  },
  {
   "cell_type": "code",
   "execution_count": 594,
   "metadata": {},
   "outputs": [
    {
     "name": "stdout",
     "output_type": "stream",
     "text": [
      "23.25\n"
     ]
    }
   ],
   "source": [
    "stream = [\n",
    "    '2018-01-01,user1,3',\n",
    "    '2018-01-07,user1,4',\n",
    "    '2018-03-29,user1,1',\n",
    "    '2018-04-04,user1,13',\n",
    "    '2018-01-05,user2,7',\n",
    "    '2018-06-14,user3,4',\n",
    "    '2018-07-02,user3,10',\n",
    "    '2018-03-21,user4,19',\n",
    "    '2018-03-22,user4,4',\n",
    "    '2018-04-22,user4,8',\n",
    "    '2018-05-03,user4,9',\n",
    "    '2018-05-11,user4,11',\n",
    "]\n",
    "\n",
    "\n",
    "stream[0]\n",
    "\n",
    "i = 0 # Не понял, как избавиться от данного индекса\n",
    "\n",
    "user = [0,] # Не понятно, как начать записть без очистки элемента\n",
    "\n",
    "counter = 0;\n",
    "\n",
    "for user_counter in stream:\n",
    "\n",
    "    if (stream[i][(stream[0].index(',')) + 1:(stream[0].rindex(','))]) not in user:\n",
    "        user += [stream[i][(stream[0].index(',')) + 1:(stream[0].rindex(','))], [int(stream[i][(stream[0].rindex(',')) + 1:])], [int(stream[i][(stream[0].rindex(',')) + 1:]), 1]]\n",
    "        \n",
    "        user[0] += int(stream[i][(stream[0].rindex(',')) + 1:])\n",
    "        \n",
    "        counter += 1\n",
    "    else:\n",
    "        user[user.index(stream[i][(stream[0].index(',')) + 1:(stream[0].rindex(','))]) + 1].append(int(stream[i][(stream[0].rindex(',')) + 1:]))\n",
    "\n",
    "        user[user.index(stream[i][(stream[0].index(',')) + 1:(stream[0].rindex(','))]) + 2][0] += int(stream[i][(stream[0].rindex(',')) + 1:])\n",
    "        \n",
    "        user[user.index(stream[i][(stream[0].index(',')) + 1:(stream[0].rindex(','))]) + 2][1] += 1\n",
    "        \n",
    "        user[0] += int(stream[i][(stream[0].rindex(',')) + 1:])\n",
    "        \n",
    "    i += 1\n",
    "\n",
    "print(user[0] / counter)\n",
    "\n",
    "# len( user[3])\n"
   ]
  },
  {
   "cell_type": "markdown",
   "metadata": {},
   "source": [
    "Задание 5"
   ]
  },
  {
   "cell_type": "code",
   "execution_count": 567,
   "metadata": {},
   "outputs": [
    {
     "name": "stdout",
     "output_type": "stream",
     "text": [
      "25\n"
     ]
    }
   ],
   "source": [
    "stats = [\n",
    "    ['2018-01-01', 'google', 25],\n",
    "    ['2018-01-01', 'yandex', 65],\n",
    "    ['2018-01-01', 'market', 89],\n",
    "    ['2018-01-02', 'google', 574],\n",
    "    ['2018-01-02', 'yandex', 249],\n",
    "    ['2018-01-02', 'market', 994],\n",
    "    ['2018-01-03', 'google', 1843],\n",
    "    ['2018-01-03', 'yandex', 1327],\n",
    "    ['2018-01-03', 'market', 1764],\n",
    "]\n",
    "\n",
    "date = ('2018-01-01')\n",
    "\n",
    "comp = ('google')\n",
    "\n",
    "for search in stats:\n",
    "    if (search[0] == date) and (search[1] == comp):\n",
    "        print(search[2])\n",
    "\n"
   ]
  },
  {
   "cell_type": "markdown",
   "metadata": {},
   "source": [
    "Задание 6"
   ]
  },
  {
   "cell_type": "code",
   "execution_count": 574,
   "metadata": {},
   "outputs": [
    {
     "name": "stdout",
     "output_type": "stream",
     "text": [
      "103\n"
     ]
    }
   ],
   "source": [
    "data = [\n",
    "    [13, 25, 23, 34],\n",
    "    [45, 32, 44, 47],\n",
    "    [12, 33, 23, 95],\n",
    "    [13, 53, 34, 35]\n",
    "]\n",
    "\n",
    "\n",
    "i = 0\n",
    "sum_date = 0\n",
    "\n",
    "for data_seacrh in data:\n",
    "    sum_date += data_seacrh[i]\n",
    "    i += 1\n",
    "    \n",
    "print(sum_date)"
   ]
  }
 ],
 "metadata": {
  "kernelspec": {
   "display_name": "Python 3",
   "language": "python",
   "name": "python3"
  },
  "language_info": {
   "codemirror_mode": {
    "name": "ipython",
    "version": 3
   },
   "file_extension": ".py",
   "mimetype": "text/x-python",
   "name": "python",
   "nbconvert_exporter": "python",
   "pygments_lexer": "ipython3",
   "version": "3.7.6"
  }
 },
 "nbformat": 4,
 "nbformat_minor": 4
}
