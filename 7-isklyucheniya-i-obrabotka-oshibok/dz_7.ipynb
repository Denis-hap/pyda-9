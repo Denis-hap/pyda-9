{
 "cells": [
  {
   "cell_type": "markdown",
   "metadata": {},
   "source": [
    "Задание 1 и 2"
   ]
  },
  {
   "cell_type": "code",
   "execution_count": 1,
   "metadata": {},
   "outputs": [],
   "source": [
    "from datetime import datetime\n",
    "from datetime import timedelta"
   ]
  },
  {
   "cell_type": "code",
   "execution_count": 9,
   "metadata": {},
   "outputs": [],
   "source": [
    "def date_range(start_date, end_date):\n",
    "        \n",
    "    list_day = []\n",
    "    \n",
    "    delta_day = end_date - start_date\n",
    "\n",
    "    delta_day = int(delta_day.days)\n",
    "        \n",
    "    if delta_day <= 0:\n",
    "        print('Вы ввели начальную дату больше или равную конечной!')\n",
    "        \n",
    "    else: \n",
    "\n",
    "        for zero_day in range(delta_day):\n",
    "    \n",
    "            start_date = start_date + timedelta(days=1)\n",
    "\n",
    "            str_start_date = start_date.strftime('%Y-%m-%d')\n",
    "\n",
    "            list_day.append(str_start_date)   \n",
    "\n",
    "    print(list_day)\n",
    "    "
   ]
  },
  {
   "cell_type": "code",
   "execution_count": 10,
   "metadata": {},
   "outputs": [],
   "source": [
    "def input_date():\n",
    "    start_date = input('Введите начальную дату в фоммате YYYY-MM-DD: ')\n",
    "    end_date = input('Введите конечную дату в фоммате YYYY-MM-DD: ')\n",
    "    try:\n",
    "        start_date = datetime.strptime(start_date, '%Y-%m-%d')\n",
    "        end_date = datetime.strptime(end_date, '%Y-%m-%d')\n",
    "        date_range(start_date,end_date)\n",
    "    except:\n",
    "        print('Вы ввели не корректные данные')\n",
    "    \n"
   ]
  },
  {
   "cell_type": "code",
   "execution_count": 12,
   "metadata": {},
   "outputs": [
    {
     "name": "stdout",
     "output_type": "stream",
     "text": [
      "Введите начальную дату в фоммате YYYY-MM-DD: 324\n",
      "Введите конечную дату в фоммате YYYY-MM-DD: 234\n",
      "Вы ввели не корректные данные\n"
     ]
    }
   ],
   "source": [
    "input_date()"
   ]
  },
  {
   "cell_type": "markdown",
   "metadata": {},
   "source": [
    "Задание 3"
   ]
  },
  {
   "cell_type": "code",
   "execution_count": null,
   "metadata": {},
   "outputs": [],
   "source": [
    "from datetime import datetime\n",
    "from datetime import timedelta"
   ]
  },
  {
   "cell_type": "code",
   "execution_count": 14,
   "metadata": {},
   "outputs": [],
   "source": [
    "stream = ['2018-04-02', '2018-02-29', '2018-19-02']"
   ]
  },
  {
   "cell_type": "code",
   "execution_count": 23,
   "metadata": {},
   "outputs": [],
   "source": [
    "def checker(list_date):\n",
    "    for date_check in list_date:\n",
    "        try:\n",
    "            date_true = datetime.strptime(date_check,'%Y-%m-%d')\n",
    "            print(f'{date_check} - дата корректна' )\n",
    "        except:   \n",
    "            print(f'{date_check} - некорректная дата' )            \n",
    "\n",
    "    "
   ]
  },
  {
   "cell_type": "code",
   "execution_count": 24,
   "metadata": {},
   "outputs": [
    {
     "name": "stdout",
     "output_type": "stream",
     "text": [
      "2018-04-02 - дата корректна\n",
      "2018-02-29 - некорректная дата\n",
      "2018-19-02 - некорректная дата\n"
     ]
    }
   ],
   "source": [
    "checker(stream)"
   ]
  },
  {
   "cell_type": "code",
   "execution_count": null,
   "metadata": {},
   "outputs": [],
   "source": [
    "Задание 4\n",
    "\n",
    "\n",
    "1. Означает, что нет индекса в списке. \n",
    "2. Это происходит, потому что после второго вызова фунции мы удаляем элмент с индексом 1, а далее функция пытается вернуть не существующий элемент.\n",
    "\n"
   ]
  },
  {
   "cell_type": "code",
   "execution_count": 114,
   "metadata": {},
   "outputs": [],
   "source": [
    "DEFAULT_USER_COUNT = 3\n",
    "def delete_and_return_last_user(region, default_list=['A100', 'A101', 'A102']):\n",
    "    \"\"\"Удаляет из списка default_list последнего пользователя\n",
    "    и возвращает ID нового последнего пользователя.\n",
    "    \"\"\"\n",
    "    element_to_delete = default_list[-1]\n",
    "    default_list.remove(element_to_delete)\n",
    "    return default_list[DEFAULT_USER_COUNT-2]\n"
   ]
  },
  {
   "cell_type": "code",
   "execution_count": 115,
   "metadata": {},
   "outputs": [
    {
     "data": {
      "text/plain": [
       "'A101'"
      ]
     },
     "execution_count": 115,
     "metadata": {},
     "output_type": "execute_result"
    }
   ],
   "source": [
    "delete_and_return_last_user(1)\n",
    "\n"
   ]
  },
  {
   "cell_type": "code",
   "execution_count": null,
   "metadata": {},
   "outputs": [],
   "source": []
  },
  {
   "cell_type": "code",
   "execution_count": null,
   "metadata": {},
   "outputs": [],
   "source": []
  }
 ],
 "metadata": {
  "kernelspec": {
   "display_name": "Python 3",
   "language": "python",
   "name": "python3"
  },
  "language_info": {
   "codemirror_mode": {
    "name": "ipython",
    "version": 3
   },
   "file_extension": ".py",
   "mimetype": "text/x-python",
   "name": "python",
   "nbconvert_exporter": "python",
   "pygments_lexer": "ipython3",
   "version": "3.7.6"
  }
 },
 "nbformat": 4,
 "nbformat_minor": 4
}
