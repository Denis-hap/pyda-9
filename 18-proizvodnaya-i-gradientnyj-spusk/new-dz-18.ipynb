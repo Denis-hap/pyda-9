{
 "cells": [
  {
   "cell_type": "code",
   "execution_count": 2,
   "metadata": {},
   "outputs": [],
   "source": [
    "import numpy as np\n",
    "import re \n",
    "import matplotlib.pyplot as plt\n",
    "import pandas as pd"
   ]
  },
  {
   "cell_type": "code",
   "execution_count": null,
   "metadata": {},
   "outputs": [],
   "source": []
  },
  {
   "cell_type": "code",
   "execution_count": 25,
   "metadata": {},
   "outputs": [
    {
     "name": "stdout",
     "output_type": "stream",
     "text": [
      "        a\n",
      "0       0\n",
      "17      3\n",
      "18      3\n",
      "24      2\n",
      "28      1\n",
      "...    ..\n",
      "999975  1\n",
      "999988  1\n",
      "999991  1\n",
      "999993  3\n",
      "999994  3\n",
      "\n",
      "[205012 rows x 1 columns]\n"
     ]
    },
    {
     "data": {
      "image/png": "[encoded data removed]",
      "text/plain": [
       "<Figure size 432x288 with 1 Axes>"
      ]
     },
     "metadata": {
      "needs_background": "light"
     },
     "output_type": "display_data"
    },
    {
     "name": "stdout",
     "output_type": "stream",
     "text": [
      "796655\n",
      "0.796655\n",
      "0.205011\n"
     ]
    }
   ],
   "source": [
    "trials = 1000000\n",
    "successes = 0\n",
    "\n",
    "win_money = 0 \n",
    "money = pd.DataFrame([0], columns=['a'])\n",
    "\n",
    "for i in range(trials):\n",
    "    bandit = np.random.randint(0, 1000)\n",
    "    \n",
    "    if bandit == 777: \n",
    "        win_money += 200\n",
    "        money.loc[i] = 200\n",
    "        successes += 1\n",
    "        \n",
    "    elif bandit == 999:\n",
    "        win_money += 100\n",
    "        money.loc[i] = 100\n",
    "        successes += 1\n",
    "        \n",
    "    elif bandit == 555:\n",
    "        win_money += 50\n",
    "        money.loc[i] = 50\n",
    "        successes += 1\n",
    "    \n",
    "    elif bandit == 333:\n",
    "        win_money += 15\n",
    "        money.loc[i] = 15\n",
    "        successes += 1\n",
    "    \n",
    "    elif bandit == 111:\n",
    "        win_money += 10\n",
    "        money.loc[i] = 10\n",
    "        successes += 1\n",
    "        \n",
    "    elif re.search(r'\\d*77$', str(bandit)):\n",
    "        win_money += 5\n",
    "        money.loc[i] = 5\n",
    "        successes += 1\n",
    "    \n",
    "    elif re.search(r'\\d*7$', str(bandit)):\n",
    "        win_money += 3\n",
    "        money.loc[i] = 3\n",
    "        successes += 1\n",
    "    \n",
    "    elif re.search(r'\\d*00$', str(bandit)):\n",
    "        win_money += 2\n",
    "        money.loc[i] = 2\n",
    "        successes += 1\n",
    "        \n",
    "    elif re.search(r'\\d*0$', str(bandit)):\n",
    "        win_money += 1\n",
    "        money.loc[i] = 1\n",
    "        successes += 1\n",
    "\n",
    "print(money) \n",
    "        \n",
    "plt.hist(money['a'], 150)\n",
    "plt.show()\n",
    "# print(money)\n",
    "\n",
    "print(win_money)\n",
    "print(win_money / trials)\n",
    "print(successes / trials)\n",
    "\n",
    "\n",
    "    "
   ]
  },
  {
   "cell_type": "code",
   "execution_count": null,
   "metadata": {},
   "outputs": [],
   "source": [
    "Рассчетная вероятность 20,5% = (200 + 200 + 5) / 1000\n",
    "\n",
    "\n",
    "Выгодно ли играть с таким бандитом? \n",
    "\n",
    "Шанс выигрыша 1 к 5, чтобы выйти в 0. Для того, чтобы еще и получить прибыль нужно быть визунчиком. \n",
    "В редких случаях получается получить больше, чем было затраченно.\n",
    "\n",
    "\n",
    "Сколько в среднем приобретает или теряет игрок за одну игру?\n",
    "\n",
    "На каждый затрачиваемый рубль игрок получает 80 копеек.\n",
    "\n",
    "В среднем за партию могут быть потери и выигрыш от -30% до +10%. \n",
    "\n"
   ]
  }
 ],
 "metadata": {
  "kernelspec": {
   "display_name": "Python 3",
   "language": "python",
   "name": "python3"
  },
  "language_info": {
   "codemirror_mode": {
    "name": "ipython",
    "version": 3
   },
   "file_extension": ".py",
   "mimetype": "text/x-python",
   "name": "python",
   "nbconvert_exporter": "python",
   "pygments_lexer": "ipython3",
   "version": "3.7.6"
  }
 },
 "nbformat": 4,
 "nbformat_minor": 4
}
