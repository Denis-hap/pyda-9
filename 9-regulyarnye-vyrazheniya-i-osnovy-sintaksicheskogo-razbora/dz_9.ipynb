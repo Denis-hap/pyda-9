{
 "cells": [
  {
   "cell_type": "markdown",
   "metadata": {},
   "source": [
    "Задание 1"
   ]
  },
  {
   "cell_type": "code",
   "execution_count": 37,
   "metadata": {},
   "outputs": [],
   "source": [
    "import re\n",
    "\n",
    "def checking_car_number(text_number):\n",
    "    if re.match(r'[ABEKMHOPCTYXАВЕКМНОРСТУХ]\\d{3}[ABEKMHOPCTYXАВЕКМНОРСТУХ]{2}\\d{2,3}', text_number):\n",
    "        \n",
    "        num = re.match(r'[ABEKMHOPCTYXАВЕКМНОРСТУХ]\\d{3}[ABEKMHOPCTYXАВЕКМНОРСТУХ]{2}', text_number)\n",
    "        \n",
    "        reg = re.search(r'\\d{2,3}$', text_number) \n",
    "        \n",
    "        print(f'Номер: {num.group()} Регион: {reg.group()}')\n",
    "        \n",
    "    else: \n",
    "        print(f'Вы, что-то ввели, но явно не гос.номер')\n",
    "    \n",
    "    "
   ]
  },
  {
   "cell_type": "code",
   "execution_count": 38,
   "metadata": {},
   "outputs": [
    {
     "name": "stdout",
     "output_type": "stream",
     "text": [
      "Номер: Е271НХ Регион: 799\n"
     ]
    }
   ],
   "source": [
    "checking_car_number('Е271НХ799') #Кириллица"
   ]
  },
  {
   "cell_type": "code",
   "execution_count": 39,
   "metadata": {},
   "outputs": [
    {
     "name": "stdout",
     "output_type": "stream",
     "text": [
      "Номер: E271HX Регион: 799\n"
     ]
    }
   ],
   "source": [
    "checking_car_number('E271HX799') #Латиница"
   ]
  },
  {
   "cell_type": "code",
   "execution_count": 40,
   "metadata": {},
   "outputs": [
    {
     "name": "stdout",
     "output_type": "stream",
     "text": [
      "Вы, что-то ввели, но явно не гос.номер\n"
     ]
    }
   ],
   "source": [
    "checking_car_number('E271HXЦ799')"
   ]
  },
  {
   "cell_type": "code",
   "execution_count": null,
   "metadata": {},
   "outputs": [],
   "source": []
  },
  {
   "cell_type": "markdown",
   "metadata": {},
   "source": [
    "Задание 2"
   ]
  },
  {
   "cell_type": "code",
   "execution_count": 104,
   "metadata": {},
   "outputs": [],
   "source": [
    "import re\n",
    "\n",
    "def checking_email(text_email):\n",
    "    if re.match(r'[a-zA-Z1-9]{4,}@[a-zA-Z1-9]{2,}\\.[a-zA-Z1-9]{2,4}$', text_email):\n",
    "        \n",
    "        print(f'Валидация пройдена ')\n",
    "    \n",
    "    else:\n",
    "        \n",
    "        print(f'Валидация НЕ пройдена ')\n",
    "        \n",
    "        \n",
    "# (?:[a-z0-9!#$%&'*+/=?^_`{|}~-]+(?:\\.[a-z0-9!#$%&'*+/=?^_`{|}~-]+)*|\"(?:[\\x01-\\x08\\x0b\\x0c\\x0e-\\x1f\\x21\\x23-\\x5b\\x5d-\\x7f]|\\\\[\\x01-\\x09\\x0b\\x0c\\x0e-\\x7f])*\")@(?:(?:[a-z0-9](?:[a-z0-9-]*[a-z0-9])?\\.)+[a-z0-9](?:[a-z0-9-]*[a-z0-9])?|\\[(?:(?:(2(5[0-5]|[0-4][0-9])|1[0-9][0-9]|[1-9]?[0-9]))\\.){3}(?:(2(5[0-5]|[0-4][0-9])|1[0-9][0-9]|[1-9]?[0-9])|[a-z0-9-]*[a-z0-9]:(?:[\\x01-\\x08\\x0b\\x0c\\x0e-\\x1f\\x21-\\x5a\\x53-\\x7f]|\\\\[\\x01-\\x09\\x0b\\x0c\\x0e-\\x7f])+)\\])"
   ]
  },
  {
   "cell_type": "code",
   "execution_count": 106,
   "metadata": {},
   "outputs": [
    {
     "name": "stdout",
     "output_type": "stream",
     "text": [
      "Валидация НЕ пройдена \n"
     ]
    }
   ],
   "source": [
    "checking_email('hap6@mailru')"
   ]
  },
  {
   "cell_type": "code",
   "execution_count": null,
   "metadata": {},
   "outputs": [],
   "source": []
  },
  {
   "cell_type": "markdown",
   "metadata": {},
   "source": [
    "Задание 3"
   ]
  },
  {
   "cell_type": "code",
   "execution_count": 293,
   "metadata": {},
   "outputs": [],
   "source": [
    "import re\n",
    "\n"
   ]
  },
  {
   "cell_type": "code",
   "execution_count": 436,
   "metadata": {},
   "outputs": [
    {
     "data": {
      "text/plain": [
       "'идет медведь, встретил белкубелку и! упал!'"
      ]
     },
     "execution_count": 436,
     "metadata": {},
     "output_type": "execute_result"
    }
   ],
   "source": [
    "def double_checking(text):\n",
    "        \n",
    "    text = re.sub(r'(.*)\\s(\\1[,\\s!?])', r'\\2', text, flags=re.IGNORECASE)\n",
    "    \n",
    "    return text\n",
    "\n",
    "double_checking('Идет идет медведь медведь, встретил белкубелку и! упал упал!')"
   ]
  },
  {
   "cell_type": "code",
   "execution_count": null,
   "metadata": {},
   "outputs": [],
   "source": []
  },
  {
   "cell_type": "code",
   "execution_count": null,
   "metadata": {},
   "outputs": [],
   "source": []
  },
  {
   "cell_type": "markdown",
   "metadata": {},
   "source": [
    "Задание 4"
   ]
  },
  {
   "cell_type": "code",
   "execution_count": null,
   "metadata": {},
   "outputs": [],
   "source": [
    "import re\n"
   ]
  },
  {
   "cell_type": "code",
   "execution_count": 432,
   "metadata": {},
   "outputs": [],
   "source": [
    "def checking_number(text_number):\n",
    "    \n",
    "    if re.match(r'((8|\\+?7)[\\-\\+ ]?)?(\\(?\\d{3}\\)?[\\-\\+ ]?)?[\\d\\-\\+ ]{7,10}',text_number):\n",
    "    \n",
    "        return 'Валидация пройдена'\n",
    "    \n",
    "    else:\n",
    "        \n",
    "        return 'Валидация НЕ пройдена'\n",
    "    "
   ]
  },
  {
   "cell_type": "code",
   "execution_count": null,
   "metadata": {},
   "outputs": [],
   "source": []
  },
  {
   "cell_type": "code",
   "execution_count": 435,
   "metadata": {},
   "outputs": [
    {
     "name": "stdout",
     "output_type": "stream",
     "text": [
      " Шаблон +7 955 555-55-55 : Валидация пройдена \n",
      " Шаблон 9555555555 : Валидация пройдена \n",
      " Шаблон 9555555555 : Валидация пройдена \n",
      " Шаблон 8(955)555-55-55 : Валидация пройдена \n",
      " Шаблон +7 955 555 55 55 : Валидация пройдена \n",
      " Шаблон 7(955) 555-55-55 : Валидация пройдена \n",
      " Шаблон +7 955+555+55+55 : Валидация пройдена \n"
     ]
    }
   ],
   "source": [
    "mass =  ['+7 955 555-55-55', '9555555555', '9555555555', '8(955)555-55-55', '+7 955 555 55 55',\n",
    "         '7(955) 555-55-55', '+7 955+555+55+55']\n",
    "\n",
    "for mass_reg in mass:\n",
    "    print(f' Шаблон {mass_reg} : {checking_number(mass_reg)}')\n",
    "\n"
   ]
  },
  {
   "cell_type": "code",
   "execution_count": null,
   "metadata": {},
   "outputs": [],
   "source": []
  }
 ],
 "metadata": {
  "kernelspec": {
   "display_name": "Python 3",
   "language": "python",
   "name": "python3"
  },
  "language_info": {
   "codemirror_mode": {
    "name": "ipython",
    "version": 3
   },
   "file_extension": ".py",
   "mimetype": "text/x-python",
   "name": "python",
   "nbconvert_exporter": "python",
   "pygments_lexer": "ipython3",
   "version": "3.7.6"
  }
 },
 "nbformat": 4,
 "nbformat_minor": 4
}
