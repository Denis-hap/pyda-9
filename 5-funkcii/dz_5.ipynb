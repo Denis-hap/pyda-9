{
 "cells": [
  {
   "cell_type": "code",
   "execution_count": 2,
   "metadata": {},
   "outputs": [],
   "source": [
    "documents = [\n",
    "    {'type': 'passport', 'number': '2207 876234', 'name': 'Василий Гупкин'},\n",
    "    {'type': 'invoice', 'number': '11-2', 'name': 'Геннадий Покемонов'},\n",
    "    {'type': 'insurance', 'number': '10004', 'name': 'Аристарх Павлов'}\n",
    "]"
   ]
  },
  {
   "cell_type": "code",
   "execution_count": 3,
   "metadata": {},
   "outputs": [],
   "source": [
    "directories = {\n",
    "    '1': ['2207 876234', '11-2'],\n",
    "    '2': ['10006'],\n",
    "    \n",
    "    '3': ['']\n",
    "}"
   ]
  },
  {
   "cell_type": "markdown",
   "metadata": {},
   "source": [
    "Основная часть"
   ]
  },
  {
   "cell_type": "code",
   "execution_count": 20,
   "metadata": {},
   "outputs": [
    {
     "name": "stdout",
     "output_type": "stream",
     "text": [
      "Введите команду             \n",
      "\n",
      "Список команд:\n",
      "p – people – команда, которая спросит номер документа и выведет имя человека, которому он принадлежит.\n",
      "s – shelf – команда, которая спросит номер документа и выведет номер полки, на которой он находится.\n",
      "l – list – команда, которая выведет список всех документов.\n",
      "as – add shelf – команда, которая спросит номер новой полки и добавит ее в перечень. Предусмотрите случай, когда пользователь добавляет полку, которая уже существует.\n",
      "d – delete – команда, которая спросит номер документа и удалит его из каталога и из перечня полок. Предусмотрите сценарий, когда пользователь вводит несуществующий документ;\n",
      "m – move – команда, которая спросит номер документа и целевую полку и переместит его с текущей полки на целевую. \n",
      "a – add – команда, которая добавит новый документ в каталог и в перечень полок, спросив его номер, тип, имя владельца и номер полки, на котором он будет храниться. \n",
      "q - quit - завершение работы программы\n",
      "v - vision - отображение текущего состаяния документов и полки\n",
      "p\n",
      "Введите номер документа: 2207 876234\n",
      "Документ принадлежит: Василий Гупкин \n",
      "Введите любой символ, чтобы продолжитьq\n",
      "Введите команду             \n",
      "\n",
      "Список команд:\n",
      "p – people – команда, которая спросит номер документа и выведет имя человека, которому он принадлежит.\n",
      "s – shelf – команда, которая спросит номер документа и выведет номер полки, на которой он находится.\n",
      "l – list – команда, которая выведет список всех документов.\n",
      "as – add shelf – команда, которая спросит номер новой полки и добавит ее в перечень. Предусмотрите случай, когда пользователь добавляет полку, которая уже существует.\n",
      "d – delete – команда, которая спросит номер документа и удалит его из каталога и из перечня полок. Предусмотрите сценарий, когда пользователь вводит несуществующий документ;\n",
      "m – move – команда, которая спросит номер документа и целевую полку и переместит его с текущей полки на целевую. \n",
      "a – add – команда, которая добавит новый документ в каталог и в перечень полок, спросив его номер, тип, имя владельца и номер полки, на котором он будет храниться. \n",
      "q - quit - завершение работы программы\n",
      "v - vision - отображение текущего состаяния документов и полки\n",
      "q\n",
      "Завершение программы! Благодарим за выбор нашего продукта!\n"
     ]
    }
   ],
   "source": [
    "main()"
   ]
  },
  {
   "cell_type": "code",
   "execution_count": 4,
   "metadata": {},
   "outputs": [],
   "source": [
    "def main():\n",
    "    \n",
    "    command = '''            \n",
    "\n",
    "Список команд:\n",
    "p – people – команда, которая спросит номер документа и выведет имя человека, которому он принадлежит.\n",
    "s – shelf – команда, которая спросит номер документа и выведет номер полки, на которой он находится.\n",
    "l – list – команда, которая выведет список всех документов.\n",
    "as – add shelf – команда, которая спросит номер новой полки и добавит ее в перечень. Предусмотрите случай, когда пользователь добавляет полку, которая уже существует.\n",
    "d – delete – команда, которая спросит номер документа и удалит его из каталога и из перечня полок. Предусмотрите сценарий, когда пользователь вводит несуществующий документ;\n",
    "m – move – команда, которая спросит номер документа и целевую полку и переместит его с текущей полки на целевую. \n",
    "a – add – команда, которая добавит новый документ в каталог и в перечень полок, спросив его номер, тип, имя владельца и номер полки, на котором он будет храниться. \n",
    "q - quit - завершение работы программы\n",
    "v - vision - отображение текущего состаяния документов и полки\n",
    "'''\n",
    "  \n",
    "    while True:\n",
    "\n",
    "        user_unput = input(f'Введите команду {command}')\n",
    "      \n",
    "                 \n",
    "        if user_unput == 'p':\n",
    "            search_for_person_by_document_number();\n",
    "        elif user_unput == 's':\n",
    "            search_on_shelf()\n",
    "        elif user_unput == 'l':\n",
    "            output_all_documents()           \n",
    "        elif user_unput == 'as':\n",
    "            add_new_shelf()          \n",
    "        elif user_unput == 'd':\n",
    "            removal_of_information()          \n",
    "        elif user_unput == 'm':\n",
    "            transfer_target_shelf()           \n",
    "        elif user_unput == 'a':\n",
    "            add_document()               \n",
    "        elif user_unput == 'v':\n",
    "            print(documents)\n",
    "            print(directories)\n",
    "        elif user_unput == 'q':\n",
    "            print('Завершение программы! Благодарим за выбор нашего продукта!')\n",
    "            break\n",
    "        else: \n",
    "            print(f'Команды не существует! Попробуйте еще раз!')         \n",
    "        \n",
    "        input('Введите любой символ, чтобы продолжить')"
   ]
  },
  {
   "cell_type": "markdown",
   "metadata": {},
   "source": [
    "Запрос номера документа"
   ]
  },
  {
   "cell_type": "code",
   "execution_count": 5,
   "metadata": {},
   "outputs": [],
   "source": [
    "def enter_the_document_number():\n",
    "    result = input('Введите номер документа: ')\n",
    "    return result"
   ]
  },
  {
   "cell_type": "markdown",
   "metadata": {},
   "source": [
    "Поиск человека по номеру документа"
   ]
  },
  {
   "cell_type": "code",
   "execution_count": 6,
   "metadata": {},
   "outputs": [],
   "source": [
    "def search_for_person_by_document_number():\n",
    "    number_doc = enter_the_document_number()\n",
    "    existence = False;\n",
    "    for data in documents:\n",
    "        if data['number'] == number_doc:\n",
    "            print(f'Документ принадлежит: {data[\"name\"]} ')\n",
    "            existence = True;\n",
    "            break\n",
    "    if existence == False:\n",
    "        print('Документ не найден')\n",
    "    return \n",
    "    "
   ]
  },
  {
   "cell_type": "markdown",
   "metadata": {},
   "source": [
    "  "
   ]
  },
  {
   "cell_type": "markdown",
   "metadata": {},
   "source": [
    "По номеру документа ищем номер полки"
   ]
  },
  {
   "cell_type": "code",
   "execution_count": 7,
   "metadata": {},
   "outputs": [],
   "source": [
    "def search_on_shelf():\n",
    "    number_doc = enter_the_document_number()\n",
    "    existence = False;\n",
    "    for key, data in directories.items():\n",
    "        for data_cell in data:\n",
    "            if data_cell == number_doc:\n",
    "                print(f'Документ принадлежит полке № {key}')\n",
    "                existence = True;\n",
    "                break\n",
    "    if existence == False:\n",
    "        print('Документ не найден')\n",
    "    return    "
   ]
  },
  {
   "cell_type": "markdown",
   "metadata": {},
   "source": [
    " "
   ]
  },
  {
   "cell_type": "markdown",
   "metadata": {},
   "source": [
    "Вывод всех документов "
   ]
  },
  {
   "cell_type": "code",
   "execution_count": 19,
   "metadata": {},
   "outputs": [],
   "source": [
    "def output_all_documents():\n",
    "    for data in documents: \n",
    "        print(f'{data[\"type\"]} \"{data[\"number\"]}\" \"{data[\"name\"]}\" ')"
   ]
  },
  {
   "cell_type": "code",
   "execution_count": null,
   "metadata": {},
   "outputs": [],
   "source": []
  },
  {
   "cell_type": "markdown",
   "metadata": {},
   "source": [
    " "
   ]
  },
  {
   "cell_type": "markdown",
   "metadata": {},
   "source": [
    "Ввод номера полки"
   ]
  },
  {
   "cell_type": "code",
   "execution_count": 9,
   "metadata": {},
   "outputs": [],
   "source": [
    "def enter_the_shelf_number():\n",
    "    result = input('Введите номер полки: ')\n",
    "    return result"
   ]
  },
  {
   "cell_type": "markdown",
   "metadata": {},
   "source": [
    "  "
   ]
  },
  {
   "cell_type": "markdown",
   "metadata": {},
   "source": [
    "Добавление новой полки"
   ]
  },
  {
   "cell_type": "code",
   "execution_count": 10,
   "metadata": {},
   "outputs": [],
   "source": [
    "def add_new_shelf():\n",
    "    number_shelf = enter_the_shelf_number()\n",
    "    if number_shelf in directories:\n",
    "        print('Номер полки уже существует')\n",
    "    else:\n",
    "        directories[number_shelf] = ['']\n",
    "        print(f'Полка с номером: {number_shelf} успешно создана')\n",
    "    "
   ]
  },
  {
   "cell_type": "markdown",
   "metadata": {},
   "source": [
    " "
   ]
  },
  {
   "cell_type": "markdown",
   "metadata": {},
   "source": [
    "Удаление информации по номеру документа"
   ]
  },
  {
   "cell_type": "code",
   "execution_count": 11,
   "metadata": {},
   "outputs": [],
   "source": [
    "def removal_of_information():\n",
    "    number_doc = enter_the_document_number()\n",
    "    existence = False;\n",
    "    for key, data_dir in directories.items():\n",
    "        for i, data_cell in enumerate(data_dir):\n",
    "            if data_cell == number_doc:\n",
    "                del(directories[key][i]) \n",
    "                existence = True\n",
    "\n",
    "    for i, data_doc in enumerate(documents):\n",
    "        if data_doc['number'] == number_doc:\n",
    "            del(documents[i])\n",
    "            existence = True    \n",
    "    \n",
    "    if existence == True:\n",
    "        print('Данные успешно удалены')\n",
    "    else:\n",
    "        print('Указанный номер не существует')        \n",
    "\n",
    "    return\n",
    "    \n",
    "    "
   ]
  },
  {
   "cell_type": "markdown",
   "metadata": {},
   "source": [
    " "
   ]
  },
  {
   "cell_type": "markdown",
   "metadata": {},
   "source": [
    "Перенос на целевую полку"
   ]
  },
  {
   "cell_type": "code",
   "execution_count": 12,
   "metadata": {},
   "outputs": [],
   "source": [
    "def transfer_target_shelf():\n",
    "    number_doc = enter_the_document_number()\n",
    "    number_shelf = enter_the_shelf_number()\n",
    "    existence = False;\n",
    "    \n",
    "    if number_shelf in directories:\n",
    "        for key, data_dir in directories.items():\n",
    "            for i, data_cell in enumerate(data_dir):\n",
    "                if data_cell == number_doc:\n",
    "                    directories[number_shelf].append(directories[key][i])\n",
    "                    del(directories[key][i])\n",
    "                    break\n",
    "    else:\n",
    "        print('Введенной полки не существует! Сначала создайте полку.')\n",
    "    return"
   ]
  },
  {
   "cell_type": "markdown",
   "metadata": {},
   "source": [
    " \n"
   ]
  },
  {
   "cell_type": "markdown",
   "metadata": {},
   "source": [
    "Добавление нового документа"
   ]
  },
  {
   "cell_type": "code",
   "execution_count": 13,
   "metadata": {},
   "outputs": [],
   "source": [
    "def add_document():\n",
    "\n",
    "    type_doc = input('Введите тип документа: ')\n",
    "    name_doc = input('Введите ФИО: ')\n",
    "    number_doc = enter_the_document_number()\n",
    "    number_shelf = enter_the_shelf_number()\n",
    "    existence = False;\n",
    "    \n",
    "    if number_shelf in directories:\n",
    "        for data in documents:\n",
    "\n",
    "            if data['number'] == number_doc:                \n",
    "                existence = True;\n",
    "                \n",
    "        if existence == True:\n",
    "            print('Данный документ уже существует')\n",
    "        else:\n",
    "            directories[number_shelf].append(number_doc)\n",
    "            documents.append({'type': type_doc, 'number': number_doc, 'name': name_doc})\n",
    "            print('Информация успешно записана')\n",
    "    else:\n",
    "        print('Введенной полки не существует! Сначала создайте полку.')\n",
    "    return\n",
    "    \n",
    "    "
   ]
  },
  {
   "cell_type": "code",
   "execution_count": null,
   "metadata": {},
   "outputs": [],
   "source": []
  },
  {
   "cell_type": "code",
   "execution_count": null,
   "metadata": {},
   "outputs": [],
   "source": []
  },
  {
   "cell_type": "code",
   "execution_count": null,
   "metadata": {},
   "outputs": [],
   "source": []
  },
  {
   "cell_type": "code",
   "execution_count": null,
   "metadata": {},
   "outputs": [],
   "source": []
  },
  {
   "cell_type": "code",
   "execution_count": null,
   "metadata": {},
   "outputs": [],
   "source": []
  },
  {
   "cell_type": "code",
   "execution_count": null,
   "metadata": {},
   "outputs": [],
   "source": []
  }
 ],
 "metadata": {
  "kernelspec": {
   "display_name": "Python 3",
   "language": "python",
   "name": "python3"
  }
 },
 "nbformat": 4,
 "nbformat_minor": 4
}
