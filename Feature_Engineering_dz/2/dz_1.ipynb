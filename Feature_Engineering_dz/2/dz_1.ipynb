{
 "cells": [
  {
   "cell_type": "code",
   "execution_count": 55,
   "metadata": {},
   "outputs": [],
   "source": [
    "import pandas as pd\n",
    "import matplotlib.pyplot as plt\n",
    "%matplotlib inline"
   ]
  },
  {
   "cell_type": "code",
   "execution_count": 71,
   "metadata": {},
   "outputs": [
    {
     "data": {
      "text/html": [
       "<div>\n",
       "<style scoped>\n",
       "    .dataframe tbody tr th:only-of-type {\n",
       "        vertical-align: middle;\n",
       "    }\n",
       "\n",
       "    .dataframe tbody tr th {\n",
       "        vertical-align: top;\n",
       "    }\n",
       "\n",
       "    .dataframe thead th {\n",
       "        text-align: right;\n",
       "    }\n",
       "</style>\n",
       "<table border=\"1\" class=\"dataframe\">\n",
       "  <thead>\n",
       "    <tr style=\"text-align: right;\">\n",
       "      <th></th>\n",
       "      <th>age</th>\n",
       "      <th>workclass</th>\n",
       "      <th>fnlwgt</th>\n",
       "      <th>education</th>\n",
       "      <th>educational-num</th>\n",
       "      <th>marital-status</th>\n",
       "      <th>occupation</th>\n",
       "      <th>relationship</th>\n",
       "      <th>race</th>\n",
       "      <th>gender</th>\n",
       "      <th>capital-gain</th>\n",
       "      <th>capital-loss</th>\n",
       "      <th>hours-per-week</th>\n",
       "      <th>native-country</th>\n",
       "      <th>income</th>\n",
       "    </tr>\n",
       "  </thead>\n",
       "  <tbody>\n",
       "    <tr>\n",
       "      <th>0</th>\n",
       "      <td>25</td>\n",
       "      <td>Private</td>\n",
       "      <td>226802</td>\n",
       "      <td>11th</td>\n",
       "      <td>7</td>\n",
       "      <td>Never-married</td>\n",
       "      <td>Machine-op-inspct</td>\n",
       "      <td>Own-child</td>\n",
       "      <td>Black</td>\n",
       "      <td>Male</td>\n",
       "      <td>0</td>\n",
       "      <td>0</td>\n",
       "      <td>40</td>\n",
       "      <td>United-States</td>\n",
       "      <td>&lt;=50K</td>\n",
       "    </tr>\n",
       "    <tr>\n",
       "      <th>1</th>\n",
       "      <td>38</td>\n",
       "      <td>Private</td>\n",
       "      <td>89814</td>\n",
       "      <td>HS-grad</td>\n",
       "      <td>9</td>\n",
       "      <td>Married-civ-spouse</td>\n",
       "      <td>Farming-fishing</td>\n",
       "      <td>Husband</td>\n",
       "      <td>White</td>\n",
       "      <td>Male</td>\n",
       "      <td>0</td>\n",
       "      <td>0</td>\n",
       "      <td>50</td>\n",
       "      <td>United-States</td>\n",
       "      <td>&lt;=50K</td>\n",
       "    </tr>\n",
       "    <tr>\n",
       "      <th>2</th>\n",
       "      <td>28</td>\n",
       "      <td>Local-gov</td>\n",
       "      <td>336951</td>\n",
       "      <td>Assoc-acdm</td>\n",
       "      <td>12</td>\n",
       "      <td>Married-civ-spouse</td>\n",
       "      <td>Protective-serv</td>\n",
       "      <td>Husband</td>\n",
       "      <td>White</td>\n",
       "      <td>Male</td>\n",
       "      <td>0</td>\n",
       "      <td>0</td>\n",
       "      <td>40</td>\n",
       "      <td>United-States</td>\n",
       "      <td>&gt;50K</td>\n",
       "    </tr>\n",
       "    <tr>\n",
       "      <th>3</th>\n",
       "      <td>44</td>\n",
       "      <td>Private</td>\n",
       "      <td>160323</td>\n",
       "      <td>Some-college</td>\n",
       "      <td>10</td>\n",
       "      <td>Married-civ-spouse</td>\n",
       "      <td>Machine-op-inspct</td>\n",
       "      <td>Husband</td>\n",
       "      <td>Black</td>\n",
       "      <td>Male</td>\n",
       "      <td>7688</td>\n",
       "      <td>0</td>\n",
       "      <td>40</td>\n",
       "      <td>United-States</td>\n",
       "      <td>&gt;50K</td>\n",
       "    </tr>\n",
       "    <tr>\n",
       "      <th>4</th>\n",
       "      <td>18</td>\n",
       "      <td>?</td>\n",
       "      <td>103497</td>\n",
       "      <td>Some-college</td>\n",
       "      <td>10</td>\n",
       "      <td>Never-married</td>\n",
       "      <td>?</td>\n",
       "      <td>Own-child</td>\n",
       "      <td>White</td>\n",
       "      <td>Female</td>\n",
       "      <td>0</td>\n",
       "      <td>0</td>\n",
       "      <td>30</td>\n",
       "      <td>United-States</td>\n",
       "      <td>&lt;=50K</td>\n",
       "    </tr>\n",
       "  </tbody>\n",
       "</table>\n",
       "</div>"
      ],
      "text/plain": [
       "   age  workclass  fnlwgt     education  educational-num      marital-status  \\\n",
       "0   25    Private  226802          11th                7       Never-married   \n",
       "1   38    Private   89814       HS-grad                9  Married-civ-spouse   \n",
       "2   28  Local-gov  336951    Assoc-acdm               12  Married-civ-spouse   \n",
       "3   44    Private  160323  Some-college               10  Married-civ-spouse   \n",
       "4   18          ?  103497  Some-college               10       Never-married   \n",
       "\n",
       "          occupation relationship   race  gender  capital-gain  capital-loss  \\\n",
       "0  Machine-op-inspct    Own-child  Black    Male             0             0   \n",
       "1    Farming-fishing      Husband  White    Male             0             0   \n",
       "2    Protective-serv      Husband  White    Male             0             0   \n",
       "3  Machine-op-inspct      Husband  Black    Male          7688             0   \n",
       "4                  ?    Own-child  White  Female             0             0   \n",
       "\n",
       "   hours-per-week native-country income  \n",
       "0              40  United-States  <=50K  \n",
       "1              50  United-States  <=50K  \n",
       "2              40  United-States   >50K  \n",
       "3              40  United-States   >50K  \n",
       "4              30  United-States  <=50K  "
      ]
     },
     "execution_count": 71,
     "metadata": {},
     "output_type": "execute_result"
    }
   ],
   "source": [
    "data = pd.read_csv('adult.csv', sep = ',')\n",
    "data.head()"
   ]
  },
  {
   "cell_type": "code",
   "execution_count": 72,
   "metadata": {},
   "outputs": [
    {
     "name": "stdout",
     "output_type": "stream",
     "text": [
      "<class 'pandas.core.frame.DataFrame'>\n",
      "RangeIndex: 48842 entries, 0 to 48841\n",
      "Data columns (total 15 columns):\n",
      " #   Column           Non-Null Count  Dtype \n",
      "---  ------           --------------  ----- \n",
      " 0   age              48842 non-null  int64 \n",
      " 1   workclass        48842 non-null  object\n",
      " 2   fnlwgt           48842 non-null  int64 \n",
      " 3   education        48842 non-null  object\n",
      " 4   educational-num  48842 non-null  int64 \n",
      " 5   marital-status   48842 non-null  object\n",
      " 6   occupation       48842 non-null  object\n",
      " 7   relationship     48842 non-null  object\n",
      " 8   race             48842 non-null  object\n",
      " 9   gender           48842 non-null  object\n",
      " 10  capital-gain     48842 non-null  int64 \n",
      " 11  capital-loss     48842 non-null  int64 \n",
      " 12  hours-per-week   48842 non-null  int64 \n",
      " 13  native-country   48842 non-null  object\n",
      " 14  income           48842 non-null  object\n",
      "dtypes: int64(6), object(9)\n",
      "memory usage: 5.6+ MB\n"
     ]
    }
   ],
   "source": [
    "data.info()"
   ]
  },
  {
   "cell_type": "code",
   "execution_count": 73,
   "metadata": {},
   "outputs": [
    {
     "name": "stdout",
     "output_type": "stream",
     "text": [
      "Число ячеек со знаком ? столбец workclass 2799\n",
      "Число ячеек со знаком ? столбец occupation 857\n",
      "Число ячеек со знаком ? столбец occupation 2809\n"
     ]
    }
   ],
   "source": [
    "#Число ячеек со знаком ? \n",
    "print('Число ячеек со знаком ? столбец workclass', len(data[data['workclass']  == '?' ]))\n",
    "print('Число ячеек со знаком ? столбец occupation', len(data[data['native-country']  == '?' ]))\n",
    "print('Число ячеек со знаком ? столбец occupation', len(data[data['occupation']  == '?' ]))"
   ]
  },
  {
   "cell_type": "code",
   "execution_count": null,
   "metadata": {},
   "outputs": [],
   "source": []
  },
  {
   "cell_type": "code",
   "execution_count": 79,
   "metadata": {},
   "outputs": [
    {
     "name": "stdout",
     "output_type": "stream",
     "text": [
      "Число ячеек со знаком ? столбец workclass 0\n",
      "Число ячеек со знаком ? столбец occupation 0\n",
      "Число ячеек со знаком ? столбец occupation 0\n"
     ]
    }
   ],
   "source": [
    "data = data[data['workclass'] != '?']\n",
    "data = data[data['native-country'] != '?']\n",
    "data = data[data['occupation'] != '?']\n",
    "\n",
    "print('Число ячеек со знаком ? столбец workclass', len(data[data['workclass']  == '?' ]))\n",
    "print('Число ячеек со знаком ? столбец occupation', len(data[data['native-country']  == '?' ]))\n",
    "print('Число ячеек со знаком ? столбец occupation', len(data[data['occupation']  == '?' ]))"
   ]
  },
  {
   "cell_type": "code",
   "execution_count": 5,
   "metadata": {},
   "outputs": [],
   "source": [
    "from sklearn.linear_model import LogisticRegression"
   ]
  },
  {
   "cell_type": "code",
   "execution_count": null,
   "metadata": {},
   "outputs": [],
   "source": []
  },
  {
   "cell_type": "code",
   "execution_count": 369,
   "metadata": {},
   "outputs": [],
   "source": [
    "# Удаляем из анализа параметры workclass, marital-status,race,\n",
    "Select_Data = data.drop(['workclass','educational-num','marital-status','race','income'], axis = 1) # Удаляем столбец income, т.к. это наше искомое значение\n",
    "\n",
    "\n",
    "# Реализуем OneHotEncoding для параметров \n",
    "# education, occupation, relationship, gender, native-countr\n",
    "X = pd.get_dummies(Select_Data, columns = [  'education',  'occupation', 'relationship',  \n",
    "                                          'gender', 'native-country'])"
   ]
  },
  {
   "cell_type": "code",
   "execution_count": 370,
   "metadata": {},
   "outputs": [
    {
     "data": {
      "text/plain": [
       "LabelEncoder()"
      ]
     },
     "execution_count": 370,
     "metadata": {},
     "output_type": "execute_result"
    }
   ],
   "source": [
    "# целевая переменная (столбец income) снова является категориальной\n",
    "# переведем значения столбца в числа, оставив один столбец\n",
    "\n",
    "from sklearn.preprocessing import LabelEncoder\n",
    "le = LabelEncoder()\n",
    "le.fit( data['income'] )"
   ]
  },
  {
   "cell_type": "code",
   "execution_count": 371,
   "metadata": {},
   "outputs": [],
   "source": [
    "#Приводим данные к единой размерности\n",
    "from sklearn.preprocessing import StandardScaler"
   ]
  },
  {
   "cell_type": "code",
   "execution_count": 372,
   "metadata": {},
   "outputs": [],
   "source": [
    "ss = StandardScaler()"
   ]
  },
  {
   "cell_type": "code",
   "execution_count": 373,
   "metadata": {},
   "outputs": [
    {
     "data": {
      "text/html": [
       "<div>\n",
       "<style scoped>\n",
       "    .dataframe tbody tr th:only-of-type {\n",
       "        vertical-align: middle;\n",
       "    }\n",
       "\n",
       "    .dataframe tbody tr th {\n",
       "        vertical-align: top;\n",
       "    }\n",
       "\n",
       "    .dataframe thead th {\n",
       "        text-align: right;\n",
       "    }\n",
       "</style>\n",
       "<table border=\"1\" class=\"dataframe\">\n",
       "  <thead>\n",
       "    <tr style=\"text-align: right;\">\n",
       "      <th></th>\n",
       "      <th>0</th>\n",
       "      <th>1</th>\n",
       "      <th>2</th>\n",
       "      <th>3</th>\n",
       "      <th>4</th>\n",
       "      <th>5</th>\n",
       "      <th>6</th>\n",
       "      <th>7</th>\n",
       "      <th>8</th>\n",
       "      <th>9</th>\n",
       "      <th>...</th>\n",
       "      <th>74</th>\n",
       "      <th>75</th>\n",
       "      <th>76</th>\n",
       "      <th>77</th>\n",
       "      <th>78</th>\n",
       "      <th>79</th>\n",
       "      <th>80</th>\n",
       "      <th>81</th>\n",
       "      <th>82</th>\n",
       "      <th>83</th>\n",
       "    </tr>\n",
       "  </thead>\n",
       "  <tbody>\n",
       "    <tr>\n",
       "      <th>0</th>\n",
       "      <td>-1.024983</td>\n",
       "      <td>0.350889</td>\n",
       "      <td>-0.146733</td>\n",
       "      <td>-0.21878</td>\n",
       "      <td>-0.078120</td>\n",
       "      <td>-0.166722</td>\n",
       "      <td>5.189610</td>\n",
       "      <td>-0.113685</td>\n",
       "      <td>-0.070238</td>\n",
       "      <td>-0.100142</td>\n",
       "      <td>...</td>\n",
       "      <td>-0.037053</td>\n",
       "      <td>-0.062328</td>\n",
       "      <td>-0.021035</td>\n",
       "      <td>-0.047312</td>\n",
       "      <td>-0.034896</td>\n",
       "      <td>-0.025332</td>\n",
       "      <td>-0.023985</td>\n",
       "      <td>0.308506</td>\n",
       "      <td>-0.042881</td>\n",
       "      <td>-0.022558</td>\n",
       "    </tr>\n",
       "    <tr>\n",
       "      <th>1</th>\n",
       "      <td>-0.041455</td>\n",
       "      <td>-0.945878</td>\n",
       "      <td>-0.146733</td>\n",
       "      <td>-0.21878</td>\n",
       "      <td>0.754701</td>\n",
       "      <td>-0.166722</td>\n",
       "      <td>-0.192693</td>\n",
       "      <td>-0.113685</td>\n",
       "      <td>-0.070238</td>\n",
       "      <td>-0.100142</td>\n",
       "      <td>...</td>\n",
       "      <td>-0.037053</td>\n",
       "      <td>-0.062328</td>\n",
       "      <td>-0.021035</td>\n",
       "      <td>-0.047312</td>\n",
       "      <td>-0.034896</td>\n",
       "      <td>-0.025332</td>\n",
       "      <td>-0.023985</td>\n",
       "      <td>0.308506</td>\n",
       "      <td>-0.042881</td>\n",
       "      <td>-0.022558</td>\n",
       "    </tr>\n",
       "    <tr>\n",
       "      <th>2</th>\n",
       "      <td>-0.798015</td>\n",
       "      <td>1.393592</td>\n",
       "      <td>-0.146733</td>\n",
       "      <td>-0.21878</td>\n",
       "      <td>-0.078120</td>\n",
       "      <td>-0.166722</td>\n",
       "      <td>-0.192693</td>\n",
       "      <td>-0.113685</td>\n",
       "      <td>-0.070238</td>\n",
       "      <td>-0.100142</td>\n",
       "      <td>...</td>\n",
       "      <td>-0.037053</td>\n",
       "      <td>-0.062328</td>\n",
       "      <td>-0.021035</td>\n",
       "      <td>-0.047312</td>\n",
       "      <td>-0.034896</td>\n",
       "      <td>-0.025332</td>\n",
       "      <td>-0.023985</td>\n",
       "      <td>0.308506</td>\n",
       "      <td>-0.042881</td>\n",
       "      <td>-0.022558</td>\n",
       "    </tr>\n",
       "    <tr>\n",
       "      <th>3</th>\n",
       "      <td>0.412481</td>\n",
       "      <td>-0.278420</td>\n",
       "      <td>0.877467</td>\n",
       "      <td>-0.21878</td>\n",
       "      <td>-0.078120</td>\n",
       "      <td>-0.166722</td>\n",
       "      <td>-0.192693</td>\n",
       "      <td>-0.113685</td>\n",
       "      <td>-0.070238</td>\n",
       "      <td>-0.100142</td>\n",
       "      <td>...</td>\n",
       "      <td>-0.037053</td>\n",
       "      <td>-0.062328</td>\n",
       "      <td>-0.021035</td>\n",
       "      <td>-0.047312</td>\n",
       "      <td>-0.034896</td>\n",
       "      <td>-0.025332</td>\n",
       "      <td>-0.023985</td>\n",
       "      <td>0.308506</td>\n",
       "      <td>-0.042881</td>\n",
       "      <td>-0.022558</td>\n",
       "    </tr>\n",
       "    <tr>\n",
       "      <th>4</th>\n",
       "      <td>-0.344079</td>\n",
       "      <td>0.084802</td>\n",
       "      <td>-0.146733</td>\n",
       "      <td>-0.21878</td>\n",
       "      <td>-0.910942</td>\n",
       "      <td>5.998024</td>\n",
       "      <td>-0.192693</td>\n",
       "      <td>-0.113685</td>\n",
       "      <td>-0.070238</td>\n",
       "      <td>-0.100142</td>\n",
       "      <td>...</td>\n",
       "      <td>-0.037053</td>\n",
       "      <td>-0.062328</td>\n",
       "      <td>-0.021035</td>\n",
       "      <td>-0.047312</td>\n",
       "      <td>-0.034896</td>\n",
       "      <td>-0.025332</td>\n",
       "      <td>-0.023985</td>\n",
       "      <td>0.308506</td>\n",
       "      <td>-0.042881</td>\n",
       "      <td>-0.022558</td>\n",
       "    </tr>\n",
       "    <tr>\n",
       "      <th>...</th>\n",
       "      <td>...</td>\n",
       "      <td>...</td>\n",
       "      <td>...</td>\n",
       "      <td>...</td>\n",
       "      <td>...</td>\n",
       "      <td>...</td>\n",
       "      <td>...</td>\n",
       "      <td>...</td>\n",
       "      <td>...</td>\n",
       "      <td>...</td>\n",
       "      <td>...</td>\n",
       "      <td>...</td>\n",
       "      <td>...</td>\n",
       "      <td>...</td>\n",
       "      <td>...</td>\n",
       "      <td>...</td>\n",
       "      <td>...</td>\n",
       "      <td>...</td>\n",
       "      <td>...</td>\n",
       "      <td>...</td>\n",
       "      <td>...</td>\n",
       "    </tr>\n",
       "    <tr>\n",
       "      <th>45217</th>\n",
       "      <td>-0.873671</td>\n",
       "      <td>0.639611</td>\n",
       "      <td>-0.146733</td>\n",
       "      <td>-0.21878</td>\n",
       "      <td>-0.244684</td>\n",
       "      <td>-0.166722</td>\n",
       "      <td>-0.192693</td>\n",
       "      <td>-0.113685</td>\n",
       "      <td>-0.070238</td>\n",
       "      <td>-0.100142</td>\n",
       "      <td>...</td>\n",
       "      <td>-0.037053</td>\n",
       "      <td>-0.062328</td>\n",
       "      <td>-0.021035</td>\n",
       "      <td>-0.047312</td>\n",
       "      <td>-0.034896</td>\n",
       "      <td>-0.025332</td>\n",
       "      <td>-0.023985</td>\n",
       "      <td>0.308506</td>\n",
       "      <td>-0.042881</td>\n",
       "      <td>-0.022558</td>\n",
       "    </tr>\n",
       "    <tr>\n",
       "      <th>45218</th>\n",
       "      <td>0.109857</td>\n",
       "      <td>-0.334735</td>\n",
       "      <td>-0.146733</td>\n",
       "      <td>-0.21878</td>\n",
       "      <td>-0.078120</td>\n",
       "      <td>-0.166722</td>\n",
       "      <td>-0.192693</td>\n",
       "      <td>-0.113685</td>\n",
       "      <td>-0.070238</td>\n",
       "      <td>-0.100142</td>\n",
       "      <td>...</td>\n",
       "      <td>-0.037053</td>\n",
       "      <td>-0.062328</td>\n",
       "      <td>-0.021035</td>\n",
       "      <td>-0.047312</td>\n",
       "      <td>-0.034896</td>\n",
       "      <td>-0.025332</td>\n",
       "      <td>-0.023985</td>\n",
       "      <td>0.308506</td>\n",
       "      <td>-0.042881</td>\n",
       "      <td>-0.022558</td>\n",
       "    </tr>\n",
       "    <tr>\n",
       "      <th>45219</th>\n",
       "      <td>1.471665</td>\n",
       "      <td>-0.358060</td>\n",
       "      <td>-0.146733</td>\n",
       "      <td>-0.21878</td>\n",
       "      <td>-0.078120</td>\n",
       "      <td>-0.166722</td>\n",
       "      <td>-0.192693</td>\n",
       "      <td>-0.113685</td>\n",
       "      <td>-0.070238</td>\n",
       "      <td>-0.100142</td>\n",
       "      <td>...</td>\n",
       "      <td>-0.037053</td>\n",
       "      <td>-0.062328</td>\n",
       "      <td>-0.021035</td>\n",
       "      <td>-0.047312</td>\n",
       "      <td>-0.034896</td>\n",
       "      <td>-0.025332</td>\n",
       "      <td>-0.023985</td>\n",
       "      <td>0.308506</td>\n",
       "      <td>-0.042881</td>\n",
       "      <td>-0.022558</td>\n",
       "    </tr>\n",
       "    <tr>\n",
       "      <th>45220</th>\n",
       "      <td>-1.251951</td>\n",
       "      <td>0.111279</td>\n",
       "      <td>-0.146733</td>\n",
       "      <td>-0.21878</td>\n",
       "      <td>-1.743763</td>\n",
       "      <td>-0.166722</td>\n",
       "      <td>-0.192693</td>\n",
       "      <td>-0.113685</td>\n",
       "      <td>-0.070238</td>\n",
       "      <td>-0.100142</td>\n",
       "      <td>...</td>\n",
       "      <td>-0.037053</td>\n",
       "      <td>-0.062328</td>\n",
       "      <td>-0.021035</td>\n",
       "      <td>-0.047312</td>\n",
       "      <td>-0.034896</td>\n",
       "      <td>-0.025332</td>\n",
       "      <td>-0.023985</td>\n",
       "      <td>0.308506</td>\n",
       "      <td>-0.042881</td>\n",
       "      <td>-0.022558</td>\n",
       "    </tr>\n",
       "    <tr>\n",
       "      <th>45221</th>\n",
       "      <td>1.017729</td>\n",
       "      <td>0.929516</td>\n",
       "      <td>1.854773</td>\n",
       "      <td>-0.21878</td>\n",
       "      <td>-0.078120</td>\n",
       "      <td>-0.166722</td>\n",
       "      <td>-0.192693</td>\n",
       "      <td>-0.113685</td>\n",
       "      <td>-0.070238</td>\n",
       "      <td>-0.100142</td>\n",
       "      <td>...</td>\n",
       "      <td>-0.037053</td>\n",
       "      <td>-0.062328</td>\n",
       "      <td>-0.021035</td>\n",
       "      <td>-0.047312</td>\n",
       "      <td>-0.034896</td>\n",
       "      <td>-0.025332</td>\n",
       "      <td>-0.023985</td>\n",
       "      <td>0.308506</td>\n",
       "      <td>-0.042881</td>\n",
       "      <td>-0.022558</td>\n",
       "    </tr>\n",
       "  </tbody>\n",
       "</table>\n",
       "<p>45222 rows × 84 columns</p>\n",
       "</div>"
      ],
      "text/plain": [
       "             0         1         2        3         4         5         6   \\\n",
       "0     -1.024983  0.350889 -0.146733 -0.21878 -0.078120 -0.166722  5.189610   \n",
       "1     -0.041455 -0.945878 -0.146733 -0.21878  0.754701 -0.166722 -0.192693   \n",
       "2     -0.798015  1.393592 -0.146733 -0.21878 -0.078120 -0.166722 -0.192693   \n",
       "3      0.412481 -0.278420  0.877467 -0.21878 -0.078120 -0.166722 -0.192693   \n",
       "4     -0.344079  0.084802 -0.146733 -0.21878 -0.910942  5.998024 -0.192693   \n",
       "...         ...       ...       ...      ...       ...       ...       ...   \n",
       "45217 -0.873671  0.639611 -0.146733 -0.21878 -0.244684 -0.166722 -0.192693   \n",
       "45218  0.109857 -0.334735 -0.146733 -0.21878 -0.078120 -0.166722 -0.192693   \n",
       "45219  1.471665 -0.358060 -0.146733 -0.21878 -0.078120 -0.166722 -0.192693   \n",
       "45220 -1.251951  0.111279 -0.146733 -0.21878 -1.743763 -0.166722 -0.192693   \n",
       "45221  1.017729  0.929516  1.854773 -0.21878 -0.078120 -0.166722 -0.192693   \n",
       "\n",
       "             7         8         9   ...        74        75        76  \\\n",
       "0     -0.113685 -0.070238 -0.100142  ... -0.037053 -0.062328 -0.021035   \n",
       "1     -0.113685 -0.070238 -0.100142  ... -0.037053 -0.062328 -0.021035   \n",
       "2     -0.113685 -0.070238 -0.100142  ... -0.037053 -0.062328 -0.021035   \n",
       "3     -0.113685 -0.070238 -0.100142  ... -0.037053 -0.062328 -0.021035   \n",
       "4     -0.113685 -0.070238 -0.100142  ... -0.037053 -0.062328 -0.021035   \n",
       "...         ...       ...       ...  ...       ...       ...       ...   \n",
       "45217 -0.113685 -0.070238 -0.100142  ... -0.037053 -0.062328 -0.021035   \n",
       "45218 -0.113685 -0.070238 -0.100142  ... -0.037053 -0.062328 -0.021035   \n",
       "45219 -0.113685 -0.070238 -0.100142  ... -0.037053 -0.062328 -0.021035   \n",
       "45220 -0.113685 -0.070238 -0.100142  ... -0.037053 -0.062328 -0.021035   \n",
       "45221 -0.113685 -0.070238 -0.100142  ... -0.037053 -0.062328 -0.021035   \n",
       "\n",
       "             77        78        79        80        81        82        83  \n",
       "0     -0.047312 -0.034896 -0.025332 -0.023985  0.308506 -0.042881 -0.022558  \n",
       "1     -0.047312 -0.034896 -0.025332 -0.023985  0.308506 -0.042881 -0.022558  \n",
       "2     -0.047312 -0.034896 -0.025332 -0.023985  0.308506 -0.042881 -0.022558  \n",
       "3     -0.047312 -0.034896 -0.025332 -0.023985  0.308506 -0.042881 -0.022558  \n",
       "4     -0.047312 -0.034896 -0.025332 -0.023985  0.308506 -0.042881 -0.022558  \n",
       "...         ...       ...       ...       ...       ...       ...       ...  \n",
       "45217 -0.047312 -0.034896 -0.025332 -0.023985  0.308506 -0.042881 -0.022558  \n",
       "45218 -0.047312 -0.034896 -0.025332 -0.023985  0.308506 -0.042881 -0.022558  \n",
       "45219 -0.047312 -0.034896 -0.025332 -0.023985  0.308506 -0.042881 -0.022558  \n",
       "45220 -0.047312 -0.034896 -0.025332 -0.023985  0.308506 -0.042881 -0.022558  \n",
       "45221 -0.047312 -0.034896 -0.025332 -0.023985  0.308506 -0.042881 -0.022558  \n",
       "\n",
       "[45222 rows x 84 columns]"
      ]
     },
     "execution_count": 373,
     "metadata": {},
     "output_type": "execute_result"
    }
   ],
   "source": [
    "X = pd.DataFrame(ss.fit_transform(X))\n",
    "\n",
    "X"
   ]
  },
  {
   "cell_type": "code",
   "execution_count": 374,
   "metadata": {},
   "outputs": [],
   "source": [
    "from sklearn.model_selection import train_test_split"
   ]
  },
  {
   "cell_type": "code",
   "execution_count": 375,
   "metadata": {},
   "outputs": [],
   "source": [
    "X_train, X_test, y_train, y_test = train_test_split(X,y, test_size = 0.25, random_state = 12)"
   ]
  },
  {
   "cell_type": "code",
   "execution_count": null,
   "metadata": {},
   "outputs": [],
   "source": []
  },
  {
   "cell_type": "code",
   "execution_count": 376,
   "metadata": {},
   "outputs": [],
   "source": [
    "# В y записываем требуемые значения\n",
    "y = pd.Series(data = le.transform(data['income']))"
   ]
  },
  {
   "cell_type": "code",
   "execution_count": 377,
   "metadata": {},
   "outputs": [],
   "source": [
    "# Переменной присваем функцию\n",
    "model = LogisticRegression()"
   ]
  },
  {
   "cell_type": "code",
   "execution_count": 378,
   "metadata": {},
   "outputs": [
    {
     "data": {
      "text/plain": [
       "LogisticRegression(C=1.0, class_weight=None, dual=False, fit_intercept=True,\n",
       "                   intercept_scaling=1, l1_ratio=None, max_iter=100,\n",
       "                   multi_class='auto', n_jobs=None, penalty='l2',\n",
       "                   random_state=None, solver='lbfgs', tol=0.0001, verbose=0,\n",
       "                   warm_start=False)"
      ]
     },
     "execution_count": 378,
     "metadata": {},
     "output_type": "execute_result"
    }
   ],
   "source": [
    "model.fit(X_train, y_train)"
   ]
  },
  {
   "cell_type": "code",
   "execution_count": 379,
   "metadata": {},
   "outputs": [
    {
     "data": {
      "text/plain": [
       "0.8468569406769666"
      ]
     },
     "execution_count": 379,
     "metadata": {},
     "output_type": "execute_result"
    }
   ],
   "source": [
    "model.score(X_train, y_train)"
   ]
  },
  {
   "cell_type": "code",
   "execution_count": 380,
   "metadata": {},
   "outputs": [
    {
     "data": {
      "text/plain": [
       "0.8508756412524323"
      ]
     },
     "execution_count": 380,
     "metadata": {},
     "output_type": "execute_result"
    }
   ],
   "source": [
    "model.score(X_test, y_test)"
   ]
  },
  {
   "cell_type": "code",
   "execution_count": 381,
   "metadata": {},
   "outputs": [],
   "source": [
    "import matplotlib.pyplot as plt\n",
    "%matplotlib inline"
   ]
  },
  {
   "cell_type": "code",
   "execution_count": 382,
   "metadata": {},
   "outputs": [],
   "source": [
    "y_predict = model.predict(X_test)\n",
    "y_predict_name = le.inverse_transform(y_predict)\n",
    "y_predict = pd.Series(y_predict)"
   ]
  },
  {
   "cell_type": "code",
   "execution_count": 383,
   "metadata": {},
   "outputs": [
    {
     "data": {
      "image/png": "[encoded data removed]",
      "text/plain": [
       "<Figure size 432x288 with 1 Axes>"
      ]
     },
     "metadata": {
      "needs_background": "light"
     },
     "output_type": "display_data"
    }
   ],
   "source": [
    "plt.hist(y)\n",
    "plt.hist(y_predict)\n",
    "plt.show()"
   ]
  },
  {
   "cell_type": "code",
   "execution_count": null,
   "metadata": {},
   "outputs": [],
   "source": []
  },
  {
   "cell_type": "code",
   "execution_count": null,
   "metadata": {},
   "outputs": [],
   "source": []
  },
  {
   "cell_type": "code",
   "execution_count": null,
   "metadata": {},
   "outputs": [],
   "source": []
  },
  {
   "cell_type": "code",
   "execution_count": 385,
   "metadata": {},
   "outputs": [],
   "source": [
    "from sklearn.pipeline import make_pipeline\n",
    "from sklearn.svm import SVC\n"
   ]
  },
  {
   "cell_type": "code",
   "execution_count": 386,
   "metadata": {},
   "outputs": [],
   "source": []
  },
  {
   "cell_type": "code",
   "execution_count": 387,
   "metadata": {},
   "outputs": [
    {
     "data": {
      "text/plain": [
       "Pipeline(memory=None,\n",
       "         steps=[('standardscaler',\n",
       "                 StandardScaler(copy=True, with_mean=True, with_std=True)),\n",
       "                ('svc',\n",
       "                 SVC(C=1.0, break_ties=False, cache_size=200, class_weight=None,\n",
       "                     coef0=0.0, decision_function_shape='ovr', degree=3,\n",
       "                     gamma='auto', kernel='rbf', max_iter=-1, probability=False,\n",
       "                     random_state=None, shrinking=True, tol=0.001,\n",
       "                     verbose=False))],\n",
       "         verbose=False)"
      ]
     },
     "execution_count": 387,
     "metadata": {},
     "output_type": "execute_result"
    }
   ],
   "source": [
    "clf = make_pipeline(StandardScaler(), SVC(gamma='auto'))\n",
    "clf.fit(X_train, y_train)"
   ]
  },
  {
   "cell_type": "code",
   "execution_count": 388,
   "metadata": {},
   "outputs": [
    {
     "data": {
      "text/plain": [
       "Pipeline(memory=None,\n",
       "         steps=[('standardscaler',\n",
       "                 StandardScaler(copy=True, with_mean=True, with_std=True)),\n",
       "                ('svc',\n",
       "                 SVC(C=1.0, break_ties=False, cache_size=200, class_weight=None,\n",
       "                     coef0=0.0, decision_function_shape='ovr', degree=3,\n",
       "                     gamma='auto', kernel='rbf', max_iter=-1, probability=False,\n",
       "                     random_state=None, shrinking=True, tol=0.001,\n",
       "                     verbose=False))],\n",
       "         verbose=False)"
      ]
     },
     "execution_count": 388,
     "metadata": {},
     "output_type": "execute_result"
    }
   ],
   "source": [
    "clf.fit(X_train, y_train)"
   ]
  },
  {
   "cell_type": "code",
   "execution_count": 389,
   "metadata": {},
   "outputs": [
    {
     "data": {
      "text/plain": [
       "0.8534320084915674"
      ]
     },
     "execution_count": 389,
     "metadata": {},
     "output_type": "execute_result"
    }
   ],
   "source": [
    "clf.score(X_train, y_train)"
   ]
  },
  {
   "cell_type": "code",
   "execution_count": 390,
   "metadata": {},
   "outputs": [
    {
     "data": {
      "text/plain": [
       "0.8444188926233858"
      ]
     },
     "execution_count": 390,
     "metadata": {},
     "output_type": "execute_result"
    }
   ],
   "source": [
    "clf.score(X_test, y_test)"
   ]
  },
  {
   "cell_type": "code",
   "execution_count": null,
   "metadata": {},
   "outputs": [],
   "source": []
  }
 ],
 "metadata": {
  "kernelspec": {
   "display_name": "Python 3",
   "language": "python",
   "name": "python3"
  },
  "language_info": {
   "codemirror_mode": {
    "name": "ipython",
    "version": 3
   },
   "file_extension": ".py",
   "mimetype": "text/x-python",
   "name": "python",
   "nbconvert_exporter": "python",
   "pygments_lexer": "ipython3",
   "version": "3.7.6"
  }
 },
 "nbformat": 4,
 "nbformat_minor": 4
}
