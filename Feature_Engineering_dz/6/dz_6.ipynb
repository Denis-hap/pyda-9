{
 "cells": [
  {
   "cell_type": "code",
   "execution_count": 5,
   "metadata": {},
   "outputs": [],
   "source": [
    "import numpy as np\n",
    "import pandas as pd\n",
    "\n",
    "from sklearn.linear_model import LinearRegression"
   ]
  },
  {
   "cell_type": "code",
   "execution_count": 31,
   "metadata": {},
   "outputs": [],
   "source": [
    "import random"
   ]
  },
  {
   "cell_type": "markdown",
   "metadata": {},
   "source": [
    "Создаем факторы для определения релевантности документа. \n",
    "\n",
    "*число слов из запроса(в документе) words_from_query\n",
    "\n",
    "*всего слов в локументе number_words \n",
    "\n",
    "*Число ссылок на документ number_links\n",
    "\n",
    "*Скорость загрузки download_speed \n",
    "\n",
    "Создаем условную формулу релевантности число слов из запроса * число ссылок * 100 + сдвиг 10. \n",
    "\n",
    "Не совсем понял про 100 и сдвиг. Почему они присуствую в формуле и при их наличии модуль расчитывает без ошибок, а без низ появляются ошибки"
   ]
  },
  {
   "cell_type": "code",
   "execution_count": 191,
   "metadata": {},
   "outputs": [
    {
     "data": {
      "text/html": [
       "<div>\n",
       "<style scoped>\n",
       "    .dataframe tbody tr th:only-of-type {\n",
       "        vertical-align: middle;\n",
       "    }\n",
       "\n",
       "    .dataframe tbody tr th {\n",
       "        vertical-align: top;\n",
       "    }\n",
       "\n",
       "    .dataframe thead th {\n",
       "        text-align: right;\n",
       "    }\n",
       "</style>\n",
       "<table border=\"1\" class=\"dataframe\">\n",
       "  <thead>\n",
       "    <tr style=\"text-align: right;\">\n",
       "      <th></th>\n",
       "      <th>words_from_query</th>\n",
       "      <th>number_words</th>\n",
       "      <th>number_links</th>\n",
       "      <th>download_speed</th>\n",
       "      <th>relevance</th>\n",
       "    </tr>\n",
       "  </thead>\n",
       "  <tbody>\n",
       "    <tr>\n",
       "      <th>0</th>\n",
       "      <td>14</td>\n",
       "      <td>155</td>\n",
       "      <td>774</td>\n",
       "      <td>2</td>\n",
       "      <td>8.569446e+05</td>\n",
       "    </tr>\n",
       "    <tr>\n",
       "      <th>1</th>\n",
       "      <td>70</td>\n",
       "      <td>616</td>\n",
       "      <td>672</td>\n",
       "      <td>8</td>\n",
       "      <td>5.913760e+05</td>\n",
       "    </tr>\n",
       "    <tr>\n",
       "      <th>2</th>\n",
       "      <td>67</td>\n",
       "      <td>872</td>\n",
       "      <td>392</td>\n",
       "      <td>8</td>\n",
       "      <td>5.102011e+05</td>\n",
       "    </tr>\n",
       "    <tr>\n",
       "      <th>3</th>\n",
       "      <td>13</td>\n",
       "      <td>410</td>\n",
       "      <td>719</td>\n",
       "      <td>10</td>\n",
       "      <td>2.267631e+06</td>\n",
       "    </tr>\n",
       "    <tr>\n",
       "      <th>4</th>\n",
       "      <td>60</td>\n",
       "      <td>545</td>\n",
       "      <td>518</td>\n",
       "      <td>14</td>\n",
       "      <td>4.705327e+05</td>\n",
       "    </tr>\n",
       "    <tr>\n",
       "      <th>...</th>\n",
       "      <td>...</td>\n",
       "      <td>...</td>\n",
       "      <td>...</td>\n",
       "      <td>...</td>\n",
       "      <td>...</td>\n",
       "    </tr>\n",
       "    <tr>\n",
       "      <th>495</th>\n",
       "      <td>37</td>\n",
       "      <td>229</td>\n",
       "      <td>737</td>\n",
       "      <td>15</td>\n",
       "      <td>4.561592e+05</td>\n",
       "    </tr>\n",
       "    <tr>\n",
       "      <th>496</th>\n",
       "      <td>93</td>\n",
       "      <td>554</td>\n",
       "      <td>108</td>\n",
       "      <td>12</td>\n",
       "      <td>6.435148e+04</td>\n",
       "    </tr>\n",
       "    <tr>\n",
       "      <th>497</th>\n",
       "      <td>12</td>\n",
       "      <td>797</td>\n",
       "      <td>105</td>\n",
       "      <td>7</td>\n",
       "      <td>6.973910e+05</td>\n",
       "    </tr>\n",
       "    <tr>\n",
       "      <th>498</th>\n",
       "      <td>32</td>\n",
       "      <td>514</td>\n",
       "      <td>773</td>\n",
       "      <td>10</td>\n",
       "      <td>1.241647e+06</td>\n",
       "    </tr>\n",
       "    <tr>\n",
       "      <th>499</th>\n",
       "      <td>69</td>\n",
       "      <td>513</td>\n",
       "      <td>738</td>\n",
       "      <td>10</td>\n",
       "      <td>5.487030e+05</td>\n",
       "    </tr>\n",
       "  </tbody>\n",
       "</table>\n",
       "<p>500 rows × 5 columns</p>\n",
       "</div>"
      ],
      "text/plain": [
       "     words_from_query  number_words  number_links  download_speed  \\\n",
       "0                  14           155           774               2   \n",
       "1                  70           616           672               8   \n",
       "2                  67           872           392               8   \n",
       "3                  13           410           719              10   \n",
       "4                  60           545           518              14   \n",
       "..                ...           ...           ...             ...   \n",
       "495                37           229           737              15   \n",
       "496                93           554           108              12   \n",
       "497                12           797           105               7   \n",
       "498                32           514           773              10   \n",
       "499                69           513           738              10   \n",
       "\n",
       "        relevance  \n",
       "0    8.569446e+05  \n",
       "1    5.913760e+05  \n",
       "2    5.102011e+05  \n",
       "3    2.267631e+06  \n",
       "4    4.705327e+05  \n",
       "..            ...  \n",
       "495  4.561592e+05  \n",
       "496  6.435148e+04  \n",
       "497  6.973910e+05  \n",
       "498  1.241647e+06  \n",
       "499  5.487030e+05  \n",
       "\n",
       "[500 rows x 5 columns]"
      ]
     },
     "execution_count": 191,
     "metadata": {},
     "output_type": "execute_result"
    }
   ],
   "source": [
    "# Создаём сэмпл\n",
    "n_samples = 500\n",
    "\n",
    "\n",
    "words_from_query = np.random.choice(100,n_samples) + 1\n",
    "number_words = np.random.choice(900, n_samples) + 40\n",
    "number_links = np.random.choice(1000, n_samples)\n",
    "download_speed = np.random.choice(15, n_samples) + 2\n",
    "\n",
    "\n",
    "relevance = (number_words / words_from_query) * number_links * 100 + 16\n",
    "\n",
    "data = pd.DataFrame({'words_from_query': words_from_query, 'number_words':number_words, 'number_links':number_links, 'download_speed': download_speed, 'relevance':relevance})\n",
    "\n",
    "data"
   ]
  },
  {
   "cell_type": "code",
   "execution_count": 110,
   "metadata": {},
   "outputs": [],
   "source": [
    "from sklearn.metrics import mean_absolute_error"
   ]
  },
  {
   "cell_type": "markdown",
   "metadata": {},
   "source": [
    "По примеру из лекции пытаемся загрузить все парметры в нашу модель и посчитать веса."
   ]
  },
  {
   "cell_type": "code",
   "execution_count": 133,
   "metadata": {},
   "outputs": [
    {
     "name": "stdout",
     "output_type": "stream",
     "text": [
      "Weights: [49539.20473132    79.81274953  4646.50952828  2074.92838395]\n",
      "Bias: -2320705.7398620346\n",
      "Error: 590871.5254532365\n"
     ]
    }
   ],
   "source": [
    "x = data[['words_from_query', 'number_words', 'number_links', 'download_speed']]\n",
    "y = data ['relevance']\n",
    "\n",
    "reg = LinearRegression().fit(x,y)\n",
    "\n",
    "print('Weights: {}'.format(reg.coef_))\n",
    "print('Bias: {}'.format(reg.intercept_))\n",
    "\n",
    "pred_values = reg.predict(data[['words_from_query', 'number_words', 'number_links', 'download_speed']])\n",
    "print('Error: {}'.format(mean_absolute_error(pred_values, y)))"
   ]
  },
  {
   "cell_type": "code",
   "execution_count": 134,
   "metadata": {},
   "outputs": [
    {
     "data": {
      "text/plain": [
       "1813965.0"
      ]
     },
     "execution_count": 134,
     "metadata": {},
     "output_type": "execute_result"
    }
   ],
   "source": [
    "y.median()"
   ]
  },
  {
   "cell_type": "markdown",
   "metadata": {},
   "source": [
    "Оставляем только параметры учавствующие в формуле."
   ]
  },
  {
   "cell_type": "code",
   "execution_count": 135,
   "metadata": {},
   "outputs": [
    {
     "name": "stdout",
     "output_type": "stream",
     "text": [
      "Weights: [49558.59813929  4648.05193174]\n",
      "Bias: -2264103.4786518314\n",
      "Error: 22332718.368232276\n"
     ]
    }
   ],
   "source": [
    "x = data[['words_from_query', 'number_links']]\n",
    "y = data ['relevance']\n",
    "\n",
    "reg = LinearRegression().fit(x,y)\n",
    "\n",
    "print('Weights: {}'.format(reg.coef_))\n",
    "print('Bias: {}'.format(reg.intercept_))\n",
    "\n",
    "pred_values = reg.predict(data[[ 'number_words', 'number_links']])\n",
    "print('Error: {}'.format(mean_absolute_error(pred_values, y)))"
   ]
  },
  {
   "cell_type": "code",
   "execution_count": 194,
   "metadata": {},
   "outputs": [],
   "source": [
    "data['mult'] = (data['number_words']  / data['words_from_query'] ) * data['number_links']"
   ]
  },
  {
   "cell_type": "code",
   "execution_count": null,
   "metadata": {},
   "outputs": [],
   "source": []
  },
  {
   "cell_type": "code",
   "execution_count": 195,
   "metadata": {},
   "outputs": [
    {
     "name": "stdout",
     "output_type": "stream",
     "text": [
      "Weights: [100.]\n",
      "Bias: 16.0\n",
      "Error: 0.0\n"
     ]
    }
   ],
   "source": [
    "x = data[['mult']]\n",
    "y = data ['relevance']\n",
    "\n",
    "reg = LinearRegression().fit(x,y)\n",
    "\n",
    "print('Weights: {}'.format(reg.coef_))\n",
    "print('Bias: {}'.format(reg.intercept_))\n",
    "\n",
    "pred_values = reg.predict(data[[ 'mult']])\n",
    "print('Error: {}'.format(mean_absolute_error(pred_values, y)))"
   ]
  },
  {
   "cell_type": "code",
   "execution_count": null,
   "metadata": {},
   "outputs": [],
   "source": []
  }
 ],
 "metadata": {
  "kernelspec": {
   "display_name": "Python 3",
   "language": "python",
   "name": "python3"
  },
  "language_info": {
   "codemirror_mode": {
    "name": "ipython",
    "version": 3
   },
   "file_extension": ".py",
   "mimetype": "text/x-python",
   "name": "python",
   "nbconvert_exporter": "python",
   "pygments_lexer": "ipython3",
   "version": "3.7.6"
  }
 },
 "nbformat": 4,
 "nbformat_minor": 4
}
