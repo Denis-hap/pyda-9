{
 "cells": [
  {
   "cell_type": "code",
   "execution_count": 1,
   "metadata": {},
   "outputs": [],
   "source": [
    "from sklearn.datasets import load_boston\n",
    "from sklearn.model_selection import train_test_split\n",
    "from sklearn import metrics"
   ]
  },
  {
   "cell_type": "code",
   "execution_count": 2,
   "metadata": {},
   "outputs": [],
   "source": [
    "from sklearn.neighbors import KNeighborsRegressor\n",
    "from sklearn.ensemble import RandomForestRegressor\n",
    "from sklearn.linear_model import LinearRegression\n",
    "from sklearn.tree import DecisionTreeRegressor\n",
    "from sklearn.preprocessing import StandardScaler, PolynomialFeatures\n",
    "from sklearn.linear_model import SGDRegressor\n",
    "from sklearn.svm import SVR"
   ]
  },
  {
   "cell_type": "code",
   "execution_count": 3,
   "metadata": {},
   "outputs": [],
   "source": [
    "boston = load_boston()\n",
    "\n",
    "\n",
    "X = boston.data\n",
    "y = boston.target"
   ]
  },
  {
   "cell_type": "code",
   "execution_count": 4,
   "metadata": {},
   "outputs": [],
   "source": [
    "X_train, X_test, y_train, y_test = train_test_split(X,y)"
   ]
  },
  {
   "cell_type": "code",
   "execution_count": 5,
   "metadata": {},
   "outputs": [],
   "source": [
    "sc = StandardScaler()\n",
    "X_train = sc.fit_transform(X_train)\n",
    "X_test = sc.transform(X_test)"
   ]
  },
  {
   "cell_type": "code",
   "execution_count": 6,
   "metadata": {},
   "outputs": [],
   "source": [
    "from sklearn.model_selection import RandomizedSearchCV"
   ]
  },
  {
   "cell_type": "code",
   "execution_count": 7,
   "metadata": {},
   "outputs": [],
   "source": [
    "import warnings\n",
    "warnings.filterwarnings('ignore')"
   ]
  },
  {
   "cell_type": "code",
   "execution_count": 10,
   "metadata": {},
   "outputs": [],
   "source": [
    "models=[\n",
    "    {'name':'KN','model':KNeighborsRegressor(), 'params':{'n_neighbors': list(range(1, 31)),'weights': ['uniform', 'distance'], 'algorithm':['auto', 'ball_tree', 'kd_tree', 'brute']}},  \n",
    "    {'name':'RF',\"model\": RandomForestRegressor(), 'params':{'n_estimators': list(range(1, 30)), 'criterion': ['mse', 'mae'], 'max_depth': [3,5,7,9,11], 'max_features':['auto', 'sqrt', 'log2']}},\n",
    "    {'name':'LR',\"model\": LinearRegression(), 'params':{'fit_intercept': ['True', 'False'],'normalize': ['True', 'False'],'copy_X': ['True', 'False']}},\n",
    "    {'name':'DTR',\"model\": DecisionTreeRegressor(), 'params':{'criterion':['mse', 'friedman_mse', 'mae', 'poisson'], 'splitter':['best', 'random'],  'max_features':['auto', 'sqrt', 'log2']}},\n",
    "#     {'name':'SVR',\"model\": SVR(), 'params':{'kernel':['linear', 'poly', 'rbf', 'sigmoid', 'precomputed'], 'degree':[2,4,6], 'gamma':['scale','auto']}},\n",
    "#     {'name':'PF',\"model\": PolynomialFeatures(), 'params':{'degree':[2,4,6],'interaction_only': ['True', 'False'], 'include_bias':['True', 'False'], 'order':['C', 'F']}},\n",
    "    {'name':'SGDR',\"model\": SGDRegressor(), 'params':{'loss':['squared_loss', 'huber', 'epsilon_insensitive', 'squared_epsilon_insensitive'], 'penalty':['l2','l1','elasticnet'], 'penalty':['l2','l1','elasticnet']}}\n",
    "\n",
    "]\n",
    "\n",
    "res=[]\n",
    "for v in  models:\n",
    "    res.append((v['name'], RandomizedSearchCV(v['model'], v['params'], cv=10).fit(X_train, y_train)))"
   ]
  },
  {
   "cell_type": "code",
   "execution_count": 11,
   "metadata": {},
   "outputs": [
    {
     "name": "stdout",
     "output_type": "stream",
     "text": [
      "KN 0.7587797492842494 {'weights': 'distance', 'n_neighbors': 6, 'algorithm': 'kd_tree'}\n",
      "RF 0.8477026619776418 {'n_estimators': 9, 'max_features': 'sqrt', 'max_depth': 11, 'criterion': 'mae'}\n",
      "LR 0.6638842471811153 {'normalize': 'True', 'fit_intercept': 'True', 'copy_X': 'True'}\n",
      "DTR 0.7299661364277074 {'splitter': 'random', 'max_features': 'auto', 'criterion': 'friedman_mse'}\n",
      "SGDR 0.661105155924166 {'penalty': 'l1', 'loss': 'squared_loss'}\n"
     ]
    }
   ],
   "source": [
    "for r in res:\n",
    "    print(r[0], r[1].best_score_, r[1].best_params_)"
   ]
  },
  {
   "cell_type": "code",
   "execution_count": null,
   "metadata": {},
   "outputs": [],
   "source": []
  },
  {
   "cell_type": "code",
   "execution_count": null,
   "metadata": {},
   "outputs": [],
   "source": []
  }
 ],
 "metadata": {
  "kernelspec": {
   "display_name": "Python 3",
   "language": "python",
   "name": "python3"
  },
  "language_info": {
   "codemirror_mode": {
    "name": "ipython",
    "version": 3
   },
   "file_extension": ".py",
   "mimetype": "text/x-python",
   "name": "python",
   "nbconvert_exporter": "python",
   "pygments_lexer": "ipython3",
   "version": "3.7.6"
  }
 },
 "nbformat": 4,
 "nbformat_minor": 4
}
