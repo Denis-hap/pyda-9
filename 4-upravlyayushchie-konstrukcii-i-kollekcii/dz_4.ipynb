{
 "cells": [
  {
   "cell_type": "markdown",
   "metadata": {},
   "source": [
    "Задание 1"
   ]
  },
  {
   "cell_type": "code",
   "execution_count": 106,
   "metadata": {},
   "outputs": [
    {
     "name": "stdout",
     "output_type": "stream",
     "text": [
      "[{'visit1': ['Москва', 'Россия']},\n",
      " {'visit3': ['Владимир', 'Россия']},\n",
      " {'visit7': ['Тула', 'Россия']},\n",
      " {'visit8': ['Тула', 'Россия']},\n",
      " {'visit9': ['Курск', 'Россия']},\n",
      " {'visit10': ['Архангельск', 'Россия']}]\n"
     ]
    }
   ],
   "source": [
    "geo_logs = [\n",
    "    {'visit1': ['Москва', 'Россия']},\n",
    "    {'visit2': ['Дели', 'Индия']},\n",
    "    {'visit3': ['Владимир', 'Россия']},\n",
    "    {'visit4': ['Лиссабон', 'Португалия']},\n",
    "    {'visit5': ['Париж', 'Франция']},\n",
    "    {'visit6': ['Лиссабон', 'Португалия']},\n",
    "    {'visit7': ['Тула', 'Россия']},\n",
    "    {'visit8': ['Тула', 'Россия']},\n",
    "    {'visit9': ['Курск', 'Россия']},\n",
    "    {'visit10': ['Архангельск', 'Россия']}\n",
    "]\n",
    "\n",
    "\n",
    "counter = 0\n",
    "\n",
    "for i, state in enumerate(list(geo_logs)):\n",
    "    i = i - counter \n",
    "    if list(state.values())[0][1] != 'Россия':\n",
    "        del(geo_logs[i])\n",
    "        counter += 1\n",
    "\n",
    "from pprint import pprint            \n",
    "pprint(geo_logs)\n"
   ]
  },
  {
   "cell_type": "code",
   "execution_count": null,
   "metadata": {},
   "outputs": [],
   "source": [
    "\n",
    "        "
   ]
  },
  {
   "cell_type": "markdown",
   "metadata": {},
   "source": [
    "Задание 2\n"
   ]
  },
  {
   "cell_type": "code",
   "execution_count": 48,
   "metadata": {},
   "outputs": [
    {
     "name": "stdout",
     "output_type": "stream",
     "text": [
      "[98, 35, 15, 213, 54, 119]\n"
     ]
    }
   ],
   "source": [
    "ids = {'user1': [213, 213, 213, 15, 213], \n",
    "       'user2': [54, 54, 119, 119, 119], \n",
    "       'user3': [213, 98, 98, 35]}\n",
    "\n",
    "ids_set = set()\n",
    "\n",
    "for num in ids.values():\n",
    "    ids_set = ids_set.union(num)\n",
    "\n",
    "print(list(ids_set))\n",
    "\n",
    "\n",
    "\n",
    "\n"
   ]
  },
  {
   "cell_type": "markdown",
   "metadata": {},
   "source": [
    "Задание 3"
   ]
  },
  {
   "cell_type": "code",
   "execution_count": 3,
   "metadata": {
    "scrolled": true
   },
   "outputs": [
    {
     "name": "stdout",
     "output_type": "stream",
     "text": [
      "Слов в фразе: 3. ПРоцент таких фраз: 36.36%\n",
      "Слов в фразе: 2. ПРоцент таких фраз: 27.27%\n",
      "Слов в фразе: 1. ПРоцент таких фраз: 9.09%\n",
      "Слов в фразе: 8. ПРоцент таких фраз: 9.09%\n",
      "Слов в фразе: 6. ПРоцент таких фраз: 9.09%\n",
      "Слов в фразе: 5. ПРоцент таких фраз: 9.09%\n"
     ]
    }
   ],
   "source": [
    "queries = [\n",
    "    'смотреть сериалы онлайн',\n",
    "    'новости спорта',\n",
    "    'афиша кино',\n",
    "    'курс доллара',\n",
    "    'сериалы этим летом',\n",
    "    'курс по питону',\n",
    "    'сериалы про спорт',\n",
    "    'сериалы',\n",
    "    'сериалы про спорт на спорт ТВ с 100',\n",
    "    'сериалы про спорт на спорт ТВ',\n",
    "    'еще один тест для тест'\n",
    "]\n",
    "\n",
    "number_phrase = {}\n",
    "\n",
    "# считаем сколько фраз у нас есть\n",
    "for sum_phrase, phrase in enumerate(queries):\n",
    "\n",
    "    # Запоминаем сколько уже фраз было найдено с таким же числом слов И увеличиваем число найденых фраз на 1\n",
    "    number_phrase[len(phrase.split())] = number_phrase.get(len(phrase.split()), 0) + 1 \n",
    "    \n",
    "for key, phrase in number_phrase.items():\n",
    "    number_phrase[key] = phrase / (sum_phrase + 1) * 100\n",
    "    print(f\"Слов в фразе: {key}. ПРоцент таких фраз: {number_phrase[key]:.2f}%\")\n",
    "\n"
   ]
  },
  {
   "cell_type": "markdown",
   "metadata": {},
   "source": [
    "\n",
    "\n",
    "    \n"
   ]
  },
  {
   "cell_type": "markdown",
   "metadata": {},
   "source": [
    "Заданиче 4"
   ]
  },
  {
   "cell_type": "markdown",
   "metadata": {},
   "source": [
    "Вариант 1 "
   ]
  },
  {
   "cell_type": "code",
   "execution_count": 15,
   "metadata": {},
   "outputs": [
    {
     "data": {
      "text/plain": [
       "'yandex'"
      ]
     },
     "execution_count": 15,
     "metadata": {},
     "output_type": "execute_result"
    }
   ],
   "source": [
    "stats = {'facebook': 55, 'yandex': 120, 'vk': 115, 'google': 99, 'email': 42, 'ok': 98}\n",
    "\n",
    "max(stats, key=lambda key: stats[key])"
   ]
  },
  {
   "cell_type": "markdown",
   "metadata": {},
   "source": [
    "Вариант 2"
   ]
  },
  {
   "cell_type": "code",
   "execution_count": 242,
   "metadata": {},
   "outputs": [
    {
     "name": "stdout",
     "output_type": "stream",
     "text": [
      "[120, 'yandex']\n"
     ]
    }
   ],
   "source": [
    "stats = {'facebook': 55, 'yandex': 120, 'vk': 115, 'google': 99, 'email': 42, 'ok': 98}\n",
    "\n",
    "max_budget = 0\n",
    "\n",
    "for channel, budget in stats.items():\n",
    "    if max_budget < budget:\n",
    "        max_budget_comp = channel\n",
    "        max_budget = budget\n",
    "\n",
    "print(max_budget_comp)"
   ]
  },
  {
   "cell_type": "markdown",
   "metadata": {},
   "source": [
    "Задание 5"
   ]
  },
  {
   "cell_type": "code",
   "execution_count": 3,
   "metadata": {},
   "outputs": [
    {
     "name": "stdout",
     "output_type": "stream",
     "text": [
      "{'2018-01-01': {'yandex': {'cpc': {100: {50: 6}}}}}\n"
     ]
    }
   ],
   "source": [
    "list_test = ['2018-01-01', 'yandex', 'cpc', 100, 50, 6]\n",
    "\n",
    "list_result_v2 = {}\n",
    "list_result_v3 = {}\n",
    "\n",
    "i = 0\n",
    "\n",
    "while list_test:\n",
    "    # Для первого шага требуется взять 2 последних элемента и добавить в словарь, как ключ и значение.\n",
    "    if i == 0:\n",
    "        *list_test, coupl_2, coupl, = list_test\n",
    "        list_result_v2[coupl_2] = coupl\n",
    "        i = 1\n",
    "    # Далее берем по 1 элементу и добавляем, как ключ, а предыдущий словарь добавляем значением.\n",
    "    elif i == 1:\n",
    "        *list_test, coupl = list_test\n",
    "        list_result_v3[coupl] = list_result_v2\n",
    "        i = 2\n",
    "        list_result_v2 = {}\n",
    "    else :\n",
    "        *list_test,coupl = list_test\n",
    "        list_result_v2[coupl] = list_result_v3\n",
    "        i = 1\n",
    "        list_result_v3 = {}             \n",
    "        \n",
    "if i == 1: \n",
    "    print(list_result_v2)\n",
    "else:\n",
    "    print(list_result_v3)    "
   ]
  },
  {
   "cell_type": "code",
   "execution_count": null,
   "metadata": {},
   "outputs": [],
   "source": []
  }
 ],
 "metadata": {
  "kernelspec": {
   "display_name": "Python 3",
   "language": "python",
   "name": "python3"
  },
  "language_info": {
   "codemirror_mode": {
    "name": "ipython",
    "version": 3
   },
   "file_extension": ".py",
   "mimetype": "text/x-python",
   "name": "python",
   "nbconvert_exporter": "python",
   "pygments_lexer": "ipython3",
   "version": "3.7.6"
  }
 },
 "nbformat": 4,
 "nbformat_minor": 4
}
