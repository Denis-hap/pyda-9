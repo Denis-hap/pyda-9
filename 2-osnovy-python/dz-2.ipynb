{
 "cells": [
  {
   "cell_type": "markdown",
   "metadata": {},
   "source": [
    "Задание1"
   ]
  },
  {
   "cell_type": "code",
   "execution_count": 32,
   "metadata": {},
   "outputs": [
    {
     "data": {
      "text/plain": [
       "True"
      ]
     },
     "execution_count": 32,
     "metadata": {},
     "output_type": "execute_result"
    }
   ],
   "source": [
    "long_phrase = 'Насколько проще было бы писать программы, если бы не заказчики'\n",
    "short_phrase = '640Кб должно хватить для любых задач. Билл Гейтс (по легенде)'\n",
    "\n",
    "len(long_phrase) > len(short_phrase)"
   ]
  },
  {
   "cell_type": "markdown",
   "metadata": {},
   "source": [
    "Задание 2"
   ]
  },
  {
   "cell_type": "code",
   "execution_count": 13,
   "metadata": {},
   "outputs": [
    {
     "name": "stdout",
     "output_type": "stream",
     "text": [
      "Введите объем файла в байтах: 10235\n",
      "Объем файла равен: 0.01 Mb\n"
     ]
    }
   ],
   "source": [
    "file_volume_byte = int(input('Введите объем файла в байтах: '))\n",
    "\n",
    "file_volume_mb = file_volume_byte / 2**20\n",
    "\n",
    "print ('Объем файла равен:', \"%.2f\" % file_volume_mb, 'Mb')"
   ]
  },
  {
   "cell_type": "markdown",
   "metadata": {},
   "source": [
    "Задание 3"
   ]
  },
  {
   "cell_type": "code",
   "execution_count": 24,
   "metadata": {},
   "outputs": [
    {
     "name": "stdout",
     "output_type": "stream",
     "text": [
      "Введите месяц: Март\n",
      "Введите число: 6\n",
      "Рыбы\n"
     ]
    }
   ],
   "source": [
    "month = input('Введите месяц: ')\n",
    "day = int(input('Введите число: '))\n",
    "\n",
    "if ((31 >= day >= 20) and (month == 'Январь')) or (( 1 <= day <= 19) and (month == 'Февраль')):\n",
    "    print('Водолей')\n",
    "elif (29 >= day >= 20) and (month == 'Февраль') or (( 1 <= day <= 20) and (month == 'Март')):\n",
    "    print('Рыбы')\n",
    "elif (31 >= day >= 21) and (month == 'Март') or (( 1 <= day <= 19) and (month == 'Апрель')):\n",
    "    print('Овен')\n",
    "elif (30 >= day >= 20) and (month == 'Апрель') or (( 1 <= day <= 20) and (month == 'Май')):\n",
    "    print('Телец')\n",
    "elif (31 >= day >= 21) and (month == 'Май') or (( 1 <= day <= 20) and (month == 'Июнь')):\n",
    "    print('Близницы')\n",
    "elif (30 >= day >= 21) and (month == 'Июнь') or (( 1 <= day <= 22) and (month == 'Июль')):\n",
    "    print('Рак')\n",
    "elif (31 >= day >= 23) and (month == 'Июль') or (( 1 <= day <= 22) and (month == 'Август')):\n",
    "    print('Лев')\n",
    "elif (31 >= day >= 23) and (month == 'Август') or (( 1 <= day <= 22) and (month == 'Сентябрь')):\n",
    "    print('Дева')\n",
    "elif (30 >= day >= 23) and (month == 'Сентябрь') or (( 1 <= day <= 23) and (month == 'Октябрь')):\n",
    "    print('Весы')\n",
    "elif (31 >= day >= 24) and (month == 'Октябрь') or (( 1 <= day <= 22) and (month == 'Ноябрь')):\n",
    "    print('Скорпион')\n",
    "elif (30 >= day >= 23) and (month == 'Ноябрь') or (( 1 <= day <= 21) and (month == 'Декабрь')):\n",
    "    print('Стрелец')\n",
    "elif (31 >= day >= 21) and (month == 'Декабрь') or (( 1 <= day <= 19) and (month == 'Январь')):\n",
    "    print('Козерог')\n",
    "else:\n",
    "    print('Дата введена неверно')\n"
   ]
  },
  {
   "cell_type": "markdown",
   "metadata": {},
   "source": [
    "Задание 4"
   ]
  },
  {
   "cell_type": "code",
   "execution_count": 31,
   "metadata": {},
   "outputs": [
    {
     "name": "stdout",
     "output_type": "stream",
     "text": [
      "Введите заработную плату: 100000\n",
      "Введите процент от ЗП на ипотеку: 30\n",
      "Введите процент от ЗП на жизнь: 50\n",
      "Введите сколько раз приходит премия: 2\n",
      "На ипотеку было потрачено: 360000\n",
      "Было накоплено: 340000\n"
     ]
    }
   ],
   "source": [
    "salary = int(input('Введите заработную плату: '))\n",
    "interest_mortgage = int(input('Введите процент от ЗП на ипотеку: '))\n",
    "interest_life = int(input('Введите процент от ЗП на жизнь: '))\n",
    "prize = int(input('Введите сколько раз приходит премия: '))\n",
    "\n",
    "\n",
    "salary_year = salary * 12 # Сколько всего было заработано за 1 год\n",
    "prize_year = salary * prize # Сумма всей выданной премии\n",
    "\n",
    "mortgage_year = salary_year * (interest_mortgage / 100) # Считаем сколько уплатили за ипотеку за год (сумма за год * на % ипотеки)\n",
    "\n",
    "# Из общей ЗП вычитаем % по ипотеке и % затрат на жизнь. Далее прибавляем 50% от суммы всех премий \n",
    "capital = salary_year - mortgage_year - (salary_year * (interest_life / 100)) + (prize_year / 2) \n",
    "\n",
    "\n",
    "\n",
    "print('На ипотеку было потрачено:', \"%.0f\" % mortgage_year)\n",
    "\n",
    "print('Было накоплено:', \"%.0f\" % capital)\n",
    "\n"
   ]
  },
  {
   "cell_type": "markdown",
   "metadata": {},
   "source": []
  },
  {
   "cell_type": "code",
   "execution_count": null,
   "metadata": {},
   "outputs": [],
   "source": []
  }
 ],
 "metadata": {
  "kernelspec": {
   "display_name": "Python 3",
   "language": "python",
   "name": "python3"
  },
  "language_info": {
   "codemirror_mode": {
    "name": "ipython",
    "version": 3
   },
   "file_extension": ".py",
   "mimetype": "text/x-python",
   "name": "python",
   "nbconvert_exporter": "python",
   "pygments_lexer": "ipython3",
   "version": "3.7.6"
  }
 },
 "nbformat": 4,
 "nbformat_minor": 4
}
